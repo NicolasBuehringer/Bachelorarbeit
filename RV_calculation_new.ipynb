{
 "cells": [
  {
   "cell_type": "code",
   "execution_count": 1,
   "id": "179e2cf8-d65f-4986-a879-5a167cbd2871",
   "metadata": {},
   "outputs": [],
   "source": [
    "import pandas as pd\n",
    "import numpy as np\n",
    "import matplotlib.pyplot as plt\n",
    "from sklearn.preprocessing import MinMaxScaler\n",
    "\n",
    "pd.options.mode.chained_assignment = None"
   ]
  },
  {
   "cell_type": "code",
   "execution_count": 3,
   "id": "50cd31f0-07bc-42c8-9ff5-eb5237dc35ae",
   "metadata": {},
   "outputs": [
    {
     "name": "stdout",
     "output_type": "stream",
     "text": [
      "RV_calculation.ipynb     RV_calculation_new.ipynb \u001b[1m\u001b[36mraw_data\u001b[m\u001b[m\n"
     ]
    }
   ],
   "source": [
    "!ls"
   ]
  },
  {
   "cell_type": "code",
   "execution_count": 380,
   "id": "393b5294-937a-4776-9551-d584e3b4bd57",
   "metadata": {},
   "outputs": [],
   "source": [
    "ibm_df = pd.read_csv(\"raw_data/3Stocks/IBM_1min.csv\")\n",
    "jnj_df = pd.read_csv(\"raw_data/3Stocks/JNJ_1min.csv\")\n",
    "wmt_df = pd.read_csv(\"raw_data/3Stocks/WMT_1min.csv\")"
   ]
  },
  {
   "cell_type": "code",
   "execution_count": 381,
   "id": "b0986e53-b616-46ba-b657-b570b176deed",
   "metadata": {},
   "outputs": [],
   "source": [
    "ibm_df['Date Time'] = pd.to_datetime(ibm_df['Date Time'])\n",
    "jnj_df['Date Time'] = pd.to_datetime(jnj_df['Date Time'])\n",
    "wmt_df['Date Time'] = pd.to_datetime(wmt_df['Date Time'])"
   ]
  },
  {
   "cell_type": "code",
   "execution_count": 382,
   "id": "b5e91aeb-32ea-490f-9bc8-862b1a430d31",
   "metadata": {},
   "outputs": [],
   "source": [
    "ibm_df['Log_Returns'] = np.log(ibm_df['Close'] / ibm_df['Close'].shift(1))\n",
    "jnj_df['Log_Returns'] = np.log(jnj_df['Close'] / jnj_df['Close'].shift(1))\n",
    "wmt_df['Log_Returns'] = np.log(wmt_df['Close'] / wmt_df['Close'].shift(1))\n",
    "ibm_df.dropna(inplace=True)\n",
    "jnj_df.dropna(inplace=True)\n",
    "wmt_df.dropna(inplace=True)"
   ]
  },
  {
   "cell_type": "code",
   "execution_count": 404,
   "id": "37518a11-cf18-4267-ba07-9197336d723a",
   "metadata": {},
   "outputs": [],
   "source": [
    "ibm_df = ibm_df.iloc[380:]\n",
    "ibm_df.reset_index(drop=True, inplace=True)\n",
    "\n",
    "jnj_df = jnj_df.iloc[380:]\n",
    "jnj_df.reset_index(drop=True, inplace=True)\n",
    "\n",
    "wmt_df = wmt_df.iloc[380:]\n",
    "wmt_df.reset_index(drop=True, inplace=True)"
   ]
  },
  {
   "cell_type": "code",
   "execution_count": 402,
   "id": "c3101303-31c0-49f9-ac6c-36672159ab24",
   "metadata": {},
   "outputs": [],
   "source": [
    "observations_per_day = jnj_df.groupby(jnj_df['Date Time'].dt.date).size()"
   ]
  },
  {
   "cell_type": "code",
   "execution_count": 403,
   "id": "9f52b42e-f18b-4d56-a622-85baae9d0f04",
   "metadata": {},
   "outputs": [
    {
     "data": {
      "text/plain": [
       "array([380, 381])"
      ]
     },
     "execution_count": 403,
     "metadata": {},
     "output_type": "execute_result"
    }
   ],
   "source": [
    "trading_hours = observations_per_day.unique()\n",
    "trading_hours"
   ]
  },
  {
   "cell_type": "code",
   "execution_count": 395,
   "id": "21f83287-7a26-47df-8c2c-0931e4947d7a",
   "metadata": {},
   "outputs": [
    {
     "data": {
      "text/html": [
       "<div>\n",
       "<style scoped>\n",
       "    .dataframe tbody tr th:only-of-type {\n",
       "        vertical-align: middle;\n",
       "    }\n",
       "\n",
       "    .dataframe tbody tr th {\n",
       "        vertical-align: top;\n",
       "    }\n",
       "\n",
       "    .dataframe thead th {\n",
       "        text-align: right;\n",
       "    }\n",
       "</style>\n",
       "<table border=\"1\" class=\"dataframe\">\n",
       "  <thead>\n",
       "    <tr style=\"text-align: right;\">\n",
       "      <th></th>\n",
       "      <th>Date Time</th>\n",
       "      <th>Open</th>\n",
       "      <th>High</th>\n",
       "      <th>Low</th>\n",
       "      <th>Close</th>\n",
       "      <th>Volume</th>\n",
       "      <th>Date</th>\n",
       "      <th>Time</th>\n",
       "      <th>Log_Returns</th>\n",
       "    </tr>\n",
       "  </thead>\n",
       "  <tbody>\n",
       "    <tr>\n",
       "      <th>0</th>\n",
       "      <td>2010-01-05 09:35:00</td>\n",
       "      <td>84.6767</td>\n",
       "      <td>84.8516</td>\n",
       "      <td>84.6767</td>\n",
       "      <td>84.7415</td>\n",
       "      <td>123004.0</td>\n",
       "      <td>2010-01-05</td>\n",
       "      <td>09:35:00</td>\n",
       "      <td>-0.012680</td>\n",
       "    </tr>\n",
       "    <tr>\n",
       "      <th>1</th>\n",
       "      <td>2010-01-05 09:36:00</td>\n",
       "      <td>84.7415</td>\n",
       "      <td>84.7544</td>\n",
       "      <td>84.6638</td>\n",
       "      <td>84.7318</td>\n",
       "      <td>101782.0</td>\n",
       "      <td>2010-01-05</td>\n",
       "      <td>09:36:00</td>\n",
       "      <td>-0.000114</td>\n",
       "    </tr>\n",
       "    <tr>\n",
       "      <th>2</th>\n",
       "      <td>2010-01-05 09:37:00</td>\n",
       "      <td>84.7415</td>\n",
       "      <td>84.7933</td>\n",
       "      <td>84.7221</td>\n",
       "      <td>84.7577</td>\n",
       "      <td>30386.0</td>\n",
       "      <td>2010-01-05</td>\n",
       "      <td>09:37:00</td>\n",
       "      <td>0.000306</td>\n",
       "    </tr>\n",
       "    <tr>\n",
       "      <th>3</th>\n",
       "      <td>2010-01-05 09:38:00</td>\n",
       "      <td>84.7544</td>\n",
       "      <td>84.7609</td>\n",
       "      <td>84.7091</td>\n",
       "      <td>84.7285</td>\n",
       "      <td>45357.0</td>\n",
       "      <td>2010-01-05</td>\n",
       "      <td>09:38:00</td>\n",
       "      <td>-0.000345</td>\n",
       "    </tr>\n",
       "    <tr>\n",
       "      <th>4</th>\n",
       "      <td>2010-01-05 09:39:00</td>\n",
       "      <td>84.7285</td>\n",
       "      <td>84.7285</td>\n",
       "      <td>84.6832</td>\n",
       "      <td>84.7026</td>\n",
       "      <td>37723.0</td>\n",
       "      <td>2010-01-05</td>\n",
       "      <td>09:39:00</td>\n",
       "      <td>-0.000306</td>\n",
       "    </tr>\n",
       "    <tr>\n",
       "      <th>...</th>\n",
       "      <td>...</td>\n",
       "      <td>...</td>\n",
       "      <td>...</td>\n",
       "      <td>...</td>\n",
       "      <td>...</td>\n",
       "      <td>...</td>\n",
       "      <td>...</td>\n",
       "      <td>...</td>\n",
       "      <td>...</td>\n",
       "    </tr>\n",
       "    <tr>\n",
       "      <th>958210</th>\n",
       "      <td>2019-12-31 15:51:00</td>\n",
       "      <td>114.7837</td>\n",
       "      <td>114.8095</td>\n",
       "      <td>114.7794</td>\n",
       "      <td>114.8095</td>\n",
       "      <td>20723.0</td>\n",
       "      <td>2019-12-31</td>\n",
       "      <td>15:51:00</td>\n",
       "      <td>0.000225</td>\n",
       "    </tr>\n",
       "    <tr>\n",
       "      <th>958211</th>\n",
       "      <td>2019-12-31 15:52:00</td>\n",
       "      <td>114.8095</td>\n",
       "      <td>114.8438</td>\n",
       "      <td>114.8052</td>\n",
       "      <td>114.8438</td>\n",
       "      <td>24968.0</td>\n",
       "      <td>2019-12-31</td>\n",
       "      <td>15:52:00</td>\n",
       "      <td>0.000299</td>\n",
       "    </tr>\n",
       "    <tr>\n",
       "      <th>958212</th>\n",
       "      <td>2019-12-31 15:53:00</td>\n",
       "      <td>114.8524</td>\n",
       "      <td>114.9038</td>\n",
       "      <td>114.8524</td>\n",
       "      <td>114.9038</td>\n",
       "      <td>39332.0</td>\n",
       "      <td>2019-12-31</td>\n",
       "      <td>15:53:00</td>\n",
       "      <td>0.000522</td>\n",
       "    </tr>\n",
       "    <tr>\n",
       "      <th>958213</th>\n",
       "      <td>2019-12-31 15:54:00</td>\n",
       "      <td>114.9038</td>\n",
       "      <td>114.9296</td>\n",
       "      <td>114.8910</td>\n",
       "      <td>114.9038</td>\n",
       "      <td>20436.0</td>\n",
       "      <td>2019-12-31</td>\n",
       "      <td>15:54:00</td>\n",
       "      <td>0.000000</td>\n",
       "    </tr>\n",
       "    <tr>\n",
       "      <th>958214</th>\n",
       "      <td>2019-12-31 15:55:00</td>\n",
       "      <td>114.9038</td>\n",
       "      <td>114.9553</td>\n",
       "      <td>114.8995</td>\n",
       "      <td>114.9467</td>\n",
       "      <td>30605.0</td>\n",
       "      <td>2019-12-31</td>\n",
       "      <td>15:55:00</td>\n",
       "      <td>0.000373</td>\n",
       "    </tr>\n",
       "  </tbody>\n",
       "</table>\n",
       "<p>958215 rows × 9 columns</p>\n",
       "</div>"
      ],
      "text/plain": [
       "                 Date Time      Open      High       Low     Close    Volume  \\\n",
       "0      2010-01-05 09:35:00   84.6767   84.8516   84.6767   84.7415  123004.0   \n",
       "1      2010-01-05 09:36:00   84.7415   84.7544   84.6638   84.7318  101782.0   \n",
       "2      2010-01-05 09:37:00   84.7415   84.7933   84.7221   84.7577   30386.0   \n",
       "3      2010-01-05 09:38:00   84.7544   84.7609   84.7091   84.7285   45357.0   \n",
       "4      2010-01-05 09:39:00   84.7285   84.7285   84.6832   84.7026   37723.0   \n",
       "...                    ...       ...       ...       ...       ...       ...   \n",
       "958210 2019-12-31 15:51:00  114.7837  114.8095  114.7794  114.8095   20723.0   \n",
       "958211 2019-12-31 15:52:00  114.8095  114.8438  114.8052  114.8438   24968.0   \n",
       "958212 2019-12-31 15:53:00  114.8524  114.9038  114.8524  114.9038   39332.0   \n",
       "958213 2019-12-31 15:54:00  114.9038  114.9296  114.8910  114.9038   20436.0   \n",
       "958214 2019-12-31 15:55:00  114.9038  114.9553  114.8995  114.9467   30605.0   \n",
       "\n",
       "              Date      Time  Log_Returns  \n",
       "0       2010-01-05  09:35:00    -0.012680  \n",
       "1       2010-01-05  09:36:00    -0.000114  \n",
       "2       2010-01-05  09:37:00     0.000306  \n",
       "3       2010-01-05  09:38:00    -0.000345  \n",
       "4       2010-01-05  09:39:00    -0.000306  \n",
       "...            ...       ...          ...  \n",
       "958210  2019-12-31  15:51:00     0.000225  \n",
       "958211  2019-12-31  15:52:00     0.000299  \n",
       "958212  2019-12-31  15:53:00     0.000522  \n",
       "958213  2019-12-31  15:54:00     0.000000  \n",
       "958214  2019-12-31  15:55:00     0.000373  \n",
       "\n",
       "[958215 rows x 9 columns]"
      ]
     },
     "execution_count": 395,
     "metadata": {},
     "output_type": "execute_result"
    }
   ],
   "source": [
    "ibm_df"
   ]
  },
  {
   "cell_type": "code",
   "execution_count": 394,
   "id": "eed97794-9e69-4cc4-8333-b8750fe64118",
   "metadata": {},
   "outputs": [],
   "source": [
    "ibm_df = ibm_df.iloc[380:]\n",
    "ibm_df.reset_index(drop=True, inplace=True)"
   ]
  },
  {
   "cell_type": "code",
   "execution_count": null,
   "id": "f3dfdbbf-117f-4eea-937e-6ee730e6e702",
   "metadata": {},
   "outputs": [],
   "source": [
    "380+381+381+381"
   ]
  },
  {
   "cell_type": "markdown",
   "id": "11cfaf84-0844-4470-8ee3-42d90edcdf24",
   "metadata": {},
   "source": [
    "2010-01-04: 9:36:00 - 15:55:00\n",
    "2010-01-05: 9:35:00 - 15:55:00\n",
    "2010-01-06: 9:35:00 - 15:55:00"
   ]
  },
  {
   "cell_type": "code",
   "execution_count": 127,
   "id": "5477000d-1f99-499b-8d6a-6a9f80188a7a",
   "metadata": {},
   "outputs": [],
   "source": [
    "log_return_mean = ibm_df[\"Log_Returns\"].mean()"
   ]
  },
  {
   "cell_type": "code",
   "execution_count": 219,
   "id": "993d1050-e205-4b85-ba4a-6976480b5967",
   "metadata": {},
   "outputs": [],
   "source": [
    "ibm_df[\"mean_deviation\"] = ibm_df[\"Log_Returns\"].apply(lambda x: (x - log_return_mean)**2)"
   ]
  },
  {
   "cell_type": "code",
   "execution_count": 224,
   "id": "599d7977-eb48-4c8b-9e4c-d32d4400eee1",
   "metadata": {},
   "outputs": [],
   "source": [
    "ibm_daily_volatility = (ibm_df.groupby(ibm_df['Date Time'].dt.date)[\"mean_deviation\"].sum()/trading_hours)**0.5"
   ]
  },
  {
   "cell_type": "code",
   "execution_count": null,
   "id": "b4f4b94b-5163-43f9-941b-d8be050652af",
   "metadata": {},
   "outputs": [],
   "source": [
    "def create_full_image(stock_data):\n",
    "\n",
    "    df = stock_data\n",
    "\n",
    "    df['Date Time'] = pd.to_datetime(df['Date Time'])\n",
    "    ibm_df['Log_Returns'] = np.log(ibm_df['Close'] / ibm_df['Close'].shift(1))\n",
    "\n",
    "    \n",
    "    observations_per_day = tmp.groupby(tmp['Date Time'].dt.date).size()\n",
    "    trading_hours = observations_per_day.unique()[0]\n",
    "\n",
    "    log_return_mean = ibm_df[\"Log_Returns\"].mean()\n",
    "    ibm_df[\"mean_deviation\"] = ibm_df[\"Log_Returns\"].apply(lambda x: (x - log_return_mean)**2)\n",
    "\n",
    "    ibm_daily_volatility = (ibm_df.groupby(ibm_df['Date Time'].dt.date)[\"mean_deviation\"].sum()/trading_hours)**0.5\n",
    "\n",
    "    "
   ]
  },
  {
   "cell_type": "markdown",
   "id": "fc2066ae-d7b7-4705-8d99-3f1a4831f929",
   "metadata": {},
   "source": [
    "# Data Insights"
   ]
  },
  {
   "cell_type": "code",
   "execution_count": 166,
   "id": "801a3b54-724d-4ff9-b1a3-7c4bcc05b6ee",
   "metadata": {},
   "outputs": [
    {
     "data": {
      "text/html": [
       "<div>\n",
       "<style scoped>\n",
       "    .dataframe tbody tr th:only-of-type {\n",
       "        vertical-align: middle;\n",
       "    }\n",
       "\n",
       "    .dataframe tbody tr th {\n",
       "        vertical-align: top;\n",
       "    }\n",
       "\n",
       "    .dataframe thead th {\n",
       "        text-align: right;\n",
       "    }\n",
       "</style>\n",
       "<table border=\"1\" class=\"dataframe\">\n",
       "  <thead>\n",
       "    <tr style=\"text-align: right;\">\n",
       "      <th></th>\n",
       "      <th>Date Time</th>\n",
       "      <th>Open</th>\n",
       "      <th>High</th>\n",
       "      <th>Low</th>\n",
       "      <th>Close</th>\n",
       "      <th>Volume</th>\n",
       "      <th>Date</th>\n",
       "      <th>Time</th>\n",
       "      <th>Log_Returns</th>\n",
       "      <th>volaility</th>\n",
       "      <th>volatility</th>\n",
       "    </tr>\n",
       "  </thead>\n",
       "  <tbody>\n",
       "    <tr>\n",
       "      <th>794921</th>\n",
       "      <td>2018-04-18 12:10:00</td>\n",
       "      <td>117.9897</td>\n",
       "      <td>118.0921</td>\n",
       "      <td>117.9579</td>\n",
       "      <td>118.0016</td>\n",
       "      <td>35686.0</td>\n",
       "      <td>2018-04-18</td>\n",
       "      <td>12:10:00</td>\n",
       "      <td>0.000370</td>\n",
       "      <td>0.000370</td>\n",
       "      <td>1.369669e-07</td>\n",
       "    </tr>\n",
       "    <tr>\n",
       "      <th>794922</th>\n",
       "      <td>2018-04-18 12:11:00</td>\n",
       "      <td>118.0016</td>\n",
       "      <td>127.7209</td>\n",
       "      <td>117.9897</td>\n",
       "      <td>127.7209</td>\n",
       "      <td>21200.0</td>\n",
       "      <td>2018-04-18</td>\n",
       "      <td>12:11:00</td>\n",
       "      <td>0.079149</td>\n",
       "      <td>0.079149</td>\n",
       "      <td>6.264551e-03</td>\n",
       "    </tr>\n",
       "    <tr>\n",
       "      <th>794923</th>\n",
       "      <td>2018-04-18 12:12:00</td>\n",
       "      <td>118.0413</td>\n",
       "      <td>118.0611</td>\n",
       "      <td>118.0055</td>\n",
       "      <td>118.0325</td>\n",
       "      <td>13916.0</td>\n",
       "      <td>2018-04-18</td>\n",
       "      <td>12:12:00</td>\n",
       "      <td>-0.078887</td>\n",
       "      <td>-0.078888</td>\n",
       "      <td>6.223272e-03</td>\n",
       "    </tr>\n",
       "    <tr>\n",
       "      <th>794924</th>\n",
       "      <td>2018-04-18 12:13:00</td>\n",
       "      <td>118.0254</td>\n",
       "      <td>118.0611</td>\n",
       "      <td>118.0214</td>\n",
       "      <td>118.0373</td>\n",
       "      <td>12823.0</td>\n",
       "      <td>2018-04-18</td>\n",
       "      <td>12:13:00</td>\n",
       "      <td>0.000041</td>\n",
       "      <td>0.000040</td>\n",
       "      <td>1.628428e-09</td>\n",
       "    </tr>\n",
       "  </tbody>\n",
       "</table>\n",
       "</div>"
      ],
      "text/plain": [
       "                 Date Time      Open      High       Low     Close   Volume  \\\n",
       "794921 2018-04-18 12:10:00  117.9897  118.0921  117.9579  118.0016  35686.0   \n",
       "794922 2018-04-18 12:11:00  118.0016  127.7209  117.9897  127.7209  21200.0   \n",
       "794923 2018-04-18 12:12:00  118.0413  118.0611  118.0055  118.0325  13916.0   \n",
       "794924 2018-04-18 12:13:00  118.0254  118.0611  118.0214  118.0373  12823.0   \n",
       "\n",
       "              Date      Time  Log_Returns  volaility    volatility  \n",
       "794921  2018-04-18  12:10:00     0.000370   0.000370  1.369669e-07  \n",
       "794922  2018-04-18  12:11:00     0.079149   0.079149  6.264551e-03  \n",
       "794923  2018-04-18  12:12:00    -0.078887  -0.078888  6.223272e-03  \n",
       "794924  2018-04-18  12:13:00     0.000041   0.000040  1.628428e-09  "
      ]
     },
     "execution_count": 166,
     "metadata": {},
     "output_type": "execute_result"
    }
   ],
   "source": [
    "ibm_df.iloc[794919:794923]"
   ]
  },
  {
   "cell_type": "code",
   "execution_count": 185,
   "id": "f2bb546b-36de-4913-94cb-a4ed577a3d9a",
   "metadata": {},
   "outputs": [
    {
     "data": {
      "text/plain": [
       "867918    0.080164\n",
       "794922    0.079149\n",
       "747522    0.076530\n",
       "292608    0.048386\n",
       "587121    0.042518\n",
       "819150    0.035161\n",
       "244221    0.034949\n",
       "33147     0.031170\n",
       "770763    0.028511\n",
       "147828    0.027408\n",
       "Name: Log_Returns, dtype: float64"
      ]
     },
     "execution_count": 185,
     "metadata": {},
     "output_type": "execute_result"
    }
   ],
   "source": [
    "ibm_df[\"Log_Returns\"].nlargest(10)"
   ]
  },
  {
   "cell_type": "code",
   "execution_count": 180,
   "id": "fbc8536a-c3a2-44c2-a91b-bb7bf86d4801",
   "metadata": {},
   "outputs": [],
   "source": [
    "q_low = jnj_df[\"Log_Returns\"].quantile(0.01)\n",
    "q_hi  = jnj_df[\"Log_Returns\"].quantile(0.99)"
   ]
  },
  {
   "cell_type": "code",
   "execution_count": 181,
   "id": "1fd41d49-6f6a-4bff-af66-1c68a2c82fa2",
   "metadata": {},
   "outputs": [],
   "source": [
    "df_filtered = jnj_df[(jnj_df[\"Log_Returns\"] < q_hi) & (jnj_df[\"Log_Returns\"] > q_low)]"
   ]
  },
  {
   "cell_type": "code",
   "execution_count": 184,
   "id": "b0000d87-e8ec-4676-b855-ab45935830d3",
   "metadata": {},
   "outputs": [
    {
     "data": {
      "text/plain": [
       "(array([  7748.,  17736.,  45394., 115551., 332087., 233255., 116581.,\n",
       "         45171.,  17995.,   7905.]),\n",
       " array([-1.18405736e-03, -9.47071597e-04, -7.10085832e-04, -4.73100066e-04,\n",
       "        -2.36114300e-04,  8.71465774e-07,  2.37857232e-04,  4.74842997e-04,\n",
       "         7.11828763e-04,  9.48814529e-04,  1.18580029e-03]),\n",
       " <BarContainer object of 10 artists>)"
      ]
     },
     "execution_count": 184,
     "metadata": {},
     "output_type": "execute_result"
    },
    {
     "data": {
      "image/png": "[encoded data removed]",
      "text/plain": [
       "<Figure size 640x480 with 1 Axes>"
      ]
     },
     "metadata": {},
     "output_type": "display_data"
    }
   ],
   "source": [
    "plt.hist(df_filtered[\"Log_Returns\"])"
   ]
  },
  {
   "cell_type": "code",
   "execution_count": 178,
   "id": "4d1d7328-9327-4bf3-899b-19add9c5441c",
   "metadata": {},
   "outputs": [
    {
     "data": {
      "text/plain": [
       "540639   -0.102017\n",
       "858393   -0.040737\n",
       "858774   -0.029305\n",
       "913005   -0.029194\n",
       "776051   -0.027473\n",
       "483489   -0.026836\n",
       "32694    -0.025722\n",
       "160782   -0.025706\n",
       "698754   -0.024800\n",
       "51816    -0.024458\n",
       "101727   -0.022819\n",
       "575310   -0.021826\n",
       "867537   -0.021670\n",
       "676656   -0.021036\n",
       "176022   -0.020850\n",
       "913638   -0.020522\n",
       "939165   -0.020233\n",
       "542925   -0.019594\n",
       "76200    -0.019038\n",
       "162306   -0.018779\n",
       "Name: Log_Returns, dtype: float64"
      ]
     },
     "execution_count": 178,
     "metadata": {},
     "output_type": "execute_result"
    }
   ],
   "source": [
    "jnj_df[\"Log_Returns\"].nsmallest(20)"
   ]
  },
  {
   "cell_type": "code",
   "execution_count": 158,
   "id": "b05153d3-0824-43f2-9390-618ba5120a23",
   "metadata": {},
   "outputs": [
    {
     "data": {
      "text/plain": [
       "{'whiskers': [<matplotlib.lines.Line2D at 0x357c875e0>,\n",
       "  <matplotlib.lines.Line2D at 0x357c87880>],\n",
       " 'caps': [<matplotlib.lines.Line2D at 0x357c87b20>,\n",
       "  <matplotlib.lines.Line2D at 0x357c87dc0>],\n",
       " 'boxes': [<matplotlib.lines.Line2D at 0x357c87340>],\n",
       " 'medians': [<matplotlib.lines.Line2D at 0x357c960a0>],\n",
       " 'fliers': [<matplotlib.lines.Line2D at 0x357c62b20>],\n",
       " 'means': []}"
      ]
     },
     "execution_count": 158,
     "metadata": {},
     "output_type": "execute_result"
    },
    {
     "data": {
      "image/png": "[encoded data removed]",
      "text/plain": [
       "<Figure size 640x480 with 1 Axes>"
      ]
     },
     "metadata": {},
     "output_type": "display_data"
    }
   ],
   "source": [
    "plt.boxplot(ibm_df[\"Log_Returns\"])"
   ]
  },
  {
   "cell_type": "code",
   "execution_count": 143,
   "id": "50e755b9-c4a0-424f-8722-09c622a7a006",
   "metadata": {},
   "outputs": [
    {
     "data": {
      "text/plain": [
       "(array([6.00000e+00, 6.00000e+00, 1.50000e+01, 3.70000e+01, 8.98795e+05,\n",
       "        5.96980e+04, 3.10000e+01, 3.00000e+00, 1.00000e+00, 3.00000e+00]),\n",
       " array([-0.0788874 , -0.06298231, -0.04707722, -0.03117213, -0.01526703,\n",
       "         0.00063806,  0.01654315,  0.03244825,  0.04835334,  0.06425843,\n",
       "         0.08016352]),\n",
       " <BarContainer object of 10 artists>)"
      ]
     },
     "execution_count": 143,
     "metadata": {},
     "output_type": "execute_result"
    },
    {
     "data": {
      "image/png": "[encoded data removed]",
      "text/plain": [
       "<Figure size 640x480 with 1 Axes>"
      ]
     },
     "metadata": {},
     "output_type": "display_data"
    }
   ],
   "source": [
    "plt.hist(ibm_df[\"Log_Returns\"], bins=10)"
   ]
  },
  {
   "cell_type": "code",
   "execution_count": 187,
   "id": "ee225d85-ee1e-4e10-a4c2-40704df38935",
   "metadata": {},
   "outputs": [],
   "source": [
    "daily_log_returns_large = ibm_df.resample('D', on='Date Time').sum()[\"Log_Returns\"]"
   ]
  },
  {
   "cell_type": "markdown",
   "id": "14317dce-c420-4087-b9b7-721662e42680",
   "metadata": {},
   "source": [
    "# Creating image"
   ]
  },
  {
   "cell_type": "code",
   "execution_count": 247,
   "id": "93233639-dbcb-4ffa-b801-28d34773aef2",
   "metadata": {},
   "outputs": [
    {
     "data": {
      "text/plain": [
       "2500"
      ]
     },
     "execution_count": 247,
     "metadata": {},
     "output_type": "execute_result"
    }
   ],
   "source": [
    "50*50"
   ]
  },
  {
   "cell_type": "code",
   "execution_count": 271,
   "id": "0744a6f2-6c42-4779-b000-c384d0a17e69",
   "metadata": {},
   "outputs": [],
   "source": [
    "ibm_daily_volatility_diff = ibm_daily_volatility.diff().dropna()"
   ]
  },
  {
   "cell_type": "code",
   "execution_count": 230,
   "id": "0f256155-1235-417a-891c-5127691df6f6",
   "metadata": {},
   "outputs": [],
   "source": [
    "mm_scaler_x = MinMaxScaler(feature_range=(-255,255))"
   ]
  },
  {
   "cell_type": "code",
   "execution_count": 282,
   "id": "47647e5b-16d0-4fc2-a1f3-f8d37b4e5919",
   "metadata": {},
   "outputs": [],
   "source": [
    "pre_scale = np.reshape(ibm_daily_volatility_diff, (-1,1))"
   ]
  },
  {
   "cell_type": "code",
   "execution_count": 283,
   "id": "55d0e1a2-29f5-4538-bb12-771fb92752ac",
   "metadata": {},
   "outputs": [
    {
     "data": {
      "text/plain": [
       "(2514, 1)"
      ]
     },
     "execution_count": 283,
     "metadata": {},
     "output_type": "execute_result"
    }
   ],
   "source": [
    "pre_scale.shape"
   ]
  },
  {
   "cell_type": "code",
   "execution_count": 287,
   "id": "a9d09c6c-686d-4379-b546-4feaa68b35fa",
   "metadata": {},
   "outputs": [],
   "source": [
    "scaled_daily_vol_dif = mm_scaler_x.fit_transform(pre_scale)"
   ]
  },
  {
   "cell_type": "code",
   "execution_count": 120,
   "id": "4d55cfb7-7cb6-4559-9c03-86206a001ad8",
   "metadata": {},
   "outputs": [],
   "source": [
    "test = np.array([[255,255,0], [255,0,0],[255,0,0], [255,0,0]])"
   ]
  },
  {
   "cell_type": "code",
   "execution_count": null,
   "id": "687ba0a4-718c-4fbc-85d9-4f180029969a",
   "metadata": {},
   "outputs": [],
   "source": []
  },
  {
   "cell_type": "code",
   "execution_count": 406,
   "id": "5b3e1d4d-6843-4310-99ee-b21ba2ad9be3",
   "metadata": {},
   "outputs": [],
   "source": [
    "def create_full_image(stock_data):\n",
    "\n",
    "    df = stock_data\n",
    "    \n",
    "    observations_per_day = df.groupby(df['Date Time'].dt.date).size()\n",
    "    trading_hours = observations_per_day.unique()[0]\n",
    "\n",
    "    log_return_mean = df[\"Log_Returns\"].mean()\n",
    "    df[\"mean_deviation\"] = df[\"Log_Returns\"].apply(lambda x: (x - log_return_mean)**2)\n",
    "\n",
    "    daily_volatility = (df.groupby(df['Date Time'].dt.date)[\"mean_deviation\"].sum()/trading_hours)**0.5\n",
    "\n",
    "    \n",
    "    daily_volatility_diff = daily_volatility.diff().dropna()\n",
    "\n",
    "    pre_scale = np.reshape(daily_volatility_diff, (-1,1))\n",
    "    \n",
    "    mm_scaler_x = MinMaxScaler(feature_range=(-255,255))\n",
    "    scaled_daily_vol_dif = mm_scaler_x.fit_transform(pre_scale)\n",
    "\n",
    "    return diff_to_rgb(scaled_daily_vol_dif)\n",
    "    "
   ]
  },
  {
   "cell_type": "code",
   "execution_count": 427,
   "id": "ba44d64c-c6de-424f-bf07-84b67267f26e",
   "metadata": {},
   "outputs": [
    {
     "name": "stderr",
     "output_type": "stream",
     "text": [
      "/var/folders/31/d9mhbrs95msdp4hzv2wdsc8w0000gn/T/ipykernel_54188/3248897613.py:1: FutureWarning: Series.__getitem__ treating keys as positions is deprecated. In a future version, integer keys will always be treated as labels (consistent with DataFrame behavior). To access a value by position, use `ser.iloc[pos]`\n",
      "  ibm_daily_volatility[1] - ibm_daily_volatility[0]\n"
     ]
    },
    {
     "data": {
      "text/plain": [
       "-0.0003957153558290381"
      ]
     },
     "execution_count": 427,
     "metadata": {},
     "output_type": "execute_result"
    }
   ],
   "source": [
    "ibm_daily_volatility[1] - ibm_daily_volatility[0]"
   ]
  },
  {
   "cell_type": "code",
   "execution_count": 423,
   "id": "a609ab2a-b2c6-4a68-9b46-d9b41c378dd2",
   "metadata": {},
   "outputs": [
    {
     "data": {
      "text/plain": [
       "Date Time\n",
       "2010-01-06   -0.000396\n",
       "2010-01-07    0.000063\n",
       "2010-01-08   -0.000042\n",
       "2010-01-11    0.000184\n",
       "2010-01-12   -0.000027\n",
       "                ...   \n",
       "2019-12-24   -0.000105\n",
       "2019-12-26    0.000041\n",
       "2019-12-27    0.000043\n",
       "2019-12-30    0.000116\n",
       "2019-12-31   -0.000074\n",
       "Name: mean_deviation, Length: 2514, dtype: float64"
      ]
     },
     "execution_count": 423,
     "metadata": {},
     "output_type": "execute_result"
    }
   ],
   "source": [
    "ibm_daily_volatility_diff"
   ]
  },
  {
   "cell_type": "code",
   "execution_count": 412,
   "id": "4f617fef-91f7-4839-87df-281c2e6e662f",
   "metadata": {},
   "outputs": [
    {
     "name": "stderr",
     "output_type": "stream",
     "text": [
      "/var/folders/31/d9mhbrs95msdp4hzv2wdsc8w0000gn/T/ipykernel_54188/2922091584.py:11: DeprecationWarning: Conversion of an array with ndim > 0 to a scalar is deprecated, and will error in future. Ensure you extract a single element from your array before performing this operation. (Deprecated NumPy 1.25.)\n",
      "  red[i] = np.abs(scaled_daily_vol_dif[i])\n",
      "/var/folders/31/d9mhbrs95msdp4hzv2wdsc8w0000gn/T/ipykernel_54188/2922091584.py:13: DeprecationWarning: Conversion of an array with ndim > 0 to a scalar is deprecated, and will error in future. Ensure you extract a single element from your array before performing this operation. (Deprecated NumPy 1.25.)\n",
      "  green[i] = scaled_daily_vol_dif[i]\n"
     ]
    }
   ],
   "source": [
    "tmp = create_full_image(jnj_df)"
   ]
  },
  {
   "cell_type": "code",
   "execution_count": 413,
   "id": "db061aed-8b6e-4c8d-9ae2-1bc835deac7e",
   "metadata": {},
   "outputs": [
    {
     "name": "stderr",
     "output_type": "stream",
     "text": [
      "/var/folders/31/d9mhbrs95msdp4hzv2wdsc8w0000gn/T/ipykernel_54188/2922091584.py:11: DeprecationWarning: Conversion of an array with ndim > 0 to a scalar is deprecated, and will error in future. Ensure you extract a single element from your array before performing this operation. (Deprecated NumPy 1.25.)\n",
      "  red[i] = np.abs(scaled_daily_vol_dif[i])\n",
      "/var/folders/31/d9mhbrs95msdp4hzv2wdsc8w0000gn/T/ipykernel_54188/2922091584.py:13: DeprecationWarning: Conversion of an array with ndim > 0 to a scalar is deprecated, and will error in future. Ensure you extract a single element from your array before performing this operation. (Deprecated NumPy 1.25.)\n",
      "  green[i] = scaled_daily_vol_dif[i]\n"
     ]
    }
   ],
   "source": [
    "tmpp = create_full_image(wmt_df)"
   ]
  },
  {
   "cell_type": "code",
   "execution_count": 389,
   "id": "ea3649b1-6b75-4d6b-aa33-2e03c48884ff",
   "metadata": {},
   "outputs": [
    {
     "data": {
      "text/plain": [
       "array([[-14.95821604],\n",
       "       [  4.3011659 ],\n",
       "       [ -0.11080927],\n",
       "       ...,\n",
       "       [  3.47530909],\n",
       "       [  6.50874613],\n",
       "       [ -1.45429065]])"
      ]
     },
     "execution_count": 389,
     "metadata": {},
     "output_type": "execute_result"
    }
   ],
   "source": [
    "scaled_daily_vol_dif"
   ]
  },
  {
   "cell_type": "code",
   "execution_count": 400,
   "id": "512f1633-c8a6-4690-a5dc-63a0f03f4353",
   "metadata": {},
   "outputs": [
    {
     "data": {
      "text/plain": [
       "array([[-14.95819664],\n",
       "       [  4.30119255],\n",
       "       [ -0.11075902],\n",
       "       ...,\n",
       "       [  3.47534403],\n",
       "       [  6.50871727],\n",
       "       [ -1.4542032 ]])"
      ]
     },
     "execution_count": 400,
     "metadata": {},
     "output_type": "execute_result"
    }
   ],
   "source": [
    "tmppp"
   ]
  },
  {
   "cell_type": "code",
   "execution_count": 388,
   "id": "1584abe5-1276-4be5-ae3b-b70679662977",
   "metadata": {},
   "outputs": [
    {
     "data": {
      "text/plain": [
       "array([[-15.26949124],\n",
       "       [-17.61953422],\n",
       "       [-18.43139359],\n",
       "       ...,\n",
       "       [-13.03578816],\n",
       "       [-23.03874703],\n",
       "       [-17.41286866]])"
      ]
     },
     "execution_count": 388,
     "metadata": {},
     "output_type": "execute_result"
    }
   ],
   "source": [
    "tmpp"
   ]
  },
  {
   "cell_type": "code",
   "execution_count": 288,
   "id": "c0d9fbdf-b197-462d-adf0-0c956db203c5",
   "metadata": {},
   "outputs": [],
   "source": [
    "red = np.zeros(2514)\n",
    "green = np.zeros(2514)\n",
    "blue = np.zeros(2514)"
   ]
  },
  {
   "cell_type": "code",
   "execution_count": 300,
   "id": "6d943e39-3236-46e2-a4f8-f2faf17c1324",
   "metadata": {},
   "outputs": [
    {
     "data": {
      "text/plain": [
       "2514"
      ]
     },
     "execution_count": 300,
     "metadata": {},
     "output_type": "execute_result"
    }
   ],
   "source": []
  },
  {
   "cell_type": "code",
   "execution_count": 371,
   "id": "408e8810-9abc-4f4c-ab10-e5d920aed611",
   "metadata": {},
   "outputs": [],
   "source": [
    "def diff_to_rgb(scaled_daily_vol_dif):\n",
    "\n",
    "    size = scaled_daily_vol_dif.shape[0]\n",
    "    \n",
    "    red = np.zeros(size)\n",
    "    green = np.zeros(size)\n",
    "    blue = np.zeros(size)\n",
    "    \n",
    "    for i in range(len(scaled_daily_vol_dif)):\n",
    "        if scaled_daily_vol_dif[i] < 0:\n",
    "            red[i] = np.abs(scaled_daily_vol_dif[i])\n",
    "        elif scaled_daily_vol_dif[i] > 0:\n",
    "            green[i] = scaled_daily_vol_dif[i]\n",
    "        elif scaled_daily_vol_dif[i] == 0:\n",
    "            continue\n",
    "        else:\n",
    "            print(error)\n",
    "\n",
    "    image_dim = math.floor(scaled_daily_vol_dif.shape[0]**0.5)\n",
    "\n",
    "    flat_image = np.column_stack((red, green, blue))\n",
    "\n",
    "    square_image = flat_image[:image_dim**2].reshape((image_dim, image_dim, 3))\n",
    "    return square_image"
   ]
  },
  {
   "cell_type": "code",
   "execution_count": 320,
   "id": "979687ba-1775-4b09-84d1-dec75c8cef01",
   "metadata": {},
   "outputs": [
    {
     "data": {
      "text/plain": [
       "(958215, 11)"
      ]
     },
     "execution_count": 320,
     "metadata": {},
     "output_type": "execute_result"
    }
   ],
   "source": [
    "tmp.shape"
   ]
  },
  {
   "cell_type": "code",
   "execution_count": 321,
   "id": "dd9032ff-8198-4040-bda1-a1079e2c3cc1",
   "metadata": {},
   "outputs": [
    {
     "name": "stdout",
     "output_type": "stream",
     "text": [
      "2514\n",
      "50\n",
      "(2514, 3)\n"
     ]
    },
    {
     "name": "stderr",
     "output_type": "stream",
     "text": [
      "/var/folders/31/d9mhbrs95msdp4hzv2wdsc8w0000gn/T/ipykernel_54188/3183384418.py:11: DeprecationWarning: Conversion of an array with ndim > 0 to a scalar is deprecated, and will error in future. Ensure you extract a single element from your array before performing this operation. (Deprecated NumPy 1.25.)\n",
      "  red[i] = np.abs(scaled_daily_vol_dif[i])\n",
      "/var/folders/31/d9mhbrs95msdp4hzv2wdsc8w0000gn/T/ipykernel_54188/3183384418.py:13: DeprecationWarning: Conversion of an array with ndim > 0 to a scalar is deprecated, and will error in future. Ensure you extract a single element from your array before performing this operation. (Deprecated NumPy 1.25.)\n",
      "  green[i] = scaled_daily_vol_dif[i]\n"
     ]
    }
   ],
   "source": [
    "tmp = diff_to_rgb(scaled_daily_vol_dif)"
   ]
  },
  {
   "cell_type": "code",
   "execution_count": 322,
   "id": "f13da369-4673-4789-a334-b7e64f2283ed",
   "metadata": {},
   "outputs": [
    {
     "data": {
      "text/plain": [
       "(50, 50, 3)"
      ]
     },
     "execution_count": 322,
     "metadata": {},
     "output_type": "execute_result"
    }
   ],
   "source": [
    "tmp.shape"
   ]
  },
  {
   "cell_type": "code",
   "execution_count": 292,
   "id": "ae14608d-0ad1-47d0-aa42-e6023d294d0c",
   "metadata": {},
   "outputs": [],
   "source": [
    "testing = np.column_stack((red, green, blue))"
   ]
  },
  {
   "cell_type": "code",
   "execution_count": 311,
   "id": "8f36d57b-9ba4-4a51-9ab9-5861244f08b6",
   "metadata": {},
   "outputs": [
    {
     "data": {
      "text/plain": [
       "(2514, 3)"
      ]
     },
     "execution_count": 311,
     "metadata": {},
     "output_type": "execute_result"
    }
   ],
   "source": [
    "testing.shape"
   ]
  },
  {
   "cell_type": "code",
   "execution_count": 294,
   "id": "2088f743-54d3-457a-8753-58b12a8faaad",
   "metadata": {},
   "outputs": [],
   "source": [
    "reshaped_arr = testing[:50**2].reshape((50, 50, 3))"
   ]
  },
  {
   "cell_type": "code",
   "execution_count": 421,
   "id": "d7edca6b-cc00-450a-8764-571f332d2b23",
   "metadata": {},
   "outputs": [
    {
     "name": "stderr",
     "output_type": "stream",
     "text": [
      "Clipping input data to the valid range for imshow with RGB data ([0..1] for floats or [0..255] for integers).\n"
     ]
    },
    {
     "data": {
      "text/plain": [
       "<matplotlib.image.AxesImage at 0x3571ff2e0>"
      ]
     },
     "execution_count": 421,
     "metadata": {},
     "output_type": "execute_result"
    },
    {
     "data": {
      "image/png": "[encoded data removed]",
      "text/plain": [
       "<Figure size 640x480 with 1 Axes>"
      ]
     },
     "metadata": {},
     "output_type": "display_data"
    }
   ],
   "source": [
    "plt.imshow(tmppp)"
   ]
  },
  {
   "cell_type": "code",
   "execution_count": 417,
   "id": "4131137a-9090-4956-9eca-33c59a4e80fd",
   "metadata": {},
   "outputs": [
    {
     "name": "stderr",
     "output_type": "stream",
     "text": [
      "Clipping input data to the valid range for imshow with RGB data ([0..1] for floats or [0..255] for integers).\n"
     ]
    },
    {
     "data": {
      "text/plain": [
       "<matplotlib.image.AxesImage at 0x357194f40>"
      ]
     },
     "execution_count": 417,
     "metadata": {},
     "output_type": "execute_result"
    },
    {
     "data": {
      "image/png": "[encoded data removed]",
      "text/plain": [
       "<Figure size 640x480 with 1 Axes>"
      ]
     },
     "metadata": {},
     "output_type": "display_data"
    }
   ],
   "source": [
    "plt.imshow(tmp)"
   ]
  },
  {
   "cell_type": "code",
   "execution_count": 415,
   "id": "10cfb05a-b000-455e-941c-e4e2ddcce6f2",
   "metadata": {},
   "outputs": [
    {
     "name": "stderr",
     "output_type": "stream",
     "text": [
      "Clipping input data to the valid range for imshow with RGB data ([0..1] for floats or [0..255] for integers).\n"
     ]
    },
    {
     "data": {
      "text/plain": [
       "<matplotlib.image.AxesImage at 0x356c41250>"
      ]
     },
     "execution_count": 415,
     "metadata": {},
     "output_type": "execute_result"
    },
    {
     "data": {
      "image/png": "[encoded data removed]",
      "text/plain": [
       "<Figure size 640x480 with 1 Axes>"
      ]
     },
     "metadata": {},
     "output_type": "display_data"
    }
   ],
   "source": [
    "plt.imshow(tmpp)"
   ]
  },
  {
   "cell_type": "code",
   "execution_count": 22,
   "id": "a30dbe5c-f7e3-4da7-bba6-cd4efba6f898",
   "metadata": {},
   "outputs": [
    {
     "name": "stderr",
     "output_type": "stream",
     "text": [
      "Clipping input data to the valid range for imshow with RGB data ([0..1] for floats or [0..255] for integers).\n"
     ]
    },
    {
     "data": {
      "text/plain": [
       "<matplotlib.image.AxesImage at 0x32c7c8190>"
      ]
     },
     "execution_count": 22,
     "metadata": {},
     "output_type": "execute_result"
    },
    {
     "data": {
      "image/png": "[encoded data removed]",
      "text/plain": [
       "<Figure size 640x480 with 1 Axes>"
      ]
     },
     "metadata": {},
     "output_type": "display_data"
    }
   ],
   "source": [
    "plt.imshow(np.array([testing]), aspect = \"auto\")"
   ]
  },
  {
   "cell_type": "code",
   "execution_count": 23,
   "id": "74341cef-12bd-45b7-b600-8e2f9724e935",
   "metadata": {},
   "outputs": [],
   "source": [
    "!mkdir \"raw_data/images\""
   ]
  },
  {
   "cell_type": "code",
   "execution_count": 92,
   "id": "b106243a-d346-4e2f-a1ae-1b63bbae9c5c",
   "metadata": {},
   "outputs": [],
   "source": [
    "tmp = reshaped_arr.astype(np.uint8)"
   ]
  },
  {
   "cell_type": "code",
   "execution_count": 89,
   "id": "e7752648-653e-42e1-8742-c5ecb4eaecd1",
   "metadata": {},
   "outputs": [],
   "source": [
    "normalized_arr = np.clip(reshaped_arr, 0, 1)"
   ]
  },
  {
   "cell_type": "code",
   "execution_count": 96,
   "id": "299568e3-8840-44c3-8387-0ffbe0016e47",
   "metadata": {},
   "outputs": [],
   "source": [
    "uint8_arr = (normalized_arr * 255).astype(np.uint8)\n",
    "\n",
    "plt.imsave(\"raw_data/images/test4.png\", uint8_arr)"
   ]
  },
  {
   "cell_type": "code",
   "execution_count": null,
   "id": "ca3ced8e-1527-41bc-8e83-32d106908b3f",
   "metadata": {},
   "outputs": [],
   "source": [
    "reshape"
   ]
  },
  {
   "cell_type": "code",
   "execution_count": 95,
   "id": "813a45d7-b55a-41b3-94ef-7b886f3f5ab7",
   "metadata": {},
   "outputs": [],
   "source": [
    "plt.imsave(\"raw_data/images/test3.png\", tmp)"
   ]
  },
  {
   "cell_type": "code",
   "execution_count": 98,
   "id": "c0abd0e9-1431-4e7c-b429-86ab4922d611",
   "metadata": {},
   "outputs": [
    {
     "data": {
      "text/plain": [
       "<matplotlib.image.AxesImage at 0x31f85d850>"
      ]
     },
     "execution_count": 98,
     "metadata": {},
     "output_type": "execute_result"
    },
    {
     "data": {
      "image/png": "[encoded data removed]",
      "text/plain": [
       "<Figure size 640x480 with 1 Axes>"
      ]
     },
     "metadata": {},
     "output_type": "display_data"
    }
   ],
   "source": [
    "image_data = plt.imread(\"raw_data/images/test4.png\")\n",
    "\n",
    "# Display the image\n",
    "plt.imshow(image_data)"
   ]
  },
  {
   "cell_type": "code",
   "execution_count": 178,
   "id": "f14336c0-cffd-417c-8f2a-bed11ec14346",
   "metadata": {},
   "outputs": [
    {
     "data": {
      "text/plain": [
       "(1, 3, 3)"
      ]
     },
     "execution_count": 178,
     "metadata": {},
     "output_type": "execute_result"
    }
   ],
   "source": [
    "np.array([[[255,0,0], [0,255,0], [0,0,255]]]).shape"
   ]
  },
  {
   "cell_type": "code",
   "execution_count": 167,
   "id": "ef15681a-0fb7-49d7-a218-80b74c973eb9",
   "metadata": {},
   "outputs": [
    {
     "data": {
      "text/plain": [
       "<matplotlib.image.AxesImage at 0x155d90fa0>"
      ]
     },
     "execution_count": 167,
     "metadata": {},
     "output_type": "execute_result"
    },
    {
     "data": {
      "image/png": "[encoded data removed]",
      "text/plain": [
       "<Figure size 640x480 with 1 Axes>"
      ]
     },
     "metadata": {},
     "output_type": "display_data"
    }
   ],
   "source": [
    "plt.imshow(np.array([[[255,0,0], [0,255,0], [0,0,255]]]))"
   ]
  },
  {
   "cell_type": "code",
   "execution_count": null,
   "id": "f8c31d24-6a80-4774-b7f4-bc2f1c31bd4f",
   "metadata": {},
   "outputs": [],
   "source": []
  },
  {
   "cell_type": "code",
   "execution_count": null,
   "id": "980f33bf-561b-4c55-8864-0221bd947a04",
   "metadata": {},
   "outputs": [],
   "source": [
    "a = np.array((1,2,3))\n",
    "b = np.array((2,3,4))\n",
    "np.column_stack((a,b))\n",
    "array([[1, 2],\n",
    "       [2, 3],\n",
    "       [3, 4]])"
   ]
  },
  {
   "cell_type": "code",
   "execution_count": 38,
   "id": "e13c434b-b9c8-48fd-aa60-f75a97c1398d",
   "metadata": {},
   "outputs": [
    {
     "data": {
      "image/png": "[encoded data removed]",
      "text/plain": [
       "<Figure size 640x480 with 1 Axes>"
      ]
     },
     "metadata": {},
     "output_type": "display_data"
    }
   ],
   "source": [
    "palette = np.array([[255,   0,   0], # index 0: red\n",
    "                   [  0, 255,   0], # index 1: green\n",
    "                    [  0,   0, 255], # index 2: blue\n",
    "                    [255, 255, 255], # index 3: white\n",
    "                    [  0,   0,   0], # index 4: black\n",
    "                    [255, 255,   0], # index 5: yellow\n",
    "                     ], dtype=np.uint8)\n",
    "     \n",
    "\n",
    "m, n = 4, 6\n",
    "\n",
    "indices = np.random.randint(0, len(palette), size=(4, 6))\n",
    "indices\n",
    "np.array([[2, 4, 0, 1, 4, 2],\n",
    "       [1, 1, 5, 5, 2, 0],\n",
    "       [4, 4, 3, 3, 0, 4],\n",
    "       [2, 5, 0, 5, 2, 3]])\n",
    "\n",
    "In [21]: plt.imshow(palette[indices])"
   ]
  },
  {
   "cell_type": "code",
   "execution_count": 138,
   "id": "4f4897c8-f739-4330-b344-72353906305c",
   "metadata": {},
   "outputs": [
    {
     "data": {
      "text/plain": [
       "array([[[  0,   0, 255],\n",
       "        [255, 255,   0],\n",
       "        [255, 255, 255],\n",
       "        [  0,   0, 255],\n",
       "        [255, 255,   0],\n",
       "        [  0, 255,   0]],\n",
       "\n",
       "       [[  0,   0,   0],\n",
       "        [  0,   0,   0],\n",
       "        [  0, 255,   0],\n",
       "        [  0,   0,   0],\n",
       "        [  0,   0,   0],\n",
       "        [255, 255, 255]],\n",
       "\n",
       "       [[  0,   0,   0],\n",
       "        [  0, 255,   0],\n",
       "        [255, 255,   0],\n",
       "        [  0,   0,   0],\n",
       "        [255, 255,   0],\n",
       "        [255,   0,   0]],\n",
       "\n",
       "       [[255,   0,   0],\n",
       "        [255,   0,   0],\n",
       "        [  0,   0,   0],\n",
       "        [  0,   0, 255],\n",
       "        [  0,   0, 255],\n",
       "        [  0,   0, 255]]], dtype=uint8)"
      ]
     },
     "execution_count": 138,
     "metadata": {},
     "output_type": "execute_result"
    }
   ],
   "source": [
    "palette[indices]"
   ]
  },
  {
   "cell_type": "code",
   "execution_count": null,
   "id": "e3fc77fd-3fc9-4dc9-8f0d-be3ccdf5d2c6",
   "metadata": {},
   "outputs": [],
   "source": []
  },
  {
   "cell_type": "code",
   "execution_count": 98,
   "id": "9aa1cf5f-1e9e-47e3-a524-4cd60b3cdacf",
   "metadata": {},
   "outputs": [
    {
     "data": {
      "text/plain": [
       "array([[ 3.27110592e+01],\n",
       "       [-9.30913652e+01],\n",
       "       [-5.03688796e+01],\n",
       "       [-3.89017893e+01],\n",
       "       [ 4.98603612e+01],\n",
       "       [-1.16899083e+01],\n",
       "       [-1.16899083e+01],\n",
       "       [-7.12925728e+01],\n",
       "       [ 3.34250181e+01],\n",
       "       [-1.94283411e+01],\n",
       "       [ 9.00888991e+01],\n",
       "       [-4.12873539e+01],\n",
       "       [-1.16899083e+01],\n",
       "       [-1.16899083e+01],\n",
       "       [-1.16899083e+01],\n",
       "       [ 9.59968775e+01],\n",
       "       [-1.79230351e+02],\n",
       "       [-7.99169179e+01],\n",
       "       [-1.86958066e+02],\n",
       "       [-1.16899083e+01],\n",
       "       [-1.16899083e+01],\n",
       "       [ 2.13605241e+01],\n",
       "       [-3.06994237e+01],\n",
       "       [ 6.81826328e+00],\n",
       "       [-1.38820618e+02],\n",
       "       [-5.92643377e+01],\n",
       "       [-1.16899083e+01],\n",
       "       [-1.16899083e+01],\n",
       "       [ 8.36026242e+01],\n",
       "       [ 3.46773850e+01],\n",
       "       [-4.66886173e+00],\n",
       "       [-1.45503745e+02],\n",
       "       [ 8.69345780e-02],\n",
       "       [-1.16899083e+01],\n",
       "       [-1.16899083e+01],\n",
       "       [-5.10901626e+01],\n",
       "       [ 4.79640077e+01],\n",
       "       [-3.52767930e+01],\n",
       "       [ 4.55900831e+01],\n",
       "       [-1.62716986e+01],\n",
       "       [-1.16899083e+01],\n",
       "       [-1.16899083e+01],\n",
       "       [-1.16899083e+01],\n",
       "       [ 5.52093012e+01],\n",
       "       [ 4.65160722e+01],\n",
       "       [ 6.47703588e+01],\n",
       "       [-3.69112495e+01],\n",
       "       [-1.16899083e+01],\n",
       "       [-1.16899083e+01],\n",
       "       [-3.35253075e+01],\n",
       "       [-2.46314092e+01],\n",
       "       [ 3.84279916e+01],\n",
       "       [-4.29057789e+01],\n",
       "       [ 1.16166152e+01],\n",
       "       [-1.16899083e+01],\n",
       "       [-1.16899083e+01],\n",
       "       [ 4.22687537e+01],\n",
       "       [-7.20898456e+01],\n",
       "       [-3.15347166e+01],\n",
       "       [-2.11344806e+01],\n",
       "       [ 1.36370283e+01],\n",
       "       [-1.16899083e+01],\n",
       "       [-1.16899083e+01],\n",
       "       [-4.49888186e+01],\n",
       "       [-5.87077010e+01],\n",
       "       [-6.66606629e+00],\n",
       "       [ 8.33979174e+01],\n",
       "       [ 7.15679012e+00],\n",
       "       [-1.16899083e+01],\n",
       "       [-1.16899083e+01],\n",
       "       [-2.11517398e+01],\n",
       "       [ 3.40318376e+01],\n",
       "       [-5.88913488e+01],\n",
       "       [ 1.58815201e+01],\n",
       "       [-5.26018413e+01],\n",
       "       [-1.16899083e+01],\n",
       "       [-1.16899083e+01],\n",
       "       [ 7.56729212e+00],\n",
       "       [ 5.79359963e+01],\n",
       "       [-4.44466419e+01],\n",
       "       [ 2.64336036e+01],\n",
       "       [-1.94942324e+01],\n",
       "       [-1.16899083e+01],\n",
       "       [-1.16899083e+01],\n",
       "       [-4.78912818e+01],\n",
       "       [ 1.05542852e+00],\n",
       "       [-4.26141704e+01],\n",
       "       [-1.21817542e+01],\n",
       "       [-1.16899083e+01],\n",
       "       [-1.16899083e+01],\n",
       "       [-1.16899083e+01],\n",
       "       [ 3.78163165e+01],\n",
       "       [-1.90219549e+01],\n",
       "       [-4.59991522e+01],\n",
       "       [-4.07481842e+01],\n",
       "       [ 3.94511084e+01],\n",
       "       [-1.16899083e+01],\n",
       "       [-1.16899083e+01],\n",
       "       [-2.68913202e+01],\n",
       "       [ 1.72111100e+01],\n",
       "       [ 9.49128415e+01],\n",
       "       [-2.17913365e+01],\n",
       "       [-2.22819758e+01],\n",
       "       [-1.16899083e+01],\n",
       "       [-1.16899083e+01],\n",
       "       [ 4.39818618e+01],\n",
       "       [-1.26694015e+02],\n",
       "       [-4.41387402e+01],\n",
       "       [ 5.89445296e+00],\n",
       "       [ 2.33323826e+01],\n",
       "       [-1.16899083e+01],\n",
       "       [-1.16899083e+01],\n",
       "       [ 2.21744748e+01],\n",
       "       [-1.01095190e+02],\n",
       "       [ 5.06429027e+01],\n",
       "       [ 1.18791298e+00],\n",
       "       [-6.54068773e+01],\n",
       "       [-1.16899083e+01],\n",
       "       [-1.16899083e+01],\n",
       "       [ 4.87049604e+00],\n",
       "       [-8.60608656e+01],\n",
       "       [-5.01968404e+01],\n",
       "       [-1.23128634e+02],\n",
       "       [-1.43231700e+02],\n",
       "       [-1.16899083e+01],\n",
       "       [-1.16899083e+01],\n",
       "       [ 2.12865175e+02],\n",
       "       [ 2.51376475e+01],\n",
       "       [ 2.55000000e+02],\n",
       "       [-4.84228649e+01],\n",
       "       [-2.70171003e+01],\n",
       "       [-1.16899083e+01],\n",
       "       [-1.16899083e+01],\n",
       "       [-5.11427409e+01],\n",
       "       [-3.19871342e+01],\n",
       "       [-6.90800508e+01],\n",
       "       [-2.55000000e+02],\n",
       "       [ 3.56114429e+01],\n",
       "       [-1.16899083e+01],\n",
       "       [-1.16899083e+01],\n",
       "       [-4.20040158e+01],\n",
       "       [-4.60279618e+00],\n",
       "       [-6.50267222e+01],\n",
       "       [ 1.05565454e+02],\n",
       "       [-2.17058059e+01],\n",
       "       [-1.16899083e+01],\n",
       "       [-1.16899083e+01],\n",
       "       [-1.16899083e+01],\n",
       "       [-5.64878296e+01],\n",
       "       [ 1.08881337e+02],\n",
       "       [ 2.48779238e+01],\n",
       "       [-1.50674287e+02],\n",
       "       [-1.16899083e+01],\n",
       "       [-1.16899083e+01],\n",
       "       [-4.45176655e+01],\n",
       "       [-5.63988381e+01],\n",
       "       [-9.13881185e+00],\n",
       "       [ 2.02280061e+02],\n",
       "       [ 1.43736829e+01],\n",
       "       [-1.16899083e+01],\n",
       "       [-1.16899083e+01],\n",
       "       [ 1.54137525e+00],\n",
       "       [ 3.65960756e+01],\n",
       "       [ 1.59474379e+01],\n",
       "       [ 2.01594621e+01],\n",
       "       [-4.54718064e+01],\n",
       "       [-1.16899083e+01],\n",
       "       [-1.16899083e+01],\n",
       "       [ 2.80810398e+00],\n",
       "       [-7.23293965e+01],\n",
       "       [ 2.67006996e+01],\n",
       "       [-1.10081127e+02],\n",
       "       [-1.24280058e+01],\n",
       "       [-1.16899083e+01],\n",
       "       [-1.16899083e+01],\n",
       "       [ 2.11994735e+01],\n",
       "       [-1.81912022e+02],\n",
       "       [-1.00858566e+02],\n",
       "       [-6.08576872e+01],\n",
       "       [-4.57190034e+01],\n",
       "       [-1.16899083e+01],\n",
       "       [-1.16899083e+01],\n",
       "       [-1.16899083e+01],\n",
       "       [ 4.08269642e+01],\n",
       "       [ 1.88130921e+02],\n",
       "       [ 2.54523866e+01],\n",
       "       [-3.43099087e-01],\n",
       "       [-1.16899083e+01],\n",
       "       [-1.16899083e+01],\n",
       "       [ 2.07579209e+01],\n",
       "       [ 4.29936159e+01]])"
      ]
     },
     "execution_count": 98,
     "metadata": {},
     "output_type": "execute_result"
    }
   ],
   "source": [
    "for n in scaled_vol:\n",
    "    if n == 0:"
   ]
  },
  {
   "cell_type": "code",
   "execution_count": 92,
   "id": "f06da782-dc84-43b9-b853-7ba76808a654",
   "metadata": {},
   "outputs": [
    {
     "ename": "NameError",
     "evalue": "name 'img' is not defined",
     "output_type": "error",
     "traceback": [
      "\u001b[0;31m---------------------------------------------------------------------------\u001b[0m",
      "\u001b[0;31mNameError\u001b[0m                                 Traceback (most recent call last)",
      "Cell \u001b[0;32mIn[92], line 1\u001b[0m\n\u001b[0;32m----> 1\u001b[0m plt\u001b[38;5;241m.\u001b[39mimshow(\u001b[43mimg\u001b[49m, extent\u001b[38;5;241m=\u001b[39m[\u001b[38;5;241m0\u001b[39m, \u001b[38;5;241m16000\u001b[39m, \u001b[38;5;241m0\u001b[39m, \u001b[38;5;241m1\u001b[39m], aspect\u001b[38;5;241m=\u001b[39m\u001b[38;5;124m'\u001b[39m\u001b[38;5;124mauto\u001b[39m\u001b[38;5;124m'\u001b[39m)\n",
      "\u001b[0;31mNameError\u001b[0m: name 'img' is not defined"
     ]
    }
   ],
   "source": [
    "plt.imshow(img, extent=[0, 16000, 0, 1], aspect='auto')"
   ]
  },
  {
   "cell_type": "code",
   "execution_count": 95,
   "id": "33692fbe",
   "metadata": {},
   "outputs": [],
   "source": [
    "ibm_small_df[\"Realized_Volatility\"] = ibm_small_df[\"Log_Returns\"].rolling(window=252).std()"
   ]
  },
  {
   "cell_type": "code",
   "execution_count": 96,
   "id": "5e506336",
   "metadata": {},
   "outputs": [
    {
     "ename": "NameError",
     "evalue": "name 'sum_squared_log_returns' is not defined",
     "output_type": "error",
     "traceback": [
      "\u001b[0;31m---------------------------------------------------------------------------\u001b[0m",
      "\u001b[0;31mNameError\u001b[0m                                 Traceback (most recent call last)",
      "Cell \u001b[0;32mIn[96], line 1\u001b[0m\n\u001b[0;32m----> 1\u001b[0m realized_volatility \u001b[38;5;241m=\u001b[39m np\u001b[38;5;241m.\u001b[39msqrt(\u001b[43msum_squared_log_returns\u001b[49m)\n",
      "\u001b[0;31mNameError\u001b[0m: name 'sum_squared_log_returns' is not defined"
     ]
    }
   ],
   "source": [
    "realized_volatility = np.sqrt(sum_squared_log_returns)"
   ]
  },
  {
   "cell_type": "code",
   "execution_count": 93,
   "id": "468e38bc",
   "metadata": {},
   "outputs": [
    {
     "ename": "NameError",
     "evalue": "name 'realized_volatility' is not defined",
     "output_type": "error",
     "traceback": [
      "\u001b[0;31m---------------------------------------------------------------------------\u001b[0m",
      "\u001b[0;31mNameError\u001b[0m                                 Traceback (most recent call last)",
      "Cell \u001b[0;32mIn[93], line 1\u001b[0m\n\u001b[0;32m----> 1\u001b[0m \u001b[43mrealized_volatility\u001b[49m\n",
      "\u001b[0;31mNameError\u001b[0m: name 'realized_volatility' is not defined"
     ]
    }
   ],
   "source": [
    "realized_volatility"
   ]
  },
  {
   "cell_type": "code",
   "execution_count": null,
   "id": "5e49eec4",
   "metadata": {},
   "outputs": [],
   "source": []
  },
  {
   "cell_type": "code",
   "execution_count": null,
   "id": "83bfd10a",
   "metadata": {},
   "outputs": [],
   "source": []
  },
  {
   "cell_type": "code",
   "execution_count": null,
   "id": "30b5980c",
   "metadata": {},
   "outputs": [],
   "source": []
  },
  {
   "cell_type": "code",
   "execution_count": null,
   "id": "e90fec91",
   "metadata": {},
   "outputs": [],
   "source": []
  },
  {
   "cell_type": "code",
   "execution_count": null,
   "id": "781c0cd0",
   "metadata": {},
   "outputs": [],
   "source": []
  },
  {
   "cell_type": "code",
   "execution_count": null,
   "id": "1e210a63",
   "metadata": {},
   "outputs": [],
   "source": [
    "\n"
   ]
  },
  {
   "cell_type": "code",
   "execution_count": null,
   "id": "19010c9e",
   "metadata": {},
   "outputs": [],
   "source": []
  },
  {
   "cell_type": "code",
   "execution_count": null,
   "id": "d6b908d7",
   "metadata": {},
   "outputs": [],
   "source": []
  },
  {
   "cell_type": "code",
   "execution_count": null,
   "id": "118967a9",
   "metadata": {},
   "outputs": [],
   "source": []
  }
 ],
 "metadata": {
  "kernelspec": {
   "display_name": "Python 3 (ipykernel)",
   "language": "python",
   "name": "python3"
  },
  "language_info": {
   "codemirror_mode": {
    "name": "ipython",
    "version": 3
   },
   "file_extension": ".py",
   "mimetype": "text/x-python",
   "name": "python",
   "nbconvert_exporter": "python",
   "pygments_lexer": "ipython3",
   "version": "3.9.6"
  }
 },
 "nbformat": 4,
 "nbformat_minor": 5
}
