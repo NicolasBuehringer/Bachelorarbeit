{
 "cells": [
  {
   "cell_type": "markdown",
   "id": "a389a443-452b-4441-aa86-f2d7fe65cee6",
   "metadata": {},
   "source": [
    "1. RV: Log_Returns quadrieren und summieren\n",
    "2. 70,15,15 (1,5 Jahre test set)\n",
    "3. "
   ]
  },
  {
   "cell_type": "code",
   "execution_count": 345,
   "id": "179e2cf8-d65f-4986-a879-5a167cbd2871",
   "metadata": {},
   "outputs": [],
   "source": [
    "import pandas as pd\n",
    "import numpy as np\n",
    "import matplotlib.pyplot as plt\n",
    "from sklearn.preprocessing import MinMaxScaler\n",
    "from math import sqrt\n",
    "\n",
    "pd.options.mode.chained_assignment = None"
   ]
  },
  {
   "cell_type": "code",
   "execution_count": 3,
   "id": "50cd31f0-07bc-42c8-9ff5-eb5237dc35ae",
   "metadata": {},
   "outputs": [
    {
     "name": "stdout",
     "output_type": "stream",
     "text": [
      "RV_calculation.ipynb     RV_calculation_new.ipynb \u001b[1m\u001b[36mraw_data\u001b[m\u001b[m\n"
     ]
    }
   ],
   "source": [
    "!ls"
   ]
  },
  {
   "cell_type": "code",
   "execution_count": 346,
   "id": "f9a7355b-dcd4-45b0-9269-6e28294d65df",
   "metadata": {},
   "outputs": [],
   "source": [
    "ibm_df = pd.read_csv(\"raw_data/3Stocks/IBM_1min.csv\")"
   ]
  },
  {
   "cell_type": "code",
   "execution_count": 353,
   "id": "393b5294-937a-4776-9551-d584e3b4bd57",
   "metadata": {},
   "outputs": [],
   "source": [
    "ibm_df = pd.read_csv(\"raw_data/3Stocks/IBM_1min.csv\")\n",
    "jnj_df = pd.read_csv(\"raw_data/3Stocks/JNJ_1min.csv\")\n",
    "wmt_df = pd.read_csv(\"raw_data/3Stocks/WMT_1min.csv\")"
   ]
  },
  {
   "cell_type": "code",
   "execution_count": 354,
   "id": "b0986e53-b616-46ba-b657-b570b176deed",
   "metadata": {},
   "outputs": [],
   "source": [
    "ibm_df['Date Time'] = pd.to_datetime(ibm_df['Date Time'])\n",
    "jnj_df['Date Time'] = pd.to_datetime(jnj_df['Date Time'])\n",
    "wmt_df['Date Time'] = pd.to_datetime(wmt_df['Date Time'])"
   ]
  },
  {
   "cell_type": "code",
   "execution_count": 355,
   "id": "b5e91aeb-32ea-490f-9bc8-862b1a430d31",
   "metadata": {},
   "outputs": [],
   "source": [
    "ibm_df['Log_Returns'] = np.log(ibm_df['Close'] / ibm_df['Close'].shift(1))\n",
    "jnj_df['Log_Returns'] = np.log(jnj_df['Close'] / jnj_df['Close'].shift(1))\n",
    "wmt_df['Log_Returns'] = np.log(wmt_df['Close'] / wmt_df['Close'].shift(1))"
   ]
  },
  {
   "cell_type": "code",
   "execution_count": 352,
   "id": "6e368594-67e1-40a2-9de3-b70d226c0c59",
   "metadata": {},
   "outputs": [],
   "source": [
    "ibm_df.dropna(inplace=True)\n",
    "jnj_df.dropna(inplace=True)\n",
    "wmt_df.dropna(inplace=True)"
   ]
  },
  {
   "cell_type": "code",
   "execution_count": 6,
   "id": "2e50f1e9-3d96-4a20-9805-f6e37df252c6",
   "metadata": {},
   "outputs": [],
   "source": [
    "ibm_df = ibm_df.iloc[381:]\n",
    "ibm_df.reset_index(drop=True, inplace=True)"
   ]
  },
  {
   "cell_type": "code",
   "execution_count": 367,
   "id": "c53fc457-70c4-4d29-baba-509ac8c80334",
   "metadata": {},
   "outputs": [],
   "source": [
    "ibm_df = ibm_df.iloc[381:]"
   ]
  },
  {
   "cell_type": "code",
   "execution_count": 379,
   "id": "70abc77e-8105-48c0-8b75-a965f27d3df1",
   "metadata": {},
   "outputs": [],
   "source": [
    "ibm_df.reset_index(drop=True, inplace=True)"
   ]
  },
  {
   "cell_type": "code",
   "execution_count": 404,
   "id": "37518a11-cf18-4267-ba07-9197336d723a",
   "metadata": {},
   "outputs": [],
   "source": [
    "ibm_df = ibm_df.iloc[380:]\n",
    "ibm_df.reset_index(drop=True, inplace=True)\n",
    "\n",
    "jnj_df = jnj_df.iloc[380:]\n",
    "jnj_df.reset_index(drop=True, inplace=True)\n",
    "\n",
    "wmt_df = wmt_df.iloc[380:]\n",
    "wmt_df.reset_index(drop=True, inplace=True)"
   ]
  },
  {
   "cell_type": "code",
   "execution_count": 368,
   "id": "c3101303-31c0-49f9-ac6c-36672159ab24",
   "metadata": {},
   "outputs": [],
   "source": [
    "observations_per_day = ibm_df.groupby(ibm_df['Date Time'].dt.date).size()"
   ]
  },
  {
   "cell_type": "code",
   "execution_count": 369,
   "id": "9f52b42e-f18b-4d56-a622-85baae9d0f04",
   "metadata": {},
   "outputs": [
    {
     "data": {
      "text/plain": [
       "array([381])"
      ]
     },
     "execution_count": 369,
     "metadata": {},
     "output_type": "execute_result"
    }
   ],
   "source": [
    "trading_hours = observations_per_day.unique()\n",
    "trading_hours"
   ]
  },
  {
   "cell_type": "code",
   "execution_count": 358,
   "id": "077c3b19-1158-4c98-ad55-970603018b91",
   "metadata": {},
   "outputs": [],
   "source": [
    "ibm_df[\"log_return_squared\"] = ibm_df[\"Log_Returns\"].apply(lambda x: x**2)"
   ]
  },
  {
   "cell_type": "code",
   "execution_count": 359,
   "id": "5ef7574f-9f27-4f88-805f-19b22adfed60",
   "metadata": {},
   "outputs": [],
   "source": [
    "ibm_df[\"realized_var\"] = ibm_df[\"log_return_squared\"].cumsum()"
   ]
  },
  {
   "cell_type": "code",
   "execution_count": 360,
   "id": "a6f288fd-2be8-4102-8ed3-18a126a4cb84",
   "metadata": {},
   "outputs": [],
   "source": [
    "ibm_df[\"realized_vol\"] = ibm_df[\"realized_var\"].apply(lambda x: sqrt(x))"
   ]
  },
  {
   "cell_type": "code",
   "execution_count": 361,
   "id": "a28757aa-1a64-4a1b-8230-79e5da21c1de",
   "metadata": {},
   "outputs": [
    {
     "data": {
      "text/html": [
       "<div>\n",
       "<style scoped>\n",
       "    .dataframe tbody tr th:only-of-type {\n",
       "        vertical-align: middle;\n",
       "    }\n",
       "\n",
       "    .dataframe tbody tr th {\n",
       "        vertical-align: top;\n",
       "    }\n",
       "\n",
       "    .dataframe thead th {\n",
       "        text-align: right;\n",
       "    }\n",
       "</style>\n",
       "<table border=\"1\" class=\"dataframe\">\n",
       "  <thead>\n",
       "    <tr style=\"text-align: right;\">\n",
       "      <th></th>\n",
       "      <th>Date Time</th>\n",
       "      <th>Open</th>\n",
       "      <th>High</th>\n",
       "      <th>Low</th>\n",
       "      <th>Close</th>\n",
       "      <th>Volume</th>\n",
       "      <th>Date</th>\n",
       "      <th>Time</th>\n",
       "      <th>Log_Returns</th>\n",
       "      <th>log_return_squared</th>\n",
       "      <th>realized_var</th>\n",
       "      <th>realized_vol</th>\n",
       "    </tr>\n",
       "  </thead>\n",
       "  <tbody>\n",
       "    <tr>\n",
       "      <th>0</th>\n",
       "      <td>2010-01-04 09:35:00</td>\n",
       "      <td>85.2401</td>\n",
       "      <td>85.2789</td>\n",
       "      <td>85.1624</td>\n",
       "      <td>85.2207</td>\n",
       "      <td>42796.0</td>\n",
       "      <td>2010-01-04</td>\n",
       "      <td>09:35:00</td>\n",
       "      <td>NaN</td>\n",
       "      <td>NaN</td>\n",
       "      <td>NaN</td>\n",
       "      <td>NaN</td>\n",
       "    </tr>\n",
       "    <tr>\n",
       "      <th>1</th>\n",
       "      <td>2010-01-04 09:36:00</td>\n",
       "      <td>85.2271</td>\n",
       "      <td>85.4732</td>\n",
       "      <td>85.2142</td>\n",
       "      <td>85.4343</td>\n",
       "      <td>65921.0</td>\n",
       "      <td>2010-01-04</td>\n",
       "      <td>09:36:00</td>\n",
       "      <td>0.002503</td>\n",
       "      <td>6.266498e-06</td>\n",
       "      <td>0.000006</td>\n",
       "      <td>0.002503</td>\n",
       "    </tr>\n",
       "    <tr>\n",
       "      <th>2</th>\n",
       "      <td>2010-01-04 09:37:00</td>\n",
       "      <td>85.4214</td>\n",
       "      <td>85.4732</td>\n",
       "      <td>85.3048</td>\n",
       "      <td>85.4680</td>\n",
       "      <td>60876.0</td>\n",
       "      <td>2010-01-04</td>\n",
       "      <td>09:37:00</td>\n",
       "      <td>0.000394</td>\n",
       "      <td>1.555335e-07</td>\n",
       "      <td>0.000006</td>\n",
       "      <td>0.002534</td>\n",
       "    </tr>\n",
       "    <tr>\n",
       "      <th>3</th>\n",
       "      <td>2010-01-04 09:38:00</td>\n",
       "      <td>85.4732</td>\n",
       "      <td>85.5250</td>\n",
       "      <td>85.4279</td>\n",
       "      <td>85.5056</td>\n",
       "      <td>36812.0</td>\n",
       "      <td>2010-01-04</td>\n",
       "      <td>09:38:00</td>\n",
       "      <td>0.000440</td>\n",
       "      <td>1.934539e-07</td>\n",
       "      <td>0.000007</td>\n",
       "      <td>0.002572</td>\n",
       "    </tr>\n",
       "    <tr>\n",
       "      <th>4</th>\n",
       "      <td>2010-01-04 09:39:00</td>\n",
       "      <td>85.4946</td>\n",
       "      <td>85.5056</td>\n",
       "      <td>85.4214</td>\n",
       "      <td>85.4538</td>\n",
       "      <td>29232.0</td>\n",
       "      <td>2010-01-04</td>\n",
       "      <td>09:39:00</td>\n",
       "      <td>-0.000606</td>\n",
       "      <td>3.672261e-07</td>\n",
       "      <td>0.000007</td>\n",
       "      <td>0.002642</td>\n",
       "    </tr>\n",
       "    <tr>\n",
       "      <th>...</th>\n",
       "      <td>...</td>\n",
       "      <td>...</td>\n",
       "      <td>...</td>\n",
       "      <td>...</td>\n",
       "      <td>...</td>\n",
       "      <td>...</td>\n",
       "      <td>...</td>\n",
       "      <td>...</td>\n",
       "      <td>...</td>\n",
       "      <td>...</td>\n",
       "      <td>...</td>\n",
       "      <td>...</td>\n",
       "    </tr>\n",
       "    <tr>\n",
       "      <th>958591</th>\n",
       "      <td>2019-12-31 15:51:00</td>\n",
       "      <td>114.7837</td>\n",
       "      <td>114.8095</td>\n",
       "      <td>114.7794</td>\n",
       "      <td>114.8095</td>\n",
       "      <td>20723.0</td>\n",
       "      <td>2019-12-31</td>\n",
       "      <td>15:51:00</td>\n",
       "      <td>0.000225</td>\n",
       "      <td>5.051046e-08</td>\n",
       "      <td>0.412109</td>\n",
       "      <td>0.641957</td>\n",
       "    </tr>\n",
       "    <tr>\n",
       "      <th>958592</th>\n",
       "      <td>2019-12-31 15:52:00</td>\n",
       "      <td>114.8095</td>\n",
       "      <td>114.8438</td>\n",
       "      <td>114.8052</td>\n",
       "      <td>114.8438</td>\n",
       "      <td>24968.0</td>\n",
       "      <td>2019-12-31</td>\n",
       "      <td>15:52:00</td>\n",
       "      <td>0.000299</td>\n",
       "      <td>8.922835e-08</td>\n",
       "      <td>0.412109</td>\n",
       "      <td>0.641957</td>\n",
       "    </tr>\n",
       "    <tr>\n",
       "      <th>958593</th>\n",
       "      <td>2019-12-31 15:53:00</td>\n",
       "      <td>114.8524</td>\n",
       "      <td>114.9038</td>\n",
       "      <td>114.8524</td>\n",
       "      <td>114.9038</td>\n",
       "      <td>39332.0</td>\n",
       "      <td>2019-12-31</td>\n",
       "      <td>15:53:00</td>\n",
       "      <td>0.000522</td>\n",
       "      <td>2.728102e-07</td>\n",
       "      <td>0.412109</td>\n",
       "      <td>0.641957</td>\n",
       "    </tr>\n",
       "    <tr>\n",
       "      <th>958594</th>\n",
       "      <td>2019-12-31 15:54:00</td>\n",
       "      <td>114.9038</td>\n",
       "      <td>114.9296</td>\n",
       "      <td>114.8910</td>\n",
       "      <td>114.9038</td>\n",
       "      <td>20436.0</td>\n",
       "      <td>2019-12-31</td>\n",
       "      <td>15:54:00</td>\n",
       "      <td>0.000000</td>\n",
       "      <td>0.000000e+00</td>\n",
       "      <td>0.412109</td>\n",
       "      <td>0.641957</td>\n",
       "    </tr>\n",
       "    <tr>\n",
       "      <th>958595</th>\n",
       "      <td>2019-12-31 15:55:00</td>\n",
       "      <td>114.9038</td>\n",
       "      <td>114.9553</td>\n",
       "      <td>114.8995</td>\n",
       "      <td>114.9467</td>\n",
       "      <td>30605.0</td>\n",
       "      <td>2019-12-31</td>\n",
       "      <td>15:55:00</td>\n",
       "      <td>0.000373</td>\n",
       "      <td>1.393425e-07</td>\n",
       "      <td>0.412109</td>\n",
       "      <td>0.641958</td>\n",
       "    </tr>\n",
       "  </tbody>\n",
       "</table>\n",
       "<p>958596 rows × 12 columns</p>\n",
       "</div>"
      ],
      "text/plain": [
       "                 Date Time      Open      High       Low     Close   Volume  \\\n",
       "0      2010-01-04 09:35:00   85.2401   85.2789   85.1624   85.2207  42796.0   \n",
       "1      2010-01-04 09:36:00   85.2271   85.4732   85.2142   85.4343  65921.0   \n",
       "2      2010-01-04 09:37:00   85.4214   85.4732   85.3048   85.4680  60876.0   \n",
       "3      2010-01-04 09:38:00   85.4732   85.5250   85.4279   85.5056  36812.0   \n",
       "4      2010-01-04 09:39:00   85.4946   85.5056   85.4214   85.4538  29232.0   \n",
       "...                    ...       ...       ...       ...       ...      ...   \n",
       "958591 2019-12-31 15:51:00  114.7837  114.8095  114.7794  114.8095  20723.0   \n",
       "958592 2019-12-31 15:52:00  114.8095  114.8438  114.8052  114.8438  24968.0   \n",
       "958593 2019-12-31 15:53:00  114.8524  114.9038  114.8524  114.9038  39332.0   \n",
       "958594 2019-12-31 15:54:00  114.9038  114.9296  114.8910  114.9038  20436.0   \n",
       "958595 2019-12-31 15:55:00  114.9038  114.9553  114.8995  114.9467  30605.0   \n",
       "\n",
       "              Date      Time  Log_Returns  log_return_squared  realized_var  \\\n",
       "0       2010-01-04  09:35:00          NaN                 NaN           NaN   \n",
       "1       2010-01-04  09:36:00     0.002503        6.266498e-06      0.000006   \n",
       "2       2010-01-04  09:37:00     0.000394        1.555335e-07      0.000006   \n",
       "3       2010-01-04  09:38:00     0.000440        1.934539e-07      0.000007   \n",
       "4       2010-01-04  09:39:00    -0.000606        3.672261e-07      0.000007   \n",
       "...            ...       ...          ...                 ...           ...   \n",
       "958591  2019-12-31  15:51:00     0.000225        5.051046e-08      0.412109   \n",
       "958592  2019-12-31  15:52:00     0.000299        8.922835e-08      0.412109   \n",
       "958593  2019-12-31  15:53:00     0.000522        2.728102e-07      0.412109   \n",
       "958594  2019-12-31  15:54:00     0.000000        0.000000e+00      0.412109   \n",
       "958595  2019-12-31  15:55:00     0.000373        1.393425e-07      0.412109   \n",
       "\n",
       "        realized_vol  \n",
       "0                NaN  \n",
       "1           0.002503  \n",
       "2           0.002534  \n",
       "3           0.002572  \n",
       "4           0.002642  \n",
       "...              ...  \n",
       "958591      0.641957  \n",
       "958592      0.641957  \n",
       "958593      0.641957  \n",
       "958594      0.641957  \n",
       "958595      0.641958  \n",
       "\n",
       "[958596 rows x 12 columns]"
      ]
     },
     "execution_count": 361,
     "metadata": {},
     "output_type": "execute_result"
    }
   ],
   "source": [
    "ibm_df"
   ]
  },
  {
   "cell_type": "code",
   "execution_count": 394,
   "id": "eed97794-9e69-4cc4-8333-b8750fe64118",
   "metadata": {},
   "outputs": [],
   "source": [
    "ibm_df = ibm_df.iloc[380:]\n",
    "ibm_df.reset_index(drop=True, inplace=True)"
   ]
  },
  {
   "cell_type": "code",
   "execution_count": null,
   "id": "f3dfdbbf-117f-4eea-937e-6ee730e6e702",
   "metadata": {},
   "outputs": [],
   "source": [
    "380+381+381+381"
   ]
  },
  {
   "cell_type": "markdown",
   "id": "11cfaf84-0844-4470-8ee3-42d90edcdf24",
   "metadata": {},
   "source": [
    "2010-01-04: 9:36:00 - 15:55:00\n",
    "2010-01-05: 9:35:00 - 15:55:00\n",
    "2010-01-06: 9:35:00 - 15:55:00"
   ]
  },
  {
   "cell_type": "code",
   "execution_count": 219,
   "id": "993d1050-e205-4b85-ba4a-6976480b5967",
   "metadata": {},
   "outputs": [],
   "source": [
    "ibm_df[\"mean_deviation\"] = ibm_df[\"Log_Returns\"].apply(lambda x: (x - log_return_mean)**2)"
   ]
  },
  {
   "cell_type": "code",
   "execution_count": null,
   "id": "4910d50c-fff7-47ed-84d6-6f2866605ad1",
   "metadata": {},
   "outputs": [],
   "source": [
    "70, 15"
   ]
  },
  {
   "cell_type": "code",
   "execution_count": 224,
   "id": "599d7977-eb48-4c8b-9e4c-d32d4400eee1",
   "metadata": {},
   "outputs": [],
   "source": [
    "ibm_daily_volatility = (ibm_df.groupby(ibm_df['Date Time'].dt.date)[\"mean_deviation\"].sum()/trading_hours)**0.5"
   ]
  },
  {
   "cell_type": "code",
   "execution_count": 454,
   "id": "e19dcf2c-de21-429d-97be-ca2435b1488a",
   "metadata": {},
   "outputs": [
    {
     "data": {
      "text/plain": [
       "957835"
      ]
     },
     "execution_count": 454,
     "metadata": {},
     "output_type": "execute_result"
    }
   ],
   "source": [
    "len(ibm_df)"
   ]
  },
  {
   "cell_type": "code",
   "execution_count": 462,
   "id": "e687d50e-c86b-42e6-9d02-b0cddf318530",
   "metadata": {},
   "outputs": [],
   "source": [
    "cum_vol = np.zeros(len(ibm_df))"
   ]
  },
  {
   "cell_type": "code",
   "execution_count": 463,
   "id": "eb22016b-d789-499b-bd2f-61b1e1112772",
   "metadata": {},
   "outputs": [],
   "source": [
    "for index, row in ibm_df.iterrows():\n",
    "    cum_vol[index] = (sqrt(row[\"mean_dev_cumsum\"]/(index+1)))"
   ]
  },
  {
   "cell_type": "code",
   "execution_count": 444,
   "id": "610c0a4f-cfca-44d1-b807-bbbe956ddade",
   "metadata": {},
   "outputs": [],
   "source": [
    "ibm_df[\"mean_dev_cumsum\"] = ibm_df[\"mean_deviation\"].cumsum()"
   ]
  },
  {
   "cell_type": "code",
   "execution_count": 362,
   "id": "0c9482d3-85c2-4202-93bd-91dcfdfc2780",
   "metadata": {},
   "outputs": [
    {
     "data": {
      "text/plain": [
       "[<matplotlib.lines.Line2D at 0x1058a1340>]"
      ]
     },
     "execution_count": 362,
     "metadata": {},
     "output_type": "execute_result"
    },
    {
     "data": {
      "image/png": "[encoded data removed]",
      "text/plain": [
       "<Figure size 640x480 with 1 Axes>"
      ]
     },
     "metadata": {},
     "output_type": "display_data"
    }
   ],
   "source": [
    "plt.plot(ibm_df[\"realized_vol\"])"
   ]
  },
  {
   "cell_type": "code",
   "execution_count": 465,
   "id": "9c7d06cb-dbd3-4717-918d-9a3df27e218e",
   "metadata": {},
   "outputs": [],
   "source": [
    "ibm_df[\"cum_vol\"] = cum_vol"
   ]
  },
  {
   "cell_type": "code",
   "execution_count": 491,
   "id": "759ea8f5-c549-48fa-ba67-a8cef35f2e96",
   "metadata": {},
   "outputs": [],
   "source": [
    "last_minute_of_each_day = ibm_df.groupby(ibm_df['Date Time'].dt.date).last()"
   ]
  },
  {
   "cell_type": "code",
   "execution_count": 450,
   "id": "c78416e1-9a17-4b9e-8132-9f851b742e67",
   "metadata": {},
   "outputs": [],
   "source": [
    "from math import sqrt"
   ]
  },
  {
   "cell_type": "markdown",
   "id": "fc2066ae-d7b7-4705-8d99-3f1a4831f929",
   "metadata": {},
   "source": [
    "# Data Insights"
   ]
  },
  {
   "cell_type": "code",
   "execution_count": 166,
   "id": "801a3b54-724d-4ff9-b1a3-7c4bcc05b6ee",
   "metadata": {},
   "outputs": [
    {
     "data": {
      "text/html": [
       "<div>\n",
       "<style scoped>\n",
       "    .dataframe tbody tr th:only-of-type {\n",
       "        vertical-align: middle;\n",
       "    }\n",
       "\n",
       "    .dataframe tbody tr th {\n",
       "        vertical-align: top;\n",
       "    }\n",
       "\n",
       "    .dataframe thead th {\n",
       "        text-align: right;\n",
       "    }\n",
       "</style>\n",
       "<table border=\"1\" class=\"dataframe\">\n",
       "  <thead>\n",
       "    <tr style=\"text-align: right;\">\n",
       "      <th></th>\n",
       "      <th>Date Time</th>\n",
       "      <th>Open</th>\n",
       "      <th>High</th>\n",
       "      <th>Low</th>\n",
       "      <th>Close</th>\n",
       "      <th>Volume</th>\n",
       "      <th>Date</th>\n",
       "      <th>Time</th>\n",
       "      <th>Log_Returns</th>\n",
       "      <th>volaility</th>\n",
       "      <th>volatility</th>\n",
       "    </tr>\n",
       "  </thead>\n",
       "  <tbody>\n",
       "    <tr>\n",
       "      <th>794921</th>\n",
       "      <td>2018-04-18 12:10:00</td>\n",
       "      <td>117.9897</td>\n",
       "      <td>118.0921</td>\n",
       "      <td>117.9579</td>\n",
       "      <td>118.0016</td>\n",
       "      <td>35686.0</td>\n",
       "      <td>2018-04-18</td>\n",
       "      <td>12:10:00</td>\n",
       "      <td>0.000370</td>\n",
       "      <td>0.000370</td>\n",
       "      <td>1.369669e-07</td>\n",
       "    </tr>\n",
       "    <tr>\n",
       "      <th>794922</th>\n",
       "      <td>2018-04-18 12:11:00</td>\n",
       "      <td>118.0016</td>\n",
       "      <td>127.7209</td>\n",
       "      <td>117.9897</td>\n",
       "      <td>127.7209</td>\n",
       "      <td>21200.0</td>\n",
       "      <td>2018-04-18</td>\n",
       "      <td>12:11:00</td>\n",
       "      <td>0.079149</td>\n",
       "      <td>0.079149</td>\n",
       "      <td>6.264551e-03</td>\n",
       "    </tr>\n",
       "    <tr>\n",
       "      <th>794923</th>\n",
       "      <td>2018-04-18 12:12:00</td>\n",
       "      <td>118.0413</td>\n",
       "      <td>118.0611</td>\n",
       "      <td>118.0055</td>\n",
       "      <td>118.0325</td>\n",
       "      <td>13916.0</td>\n",
       "      <td>2018-04-18</td>\n",
       "      <td>12:12:00</td>\n",
       "      <td>-0.078887</td>\n",
       "      <td>-0.078888</td>\n",
       "      <td>6.223272e-03</td>\n",
       "    </tr>\n",
       "    <tr>\n",
       "      <th>794924</th>\n",
       "      <td>2018-04-18 12:13:00</td>\n",
       "      <td>118.0254</td>\n",
       "      <td>118.0611</td>\n",
       "      <td>118.0214</td>\n",
       "      <td>118.0373</td>\n",
       "      <td>12823.0</td>\n",
       "      <td>2018-04-18</td>\n",
       "      <td>12:13:00</td>\n",
       "      <td>0.000041</td>\n",
       "      <td>0.000040</td>\n",
       "      <td>1.628428e-09</td>\n",
       "    </tr>\n",
       "  </tbody>\n",
       "</table>\n",
       "</div>"
      ],
      "text/plain": [
       "                 Date Time      Open      High       Low     Close   Volume  \\\n",
       "794921 2018-04-18 12:10:00  117.9897  118.0921  117.9579  118.0016  35686.0   \n",
       "794922 2018-04-18 12:11:00  118.0016  127.7209  117.9897  127.7209  21200.0   \n",
       "794923 2018-04-18 12:12:00  118.0413  118.0611  118.0055  118.0325  13916.0   \n",
       "794924 2018-04-18 12:13:00  118.0254  118.0611  118.0214  118.0373  12823.0   \n",
       "\n",
       "              Date      Time  Log_Returns  volaility    volatility  \n",
       "794921  2018-04-18  12:10:00     0.000370   0.000370  1.369669e-07  \n",
       "794922  2018-04-18  12:11:00     0.079149   0.079149  6.264551e-03  \n",
       "794923  2018-04-18  12:12:00    -0.078887  -0.078888  6.223272e-03  \n",
       "794924  2018-04-18  12:13:00     0.000041   0.000040  1.628428e-09  "
      ]
     },
     "execution_count": 166,
     "metadata": {},
     "output_type": "execute_result"
    }
   ],
   "source": [
    "ibm_df.iloc[794919:794923]"
   ]
  },
  {
   "cell_type": "code",
   "execution_count": 500,
   "id": "f2bb546b-36de-4913-94cb-a4ed577a3d9a",
   "metadata": {},
   "outputs": [
    {
     "data": {
      "text/plain": [
       "867157    0.080164\n",
       "794161    0.079149\n",
       "746761    0.076530\n",
       "291847    0.048386\n",
       "586360    0.042518\n",
       "818389    0.035161\n",
       "243460    0.034949\n",
       "32386     0.031170\n",
       "770002    0.028511\n",
       "147067    0.027408\n",
       "195835    0.026553\n",
       "657226    0.023944\n",
       "154306    0.023355\n",
       "926593    0.022548\n",
       "540640    0.022260\n",
       "191263    0.022031\n",
       "182119    0.021910\n",
       "156211    0.021788\n",
       "792481    0.021103\n",
       "99442     0.021084\n",
       "Name: Log_Returns, dtype: float64"
      ]
     },
     "execution_count": 500,
     "metadata": {},
     "output_type": "execute_result"
    }
   ],
   "source": [
    "ibm_df[\"Log_Returns\"].nlargest(20)"
   ]
  },
  {
   "cell_type": "code",
   "execution_count": 180,
   "id": "fbc8536a-c3a2-44c2-a91b-bb7bf86d4801",
   "metadata": {},
   "outputs": [],
   "source": [
    "q_low = jnj_df[\"Log_Returns\"].quantile(0.01)\n",
    "q_hi  = jnj_df[\"Log_Returns\"].quantile(0.99)"
   ]
  },
  {
   "cell_type": "code",
   "execution_count": 181,
   "id": "1fd41d49-6f6a-4bff-af66-1c68a2c82fa2",
   "metadata": {},
   "outputs": [],
   "source": [
    "df_filtered = jnj_df[(jnj_df[\"Log_Returns\"] < q_hi) & (jnj_df[\"Log_Returns\"] > q_low)]"
   ]
  },
  {
   "cell_type": "code",
   "execution_count": 184,
   "id": "b0000d87-e8ec-4676-b855-ab45935830d3",
   "metadata": {},
   "outputs": [
    {
     "data": {
      "text/plain": [
       "(array([  7748.,  17736.,  45394., 115551., 332087., 233255., 116581.,\n",
       "         45171.,  17995.,   7905.]),\n",
       " array([-1.18405736e-03, -9.47071597e-04, -7.10085832e-04, -4.73100066e-04,\n",
       "        -2.36114300e-04,  8.71465774e-07,  2.37857232e-04,  4.74842997e-04,\n",
       "         7.11828763e-04,  9.48814529e-04,  1.18580029e-03]),\n",
       " <BarContainer object of 10 artists>)"
      ]
     },
     "execution_count": 184,
     "metadata": {},
     "output_type": "execute_result"
    },
    {
     "data": {
      "image/png": "[encoded data removed]",
      "text/plain": [
       "<Figure size 640x480 with 1 Axes>"
      ]
     },
     "metadata": {},
     "output_type": "display_data"
    }
   ],
   "source": [
    "plt.hist(df_filtered[\"Log_Returns\"])"
   ]
  },
  {
   "cell_type": "code",
   "execution_count": 178,
   "id": "4d1d7328-9327-4bf3-899b-19add9c5441c",
   "metadata": {},
   "outputs": [
    {
     "data": {
      "text/plain": [
       "540639   -0.102017\n",
       "858393   -0.040737\n",
       "858774   -0.029305\n",
       "913005   -0.029194\n",
       "776051   -0.027473\n",
       "483489   -0.026836\n",
       "32694    -0.025722\n",
       "160782   -0.025706\n",
       "698754   -0.024800\n",
       "51816    -0.024458\n",
       "101727   -0.022819\n",
       "575310   -0.021826\n",
       "867537   -0.021670\n",
       "676656   -0.021036\n",
       "176022   -0.020850\n",
       "913638   -0.020522\n",
       "939165   -0.020233\n",
       "542925   -0.019594\n",
       "76200    -0.019038\n",
       "162306   -0.018779\n",
       "Name: Log_Returns, dtype: float64"
      ]
     },
     "execution_count": 178,
     "metadata": {},
     "output_type": "execute_result"
    }
   ],
   "source": [
    "jnj_df[\"Log_Returns\"].nsmallest(20)"
   ]
  },
  {
   "cell_type": "code",
   "execution_count": 158,
   "id": "b05153d3-0824-43f2-9390-618ba5120a23",
   "metadata": {},
   "outputs": [
    {
     "data": {
      "text/plain": [
       "{'whiskers': [<matplotlib.lines.Line2D at 0x357c875e0>,\n",
       "  <matplotlib.lines.Line2D at 0x357c87880>],\n",
       " 'caps': [<matplotlib.lines.Line2D at 0x357c87b20>,\n",
       "  <matplotlib.lines.Line2D at 0x357c87dc0>],\n",
       " 'boxes': [<matplotlib.lines.Line2D at 0x357c87340>],\n",
       " 'medians': [<matplotlib.lines.Line2D at 0x357c960a0>],\n",
       " 'fliers': [<matplotlib.lines.Line2D at 0x357c62b20>],\n",
       " 'means': []}"
      ]
     },
     "execution_count": 158,
     "metadata": {},
     "output_type": "execute_result"
    },
    {
     "data": {
      "image/png": "[encoded data removed]",
      "text/plain": [
       "<Figure size 640x480 with 1 Axes>"
      ]
     },
     "metadata": {},
     "output_type": "display_data"
    }
   ],
   "source": [
    "plt.boxplot(ibm_df[\"Log_Returns\"])"
   ]
  },
  {
   "cell_type": "code",
   "execution_count": 143,
   "id": "50e755b9-c4a0-424f-8722-09c622a7a006",
   "metadata": {},
   "outputs": [
    {
     "data": {
      "text/plain": [
       "(array([6.00000e+00, 6.00000e+00, 1.50000e+01, 3.70000e+01, 8.98795e+05,\n",
       "        5.96980e+04, 3.10000e+01, 3.00000e+00, 1.00000e+00, 3.00000e+00]),\n",
       " array([-0.0788874 , -0.06298231, -0.04707722, -0.03117213, -0.01526703,\n",
       "         0.00063806,  0.01654315,  0.03244825,  0.04835334,  0.06425843,\n",
       "         0.08016352]),\n",
       " <BarContainer object of 10 artists>)"
      ]
     },
     "execution_count": 143,
     "metadata": {},
     "output_type": "execute_result"
    },
    {
     "data": {
      "image/png": "[encoded data removed]",
      "text/plain": [
       "<Figure size 640x480 with 1 Axes>"
      ]
     },
     "metadata": {},
     "output_type": "display_data"
    }
   ],
   "source": [
    "plt.hist(ibm_df[\"Log_Returns\"], bins=10)"
   ]
  },
  {
   "cell_type": "code",
   "execution_count": 187,
   "id": "ee225d85-ee1e-4e10-a4c2-40704df38935",
   "metadata": {},
   "outputs": [],
   "source": [
    "daily_log_returns_large = ibm_df.resample('D', on='Date Time').sum()[\"Log_Returns\"]"
   ]
  },
  {
   "cell_type": "markdown",
   "id": "14317dce-c420-4087-b9b7-721662e42680",
   "metadata": {},
   "source": [
    "# Creating image"
   ]
  },
  {
   "cell_type": "code",
   "execution_count": 247,
   "id": "93233639-dbcb-4ffa-b801-28d34773aef2",
   "metadata": {},
   "outputs": [
    {
     "data": {
      "text/plain": [
       "2500"
      ]
     },
     "execution_count": 247,
     "metadata": {},
     "output_type": "execute_result"
    }
   ],
   "source": [
    "50*50"
   ]
  },
  {
   "cell_type": "code",
   "execution_count": 271,
   "id": "0744a6f2-6c42-4779-b000-c384d0a17e69",
   "metadata": {},
   "outputs": [],
   "source": [
    "ibm_daily_volatility_diff = ibm_daily_volatility.diff().dropna()"
   ]
  },
  {
   "cell_type": "code",
   "execution_count": 282,
   "id": "47647e5b-16d0-4fc2-a1f3-f8d37b4e5919",
   "metadata": {},
   "outputs": [],
   "source": [
    "pre_scale = np.reshape(ibm_daily_volatility_diff, (-1,1))"
   ]
  },
  {
   "cell_type": "code",
   "execution_count": null,
   "id": "48a9cc35-d065-4a8e-8d35-e733f14db8e4",
   "metadata": {},
   "outputs": [],
   "source": []
  },
  {
   "cell_type": "code",
   "execution_count": 283,
   "id": "55d0e1a2-29f5-4538-bb12-771fb92752ac",
   "metadata": {},
   "outputs": [
    {
     "data": {
      "text/plain": [
       "(2514, 1)"
      ]
     },
     "execution_count": 283,
     "metadata": {},
     "output_type": "execute_result"
    }
   ],
   "source": [
    "pre_scale.shape"
   ]
  },
  {
   "cell_type": "code",
   "execution_count": 287,
   "id": "a9d09c6c-686d-4379-b546-4feaa68b35fa",
   "metadata": {},
   "outputs": [],
   "source": [
    "scaled_daily_vol_dif = mm_scaler_x.fit_transform(pre_scale)"
   ]
  },
  {
   "cell_type": "code",
   "execution_count": 496,
   "id": "687ba0a4-718c-4fbc-85d9-4f180029969a",
   "metadata": {},
   "outputs": [],
   "source": [
    "daily_volatility_diff = last_minute_of_each_day[\"cum_vol\"].diff().dropna()\n",
    "\n",
    "pre_scale = np.reshape(daily_volatility_diff, (-1,1))\n",
    "    \n",
    "mm_scaler_x = MinMaxScaler(feature_range=(-255,255))\n",
    "scaled_daily_vol_dif = mm_scaler_x.fit_transform(pre_scale)"
   ]
  },
  {
   "cell_type": "code",
   "execution_count": 498,
   "id": "9e73127d-ed33-47a7-9bbf-6d23e9b3ff13",
   "metadata": {},
   "outputs": [
    {
     "data": {
      "text/plain": [
       "(2513, 1)"
      ]
     },
     "execution_count": 498,
     "metadata": {},
     "output_type": "execute_result"
    }
   ],
   "source": [
    "scaled_daily_vol_dif.shape"
   ]
  },
  {
   "cell_type": "code",
   "execution_count": 499,
   "id": "ed98ef86-3f6b-41e7-9f26-6a9689296426",
   "metadata": {},
   "outputs": [
    {
     "name": "stderr",
     "output_type": "stream",
     "text": [
      "/var/folders/31/d9mhbrs95msdp4hzv2wdsc8w0000gn/T/ipykernel_54188/2922091584.py:11: DeprecationWarning: Conversion of an array with ndim > 0 to a scalar is deprecated, and will error in future. Ensure you extract a single element from your array before performing this operation. (Deprecated NumPy 1.25.)\n",
      "  red[i] = np.abs(scaled_daily_vol_dif[i])\n",
      "/var/folders/31/d9mhbrs95msdp4hzv2wdsc8w0000gn/T/ipykernel_54188/2922091584.py:13: DeprecationWarning: Conversion of an array with ndim > 0 to a scalar is deprecated, and will error in future. Ensure you extract a single element from your array before performing this operation. (Deprecated NumPy 1.25.)\n",
      "  green[i] = scaled_daily_vol_dif[i]\n"
     ]
    },
    {
     "data": {
      "text/plain": [
       "(50, 50, 3)"
      ]
     },
     "execution_count": 499,
     "metadata": {},
     "output_type": "execute_result"
    }
   ],
   "source": [
    "diff_to_rgb(scaled_daily_vol_dif).shape"
   ]
  },
  {
   "cell_type": "code",
   "execution_count": 406,
   "id": "5b3e1d4d-6843-4310-99ee-b21ba2ad9be3",
   "metadata": {},
   "outputs": [],
   "source": [
    "def create_full_image(stock_data):\n",
    "\n",
    "    df = stock_data\n",
    "    \n",
    "    observations_per_day = df.groupby(df['Date Time'].dt.date).size()\n",
    "    trading_hours = observations_per_day.unique()[0]\n",
    "\n",
    "    log_return_mean = df[\"Log_Returns\"].mean()\n",
    "    df[\"mean_deviation\"] = df[\"Log_Returns\"].apply(lambda x: (x - log_return_mean)**2)\n",
    "\n",
    "    daily_volatility = (df.groupby(df['Date Time'].dt.date)[\"mean_deviation\"].sum()/trading_hours)**0.5\n",
    "\n",
    "    \n",
    "    daily_volatility_diff = daily_volatility.diff().dropna()\n",
    "\n",
    "    pre_scale = np.reshape(daily_volatility_diff, (-1,1))\n",
    "    \n",
    "    mm_scaler_x = MinMaxScaler(feature_range=(-255,255))\n",
    "    scaled_daily_vol_dif = mm_scaler_x.fit_transform(pre_scale)\n",
    "\n",
    "    return diff_to_rgb(scaled_daily_vol_dif)\n",
    "    "
   ]
  },
  {
   "cell_type": "code",
   "execution_count": 412,
   "id": "4f617fef-91f7-4839-87df-281c2e6e662f",
   "metadata": {},
   "outputs": [
    {
     "name": "stderr",
     "output_type": "stream",
     "text": [
      "/var/folders/31/d9mhbrs95msdp4hzv2wdsc8w0000gn/T/ipykernel_54188/2922091584.py:11: DeprecationWarning: Conversion of an array with ndim > 0 to a scalar is deprecated, and will error in future. Ensure you extract a single element from your array before performing this operation. (Deprecated NumPy 1.25.)\n",
      "  red[i] = np.abs(scaled_daily_vol_dif[i])\n",
      "/var/folders/31/d9mhbrs95msdp4hzv2wdsc8w0000gn/T/ipykernel_54188/2922091584.py:13: DeprecationWarning: Conversion of an array with ndim > 0 to a scalar is deprecated, and will error in future. Ensure you extract a single element from your array before performing this operation. (Deprecated NumPy 1.25.)\n",
      "  green[i] = scaled_daily_vol_dif[i]\n"
     ]
    }
   ],
   "source": [
    "tmp = create_full_image(jnj_df)"
   ]
  },
  {
   "cell_type": "code",
   "execution_count": 413,
   "id": "db061aed-8b6e-4c8d-9ae2-1bc835deac7e",
   "metadata": {},
   "outputs": [
    {
     "name": "stderr",
     "output_type": "stream",
     "text": [
      "/var/folders/31/d9mhbrs95msdp4hzv2wdsc8w0000gn/T/ipykernel_54188/2922091584.py:11: DeprecationWarning: Conversion of an array with ndim > 0 to a scalar is deprecated, and will error in future. Ensure you extract a single element from your array before performing this operation. (Deprecated NumPy 1.25.)\n",
      "  red[i] = np.abs(scaled_daily_vol_dif[i])\n",
      "/var/folders/31/d9mhbrs95msdp4hzv2wdsc8w0000gn/T/ipykernel_54188/2922091584.py:13: DeprecationWarning: Conversion of an array with ndim > 0 to a scalar is deprecated, and will error in future. Ensure you extract a single element from your array before performing this operation. (Deprecated NumPy 1.25.)\n",
      "  green[i] = scaled_daily_vol_dif[i]\n"
     ]
    }
   ],
   "source": [
    "tmpp = create_full_image(wmt_df)"
   ]
  },
  {
   "cell_type": "code",
   "execution_count": 131,
   "id": "408e8810-9abc-4f4c-ab10-e5d920aed611",
   "metadata": {},
   "outputs": [],
   "source": [
    "def diff_to_rgb(scaled_daily_vol_dif):\n",
    "\n",
    "    size = scaled_daily_vol_dif.shape[0]\n",
    "    \n",
    "    red = np.zeros(size)\n",
    "    green = np.zeros(size)\n",
    "    blue = np.zeros(size)\n",
    "    \n",
    "    for i in range(len(scaled_daily_vol_dif)):\n",
    "        if scaled_daily_vol_dif[i] < 0:\n",
    "            red[i] = np.abs(scaled_daily_vol_dif[i])\n",
    "        elif scaled_daily_vol_dif[i] > 0:\n",
    "            green[i] = scaled_daily_vol_dif[i]\n",
    "        elif scaled_daily_vol_dif[i] == 0:\n",
    "            continue\n",
    "        else:\n",
    "            print(error)\n",
    "\n",
    "    image_dim = math.floor(scaled_daily_vol_dif.shape[0]**0.5)\n",
    "\n",
    "    flat_image = np.column_stack((red, green, blue))\n",
    "\n",
    "    square_image = flat_image[:image_dim**2].reshape((image_dim, image_dim, 3))\n",
    "    return square_image"
   ]
  },
  {
   "cell_type": "code",
   "execution_count": 320,
   "id": "979687ba-1775-4b09-84d1-dec75c8cef01",
   "metadata": {},
   "outputs": [
    {
     "data": {
      "text/plain": [
       "(958215, 11)"
      ]
     },
     "execution_count": 320,
     "metadata": {},
     "output_type": "execute_result"
    }
   ],
   "source": [
    "tmp.shape"
   ]
  },
  {
   "cell_type": "code",
   "execution_count": 294,
   "id": "2088f743-54d3-457a-8753-58b12a8faaad",
   "metadata": {},
   "outputs": [],
   "source": [
    "reshaped_arr = testing[:50**2].reshape((50, 50, 3))"
   ]
  },
  {
   "cell_type": "code",
   "execution_count": 421,
   "id": "d7edca6b-cc00-450a-8764-571f332d2b23",
   "metadata": {},
   "outputs": [
    {
     "name": "stderr",
     "output_type": "stream",
     "text": [
      "Clipping input data to the valid range for imshow with RGB data ([0..1] for floats or [0..255] for integers).\n"
     ]
    },
    {
     "data": {
      "text/plain": [
       "<matplotlib.image.AxesImage at 0x3571ff2e0>"
      ]
     },
     "execution_count": 421,
     "metadata": {},
     "output_type": "execute_result"
    },
    {
     "data": {
      "image/png": "[encoded data removed]",
      "text/plain": [
       "<Figure size 640x480 with 1 Axes>"
      ]
     },
     "metadata": {},
     "output_type": "display_data"
    }
   ],
   "source": [
    "plt.imshow(tmppp)"
   ]
  },
  {
   "cell_type": "code",
   "execution_count": 502,
   "id": "e20a07ac-5c13-4ef2-8f90-edd9b9bf4bbc",
   "metadata": {},
   "outputs": [
    {
     "data": {
      "text/plain": [
       "125.75"
      ]
     },
     "execution_count": 502,
     "metadata": {},
     "output_type": "execute_result"
    }
   ],
   "source": [
    "2515/5/4"
   ]
  },
  {
   "cell_type": "code",
   "execution_count": 504,
   "id": "1b61a53e-1ea0-4fd5-87cb-e507c387c910",
   "metadata": {},
   "outputs": [
    {
     "data": {
      "text/plain": [
       "8360"
      ]
     },
     "execution_count": 504,
     "metadata": {},
     "output_type": "execute_result"
    }
   ],
   "source": [
    "380*22"
   ]
  },
  {
   "cell_type": "markdown",
   "id": "8d7eccbe-91d7-44ce-b86a-68a88c9eec02",
   "metadata": {},
   "source": [
    "1. 5 Minuten\n",
    "2. x Achse Minuten, y Achse Tage im Monat\n",
    "3. rolling window"
   ]
  },
  {
   "cell_type": "code",
   "execution_count": 417,
   "id": "4131137a-9090-4956-9eca-33c59a4e80fd",
   "metadata": {},
   "outputs": [
    {
     "name": "stderr",
     "output_type": "stream",
     "text": [
      "Clipping input data to the valid range for imshow with RGB data ([0..1] for floats or [0..255] for integers).\n"
     ]
    },
    {
     "data": {
      "text/plain": [
       "<matplotlib.image.AxesImage at 0x357194f40>"
      ]
     },
     "execution_count": 417,
     "metadata": {},
     "output_type": "execute_result"
    },
    {
     "data": {
      "image/png": "[encoded data removed]",
      "text/plain": [
       "<Figure size 640x480 with 1 Axes>"
      ]
     },
     "metadata": {},
     "output_type": "display_data"
    }
   ],
   "source": [
    "plt.imshow(tmp)"
   ]
  },
  {
   "cell_type": "code",
   "execution_count": 415,
   "id": "10cfb05a-b000-455e-941c-e4e2ddcce6f2",
   "metadata": {},
   "outputs": [
    {
     "name": "stderr",
     "output_type": "stream",
     "text": [
      "Clipping input data to the valid range for imshow with RGB data ([0..1] for floats or [0..255] for integers).\n"
     ]
    },
    {
     "data": {
      "text/plain": [
       "<matplotlib.image.AxesImage at 0x356c41250>"
      ]
     },
     "execution_count": 415,
     "metadata": {},
     "output_type": "execute_result"
    },
    {
     "data": {
      "image/png": "[encoded data removed]",
      "text/plain": [
       "<Figure size 640x480 with 1 Axes>"
      ]
     },
     "metadata": {},
     "output_type": "display_data"
    }
   ],
   "source": [
    "plt.imshow(tmpp)"
   ]
  },
  {
   "cell_type": "code",
   "execution_count": 22,
   "id": "a30dbe5c-f7e3-4da7-bba6-cd4efba6f898",
   "metadata": {},
   "outputs": [
    {
     "name": "stderr",
     "output_type": "stream",
     "text": [
      "Clipping input data to the valid range for imshow with RGB data ([0..1] for floats or [0..255] for integers).\n"
     ]
    },
    {
     "data": {
      "text/plain": [
       "<matplotlib.image.AxesImage at 0x32c7c8190>"
      ]
     },
     "execution_count": 22,
     "metadata": {},
     "output_type": "execute_result"
    },
    {
     "data": {
      "image/png": "[encoded data removed]",
      "text/plain": [
       "<Figure size 640x480 with 1 Axes>"
      ]
     },
     "metadata": {},
     "output_type": "display_data"
    }
   ],
   "source": [
    "plt.imshow(np.array([testing]), aspect = \"auto\")"
   ]
  },
  {
   "cell_type": "code",
   "execution_count": 23,
   "id": "74341cef-12bd-45b7-b600-8e2f9724e935",
   "metadata": {},
   "outputs": [],
   "source": [
    "!mkdir \"raw_data/images\""
   ]
  },
  {
   "cell_type": "code",
   "execution_count": 92,
   "id": "b106243a-d346-4e2f-a1ae-1b63bbae9c5c",
   "metadata": {},
   "outputs": [],
   "source": [
    "tmp = reshaped_arr.astype(np.uint8)"
   ]
  },
  {
   "cell_type": "code",
   "execution_count": 89,
   "id": "e7752648-653e-42e1-8742-c5ecb4eaecd1",
   "metadata": {},
   "outputs": [],
   "source": [
    "normalized_arr = np.clip(reshaped_arr, 0, 1)"
   ]
  },
  {
   "cell_type": "code",
   "execution_count": 96,
   "id": "299568e3-8840-44c3-8387-0ffbe0016e47",
   "metadata": {},
   "outputs": [],
   "source": [
    "uint8_arr = (normalized_arr * 255).astype(np.uint8)\n",
    "\n",
    "plt.imsave(\"raw_data/images/test4.png\", uint8_arr)"
   ]
  },
  {
   "cell_type": "code",
   "execution_count": null,
   "id": "ca3ced8e-1527-41bc-8e83-32d106908b3f",
   "metadata": {},
   "outputs": [],
   "source": [
    "reshape"
   ]
  },
  {
   "cell_type": "code",
   "execution_count": 95,
   "id": "813a45d7-b55a-41b3-94ef-7b886f3f5ab7",
   "metadata": {},
   "outputs": [],
   "source": [
    "plt.imsave(\"raw_data/images/test3.png\", tmp)"
   ]
  },
  {
   "cell_type": "code",
   "execution_count": 98,
   "id": "c0abd0e9-1431-4e7c-b429-86ab4922d611",
   "metadata": {},
   "outputs": [
    {
     "data": {
      "text/plain": [
       "<matplotlib.image.AxesImage at 0x31f85d850>"
      ]
     },
     "execution_count": 98,
     "metadata": {},
     "output_type": "execute_result"
    },
    {
     "data": {
      "image/png": "[encoded data removed]",
      "text/plain": [
       "<Figure size 640x480 with 1 Axes>"
      ]
     },
     "metadata": {},
     "output_type": "display_data"
    }
   ],
   "source": [
    "image_data = plt.imread(\"raw_data/images/test4.png\")\n",
    "\n",
    "# Display the image\n",
    "plt.imshow(image_data)"
   ]
  },
  {
   "cell_type": "code",
   "execution_count": 178,
   "id": "f14336c0-cffd-417c-8f2a-bed11ec14346",
   "metadata": {},
   "outputs": [
    {
     "data": {
      "text/plain": [
       "(1, 3, 3)"
      ]
     },
     "execution_count": 178,
     "metadata": {},
     "output_type": "execute_result"
    }
   ],
   "source": [
    "np.array([[[255,0,0], [0,255,0], [0,0,255]]]).shape"
   ]
  },
  {
   "cell_type": "code",
   "execution_count": 167,
   "id": "ef15681a-0fb7-49d7-a218-80b74c973eb9",
   "metadata": {},
   "outputs": [
    {
     "data": {
      "text/plain": [
       "<matplotlib.image.AxesImage at 0x155d90fa0>"
      ]
     },
     "execution_count": 167,
     "metadata": {},
     "output_type": "execute_result"
    },
    {
     "data": {
      "image/png": "[encoded data removed]",
      "text/plain": [
       "<Figure size 640x480 with 1 Axes>"
      ]
     },
     "metadata": {},
     "output_type": "display_data"
    }
   ],
   "source": [
    "plt.imshow(np.array([[[255,0,0], [0,255,0], [0,0,255]]]))"
   ]
  },
  {
   "cell_type": "code",
   "execution_count": null,
   "id": "f8c31d24-6a80-4774-b7f4-bc2f1c31bd4f",
   "metadata": {},
   "outputs": [],
   "source": []
  },
  {
   "cell_type": "code",
   "execution_count": null,
   "id": "980f33bf-561b-4c55-8864-0221bd947a04",
   "metadata": {},
   "outputs": [],
   "source": [
    "a = np.array((1,2,3))\n",
    "b = np.array((2,3,4))\n",
    "np.column_stack((a,b))\n",
    "array([[1, 2],\n",
    "       [2, 3],\n",
    "       [3, 4]])"
   ]
  },
  {
   "cell_type": "code",
   "execution_count": 38,
   "id": "e13c434b-b9c8-48fd-aa60-f75a97c1398d",
   "metadata": {},
   "outputs": [
    {
     "data": {
      "image/png": "[encoded data removed]",
      "text/plain": [
       "<Figure size 640x480 with 1 Axes>"
      ]
     },
     "metadata": {},
     "output_type": "display_data"
    }
   ],
   "source": [
    "palette = np.array([[255,   0,   0], # index 0: red\n",
    "                   [  0, 255,   0], # index 1: green\n",
    "                    [  0,   0, 255], # index 2: blue\n",
    "                    [255, 255, 255], # index 3: white\n",
    "                    [  0,   0,   0], # index 4: black\n",
    "                    [255, 255,   0], # index 5: yellow\n",
    "                     ], dtype=np.uint8)\n",
    "     \n",
    "\n",
    "m, n = 4, 6\n",
    "\n",
    "indices = np.random.randint(0, len(palette), size=(4, 6))\n",
    "indices\n",
    "np.array([[2, 4, 0, 1, 4, 2],\n",
    "       [1, 1, 5, 5, 2, 0],\n",
    "       [4, 4, 3, 3, 0, 4],\n",
    "       [2, 5, 0, 5, 2, 3]])\n",
    "\n",
    "In [21]: plt.imshow(palette[indices])"
   ]
  },
  {
   "cell_type": "code",
   "execution_count": 138,
   "id": "4f4897c8-f739-4330-b344-72353906305c",
   "metadata": {},
   "outputs": [
    {
     "data": {
      "text/plain": [
       "array([[[  0,   0, 255],\n",
       "        [255, 255,   0],\n",
       "        [255, 255, 255],\n",
       "        [  0,   0, 255],\n",
       "        [255, 255,   0],\n",
       "        [  0, 255,   0]],\n",
       "\n",
       "       [[  0,   0,   0],\n",
       "        [  0,   0,   0],\n",
       "        [  0, 255,   0],\n",
       "        [  0,   0,   0],\n",
       "        [  0,   0,   0],\n",
       "        [255, 255, 255]],\n",
       "\n",
       "       [[  0,   0,   0],\n",
       "        [  0, 255,   0],\n",
       "        [255, 255,   0],\n",
       "        [  0,   0,   0],\n",
       "        [255, 255,   0],\n",
       "        [255,   0,   0]],\n",
       "\n",
       "       [[255,   0,   0],\n",
       "        [255,   0,   0],\n",
       "        [  0,   0,   0],\n",
       "        [  0,   0, 255],\n",
       "        [  0,   0, 255],\n",
       "        [  0,   0, 255]]], dtype=uint8)"
      ]
     },
     "execution_count": 138,
     "metadata": {},
     "output_type": "execute_result"
    }
   ],
   "source": [
    "palette[indices]"
   ]
  },
  {
   "cell_type": "code",
   "execution_count": null,
   "id": "e3fc77fd-3fc9-4dc9-8f0d-be3ccdf5d2c6",
   "metadata": {},
   "outputs": [],
   "source": []
  },
  {
   "cell_type": "markdown",
   "id": "00e68978-76e7-4d6f-9269-c89faaf28d8b",
   "metadata": {},
   "source": [
    "## train_test_split"
   ]
  },
  {
   "cell_type": "code",
   "execution_count": 365,
   "id": "6218c913-df67-4909-ade6-bd1ee80a9c95",
   "metadata": {},
   "outputs": [],
   "source": [
    "ibm_df[\"forward_RV\"] = ibm_df[\"realized_vol\"].shift(1)"
   ]
  },
  {
   "cell_type": "code",
   "execution_count": 371,
   "id": "6a88d77d-fb1b-4bac-8543-4c3aad5c92b4",
   "metadata": {},
   "outputs": [
    {
     "data": {
      "text/plain": [
       "670750.5"
      ]
     },
     "execution_count": 371,
     "metadata": {},
     "output_type": "execute_result"
    }
   ],
   "source": [
    "ibm_df.shape[0] * 0.7"
   ]
  },
  {
   "cell_type": "code",
   "execution_count": 381,
   "id": "904e530d-f2ff-4406-97f7-78745f67cca9",
   "metadata": {},
   "outputs": [],
   "source": [
    "ibm_train_split = ibm_df.iloc[:670941]"
   ]
  },
  {
   "cell_type": "code",
   "execution_count": 383,
   "id": "4cee6606-3709-4ee1-9280-4aa06af20a9e",
   "metadata": {},
   "outputs": [],
   "source": [
    "ibm_train_split.reset_index(drop=True, inplace=True)"
   ]
  },
  {
   "cell_type": "code",
   "execution_count": 21,
   "id": "c96e5a6b-0d95-4a3a-b074-0bbffe9e9c42",
   "metadata": {},
   "outputs": [],
   "source": [
    "ibm_train_split[\"forward_RV\"] = ibm_train_split[\"realized_vol\"].shift(1)"
   ]
  },
  {
   "cell_type": "code",
   "execution_count": 24,
   "id": "a7fdac56-98d6-4224-b7bd-4f3822531757",
   "metadata": {},
   "outputs": [],
   "source": [
    "ibm_train_split = ibm_train_split[381:]"
   ]
  },
  {
   "cell_type": "code",
   "execution_count": 562,
   "id": "24613e31-e8e7-4a36-bb91-893a3a4f9a8b",
   "metadata": {},
   "outputs": [],
   "source": [
    "ibm_train_split.set_index('Date Time', inplace=True)"
   ]
  },
  {
   "cell_type": "code",
   "execution_count": 393,
   "id": "90b5bcb1-442f-4d82-b605-9f4e892d125f",
   "metadata": {},
   "outputs": [],
   "source": [
    "ibm_train_split_small = ibm_train_split[:381*35]"
   ]
  },
  {
   "cell_type": "code",
   "execution_count": 562,
   "id": "d434215e-8c62-4c47-bb3a-6bdd7dbfd4e1",
   "metadata": {},
   "outputs": [
    {
     "data": {
      "text/plain": [
       "(8001, 1)"
      ]
     },
     "execution_count": 562,
     "metadata": {},
     "output_type": "execute_result"
    }
   ],
   "source": [
    "pre_scale_vol.shape"
   ]
  },
  {
   "cell_type": "code",
   "execution_count": 574,
   "id": "e0c70b45-0bad-4870-89d0-37bb71d7e278",
   "metadata": {},
   "outputs": [],
   "source": [
    "pre_scale_vol = np.reshape(zz, (-1,1))"
   ]
  },
  {
   "cell_type": "code",
   "execution_count": 632,
   "id": "f6222f10-f5a2-4ddb-a5c0-a61957a1f890",
   "metadata": {},
   "outputs": [],
   "source": [
    "mm_scaler_x = MinMaxScaler(feature_range=(0,255))\n",
    "pre_scale_vol = mm_scaler_x.fit_transform(pre_scale_vol)"
   ]
  },
  {
   "cell_type": "code",
   "execution_count": 553,
   "id": "41f2e564-49bb-40b7-9bdb-7db61e4bcdad",
   "metadata": {},
   "outputs": [
    {
     "data": {
      "text/plain": [
       "array([-64.16141444])"
      ]
     },
     "execution_count": 553,
     "metadata": {},
     "output_type": "execute_result"
    }
   ],
   "source": [
    "pre_scale_vol[0]"
   ]
  },
  {
   "cell_type": "code",
   "execution_count": 620,
   "id": "38a9d9a6-a54e-430d-bc64-0cd0bbd391cf",
   "metadata": {},
   "outputs": [],
   "source": [
    "zzz = diff_to_rgb(zz)"
   ]
  },
  {
   "cell_type": "code",
   "execution_count": 651,
   "id": "93389c44-f458-4668-bafa-cd51e8a1d63b",
   "metadata": {},
   "outputs": [
    {
     "data": {
      "text/plain": [
       "0.00018986337716585166"
      ]
     },
     "execution_count": 651,
     "metadata": {},
     "output_type": "execute_result"
    }
   ],
   "source": [
    "zzz[0].mean()"
   ]
  },
  {
   "cell_type": "code",
   "execution_count": 641,
   "id": "f8e817c8-a3a1-4870-bb23-23b4885165f1",
   "metadata": {},
   "outputs": [],
   "source": [
    "red = np.reshape(zz[0], (-1,1))"
   ]
  },
  {
   "cell_type": "code",
   "execution_count": 642,
   "id": "a0e5d513-4500-45cb-acca-5eb8c93fc279",
   "metadata": {},
   "outputs": [],
   "source": [
    "red = mm_scaler_x.fit_transform(red)"
   ]
  },
  {
   "cell_type": "code",
   "execution_count": 643,
   "id": "5b351efd-eebd-40f8-b04d-577b8903b7a9",
   "metadata": {},
   "outputs": [
    {
     "data": {
      "text/plain": [
       "0.0"
      ]
     },
     "execution_count": 643,
     "metadata": {},
     "output_type": "execute_result"
    }
   ],
   "source": [
    "red.mean()"
   ]
  },
  {
   "cell_type": "code",
   "execution_count": 601,
   "id": "fab53777-2240-475f-b78c-c3bf7606896b",
   "metadata": {},
   "outputs": [
    {
     "data": {
      "text/plain": [
       "array([115.94287614])"
      ]
     },
     "execution_count": 601,
     "metadata": {},
     "output_type": "execute_result"
    }
   ],
   "source": [
    "pre_scale_vol[1]"
   ]
  },
  {
   "cell_type": "code",
   "execution_count": 594,
   "id": "846cb06d-b4e4-440d-91b7-5a7ac1d2121e",
   "metadata": {},
   "outputs": [
    {
     "data": {
      "text/plain": [
       "117.52897425669482"
      ]
     },
     "execution_count": 594,
     "metadata": {},
     "output_type": "execute_result"
    }
   ],
   "source": [
    "zzz[1].mean()"
   ]
  },
  {
   "cell_type": "code",
   "execution_count": 561,
   "id": "78134daa-18b1-4812-89ae-333e599e56a7",
   "metadata": {},
   "outputs": [
    {
     "data": {
      "text/plain": [
       "39.18962148240876"
      ]
     },
     "execution_count": 561,
     "metadata": {},
     "output_type": "execute_result"
    }
   ],
   "source": [
    "zzz"
   ]
  },
  {
   "cell_type": "code",
   "execution_count": 565,
   "id": "5fa7f944-8cf8-40f0-ad2d-3293d1b0f0f1",
   "metadata": {},
   "outputs": [],
   "source": [
    "def diff_to_rgb(one_month_data):\n",
    "\n",
    "    size = one_month_data.shape[0]\n",
    "    \n",
    "    red = np.zeros(size)\n",
    "    green = np.zeros(size)\n",
    "    blue = np.zeros(size)\n",
    "    \n",
    "    for i in range(len(one_month_data)):\n",
    "        if one_month_data[i] < 0:\n",
    "            red[i] = np.abs(one_month_data[i])\n",
    "        elif one_month_data[i] > 0:\n",
    "            green[i] = one_month_data[i]\n",
    "        elif one_month_data[i] == 0:\n",
    "            continue\n",
    "        else:\n",
    "            print(error)\n",
    "\n",
    "    #image_dim = math.floor(scaled_daily_vol_dif.shape[0]**0.5)\n",
    "    \n",
    "    flat_image = np.column_stack((red, green, blue))\n",
    "\n",
    "    square_image = flat_image.reshape((21, 381, 3))\n",
    "    #return square_image\n",
    "    return red, green, blue"
   ]
  },
  {
   "cell_type": "markdown",
   "id": "d7a1550a-e055-4173-8198-fc6f0f3c3dd7",
   "metadata": {},
   "source": [
    "# Subsequences"
   ]
  },
  {
   "cell_type": "code",
   "execution_count": null,
   "id": "1e210a63",
   "metadata": {},
   "outputs": [],
   "source": [
    " def subsequence(df, length, start = 0):\n",
    "        last_possible_start = len(df) - length\n",
    "        X = df[start:start + length]\n",
    "        y = df[\"poll\"][(start + length ) : (start + length + 7)]\n",
    "\n",
    "        return X, y\n",
    "\n",
    "    # Creates a list of subsequences\n",
    "    def multiple_subsequences(df, length):\n",
    "\n",
    "        list_of_X = []\n",
    "        list_of_y = []\n",
    "\n",
    "        number_of_subsequences = round(len(df) /  7 - (length/7))\n",
    "        print(number_of_subsequences)\n",
    "        start = 0\n",
    "        for num in range(number_of_subsequences):\n",
    "            temporary_X, temporary_y = subsequence(df, length, start)\n",
    "            list_of_X.append(temporary_X)\n",
    "            list_of_y.append(temporary_y)\n",
    "            start = start + 7\n",
    "\n",
    "        return list_of_X, list_of_y\n",
    "\n",
    "    # Creating subsequences of lenght specifided (28 / 7parties = 4 days)\n",
    "    X_train , y_train = multiple_subsequences(pd.DataFrame(df_train_scaled), 21 )\n",
    "\n",
    "    # Transforn to array to fit model\n",
    "    X_train = np.array(X_train)\n",
    "    y_train = np.array(y_train)\n",
    "\n",
    "    return X_train, y_train\n",
    "\n"
   ]
  },
  {
   "cell_type": "code",
   "execution_count": 581,
   "id": "3fbbb440-bdf5-4676-aa30-22db6bea8248",
   "metadata": {},
   "outputs": [],
   "source": [
    "a = np.array([[[380, 250, 0], [380, 250, 0],[380, 250, 0],[380, 250, 0],[380, 250, 0]]])\n",
    "b = np.array([[[380, 250, 0], [380, 250, 0],[380, 250, 0],[380, 250, 0],[380, 250, 0]]])"
   ]
  },
  {
   "cell_type": "code",
   "execution_count": 582,
   "id": "19010c9e",
   "metadata": {},
   "outputs": [
    {
     "data": {
      "text/plain": [
       "(1, 5, 3)"
      ]
     },
     "execution_count": 582,
     "metadata": {},
     "output_type": "execute_result"
    }
   ],
   "source": [
    "b.shape"
   ]
  },
  {
   "cell_type": "code",
   "execution_count": 392,
   "id": "056c7c03-7ad7-4e5c-a4a0-7dffe7f3d9ea",
   "metadata": {
    "scrolled": true
   },
   "outputs": [
    {
     "ename": "KeyError",
     "evalue": "\"None of ['Date Time'] are in the columns\"",
     "output_type": "error",
     "traceback": [
      "\u001b[0;31m---------------------------------------------------------------------------\u001b[0m",
      "\u001b[0;31mKeyError\u001b[0m                                  Traceback (most recent call last)",
      "\u001b[0;32m/var/folders/31/d9mhbrs95msdp4hzv2wdsc8w0000gn/T/ipykernel_72334/220814784.py\u001b[0m in \u001b[0;36m?\u001b[0;34m()\u001b[0m\n\u001b[0;32m----> 1\u001b[0;31m \u001b[0mibm_train_split\u001b[0m\u001b[0;34m.\u001b[0m\u001b[0mset_index\u001b[0m\u001b[0;34m(\u001b[0m\u001b[0;34m\"Date Time\"\u001b[0m\u001b[0;34m,\u001b[0m \u001b[0mdrop\u001b[0m\u001b[0;34m=\u001b[0m\u001b[0;32mTrue\u001b[0m\u001b[0;34m,\u001b[0m \u001b[0minplace\u001b[0m\u001b[0;34m=\u001b[0m\u001b[0;32mTrue\u001b[0m\u001b[0;34m)\u001b[0m\u001b[0;34m\u001b[0m\u001b[0;34m\u001b[0m\u001b[0m\n\u001b[0m",
      "\u001b[0;32m~/Library/Python/3.9/lib/python/site-packages/pandas/core/frame.py\u001b[0m in \u001b[0;36m?\u001b[0;34m(self, keys, drop, append, inplace, verify_integrity)\u001b[0m\n\u001b[1;32m   6105\u001b[0m                     \u001b[0;32mif\u001b[0m \u001b[0;32mnot\u001b[0m \u001b[0mfound\u001b[0m\u001b[0;34m:\u001b[0m\u001b[0;34m\u001b[0m\u001b[0;34m\u001b[0m\u001b[0m\n\u001b[1;32m   6106\u001b[0m                         \u001b[0mmissing\u001b[0m\u001b[0;34m.\u001b[0m\u001b[0mappend\u001b[0m\u001b[0;34m(\u001b[0m\u001b[0mcol\u001b[0m\u001b[0;34m)\u001b[0m\u001b[0;34m\u001b[0m\u001b[0;34m\u001b[0m\u001b[0m\n\u001b[1;32m   6107\u001b[0m \u001b[0;34m\u001b[0m\u001b[0m\n\u001b[1;32m   6108\u001b[0m         \u001b[0;32mif\u001b[0m \u001b[0mmissing\u001b[0m\u001b[0;34m:\u001b[0m\u001b[0;34m\u001b[0m\u001b[0;34m\u001b[0m\u001b[0m\n\u001b[0;32m-> 6109\u001b[0;31m             \u001b[0;32mraise\u001b[0m \u001b[0mKeyError\u001b[0m\u001b[0;34m(\u001b[0m\u001b[0;34mf\"None of {missing} are in the columns\"\u001b[0m\u001b[0;34m)\u001b[0m\u001b[0;34m\u001b[0m\u001b[0;34m\u001b[0m\u001b[0m\n\u001b[0m\u001b[1;32m   6110\u001b[0m \u001b[0;34m\u001b[0m\u001b[0m\n\u001b[1;32m   6111\u001b[0m         \u001b[0;32mif\u001b[0m \u001b[0minplace\u001b[0m\u001b[0;34m:\u001b[0m\u001b[0;34m\u001b[0m\u001b[0;34m\u001b[0m\u001b[0m\n\u001b[1;32m   6112\u001b[0m             \u001b[0mframe\u001b[0m \u001b[0;34m=\u001b[0m \u001b[0mself\u001b[0m\u001b[0;34m\u001b[0m\u001b[0;34m\u001b[0m\u001b[0m\n",
      "\u001b[0;31mKeyError\u001b[0m: \"None of ['Date Time'] are in the columns\""
     ]
    }
   ],
   "source": [
    "ibm_train_split.set_index(\"Date Time\", drop=True, inplace=True)"
   ]
  },
  {
   "cell_type": "code",
   "execution_count": 394,
   "id": "fcd57644-712d-4dc6-b163-207e48da8dfb",
   "metadata": {},
   "outputs": [
    {
     "data": {
      "text/html": [
       "<div>\n",
       "<style scoped>\n",
       "    .dataframe tbody tr th:only-of-type {\n",
       "        vertical-align: middle;\n",
       "    }\n",
       "\n",
       "    .dataframe tbody tr th {\n",
       "        vertical-align: top;\n",
       "    }\n",
       "\n",
       "    .dataframe thead th {\n",
       "        text-align: right;\n",
       "    }\n",
       "</style>\n",
       "<table border=\"1\" class=\"dataframe\">\n",
       "  <thead>\n",
       "    <tr style=\"text-align: right;\">\n",
       "      <th></th>\n",
       "      <th>Open</th>\n",
       "      <th>High</th>\n",
       "      <th>Low</th>\n",
       "      <th>Close</th>\n",
       "      <th>Volume</th>\n",
       "      <th>Date</th>\n",
       "      <th>Time</th>\n",
       "      <th>Log_Returns</th>\n",
       "      <th>log_return_squared</th>\n",
       "      <th>realized_var</th>\n",
       "      <th>realized_vol</th>\n",
       "      <th>forward_RV</th>\n",
       "    </tr>\n",
       "    <tr>\n",
       "      <th>Date Time</th>\n",
       "      <th></th>\n",
       "      <th></th>\n",
       "      <th></th>\n",
       "      <th></th>\n",
       "      <th></th>\n",
       "      <th></th>\n",
       "      <th></th>\n",
       "      <th></th>\n",
       "      <th></th>\n",
       "      <th></th>\n",
       "      <th></th>\n",
       "      <th></th>\n",
       "    </tr>\n",
       "  </thead>\n",
       "  <tbody>\n",
       "    <tr>\n",
       "      <th>2010-01-05 09:35:00</th>\n",
       "      <td>84.6767</td>\n",
       "      <td>84.8516</td>\n",
       "      <td>84.6767</td>\n",
       "      <td>84.7415</td>\n",
       "      <td>123004.0</td>\n",
       "      <td>2010-01-05</td>\n",
       "      <td>09:35:00</td>\n",
       "      <td>-0.012680</td>\n",
       "      <td>1.607932e-04</td>\n",
       "      <td>0.000207</td>\n",
       "      <td>0.014379</td>\n",
       "      <td>0.006780</td>\n",
       "    </tr>\n",
       "    <tr>\n",
       "      <th>2010-01-05 09:36:00</th>\n",
       "      <td>84.7415</td>\n",
       "      <td>84.7544</td>\n",
       "      <td>84.6638</td>\n",
       "      <td>84.7318</td>\n",
       "      <td>101782.0</td>\n",
       "      <td>2010-01-05</td>\n",
       "      <td>09:36:00</td>\n",
       "      <td>-0.000114</td>\n",
       "      <td>1.310391e-08</td>\n",
       "      <td>0.000207</td>\n",
       "      <td>0.014380</td>\n",
       "      <td>0.014379</td>\n",
       "    </tr>\n",
       "    <tr>\n",
       "      <th>2010-01-05 09:37:00</th>\n",
       "      <td>84.7415</td>\n",
       "      <td>84.7933</td>\n",
       "      <td>84.7221</td>\n",
       "      <td>84.7577</td>\n",
       "      <td>30386.0</td>\n",
       "      <td>2010-01-05</td>\n",
       "      <td>09:37:00</td>\n",
       "      <td>0.000306</td>\n",
       "      <td>9.340582e-08</td>\n",
       "      <td>0.000207</td>\n",
       "      <td>0.014383</td>\n",
       "      <td>0.014380</td>\n",
       "    </tr>\n",
       "    <tr>\n",
       "      <th>2010-01-05 09:38:00</th>\n",
       "      <td>84.7544</td>\n",
       "      <td>84.7609</td>\n",
       "      <td>84.7091</td>\n",
       "      <td>84.7285</td>\n",
       "      <td>45357.0</td>\n",
       "      <td>2010-01-05</td>\n",
       "      <td>09:38:00</td>\n",
       "      <td>-0.000345</td>\n",
       "      <td>1.187291e-07</td>\n",
       "      <td>0.000207</td>\n",
       "      <td>0.014387</td>\n",
       "      <td>0.014383</td>\n",
       "    </tr>\n",
       "    <tr>\n",
       "      <th>2010-01-05 09:39:00</th>\n",
       "      <td>84.7285</td>\n",
       "      <td>84.7285</td>\n",
       "      <td>84.6832</td>\n",
       "      <td>84.7026</td>\n",
       "      <td>37723.0</td>\n",
       "      <td>2010-01-05</td>\n",
       "      <td>09:39:00</td>\n",
       "      <td>-0.000306</td>\n",
       "      <td>9.347022e-08</td>\n",
       "      <td>0.000207</td>\n",
       "      <td>0.014390</td>\n",
       "      <td>0.014387</td>\n",
       "    </tr>\n",
       "    <tr>\n",
       "      <th>...</th>\n",
       "      <td>...</td>\n",
       "      <td>...</td>\n",
       "      <td>...</td>\n",
       "      <td>...</td>\n",
       "      <td>...</td>\n",
       "      <td>...</td>\n",
       "      <td>...</td>\n",
       "      <td>...</td>\n",
       "      <td>...</td>\n",
       "      <td>...</td>\n",
       "      <td>...</td>\n",
       "      <td>...</td>\n",
       "    </tr>\n",
       "    <tr>\n",
       "      <th>2010-02-24 15:51:00</th>\n",
       "      <td>82.9709</td>\n",
       "      <td>82.9709</td>\n",
       "      <td>82.9449</td>\n",
       "      <td>82.9696</td>\n",
       "      <td>15054.0</td>\n",
       "      <td>2010-02-24</td>\n",
       "      <td>15:51:00</td>\n",
       "      <td>0.000063</td>\n",
       "      <td>3.928221e-09</td>\n",
       "      <td>0.005113</td>\n",
       "      <td>0.071503</td>\n",
       "      <td>0.071503</td>\n",
       "    </tr>\n",
       "    <tr>\n",
       "      <th>2010-02-24 15:52:00</th>\n",
       "      <td>82.9644</td>\n",
       "      <td>82.9644</td>\n",
       "      <td>82.9514</td>\n",
       "      <td>82.9644</td>\n",
       "      <td>5258.0</td>\n",
       "      <td>2010-02-24</td>\n",
       "      <td>15:52:00</td>\n",
       "      <td>-0.000063</td>\n",
       "      <td>3.928221e-09</td>\n",
       "      <td>0.005113</td>\n",
       "      <td>0.071503</td>\n",
       "      <td>0.071503</td>\n",
       "    </tr>\n",
       "    <tr>\n",
       "      <th>2010-02-24 15:53:00</th>\n",
       "      <td>82.9579</td>\n",
       "      <td>82.9709</td>\n",
       "      <td>82.9514</td>\n",
       "      <td>82.9644</td>\n",
       "      <td>15299.0</td>\n",
       "      <td>2010-02-24</td>\n",
       "      <td>15:53:00</td>\n",
       "      <td>0.000000</td>\n",
       "      <td>0.000000e+00</td>\n",
       "      <td>0.005113</td>\n",
       "      <td>0.071503</td>\n",
       "      <td>0.071503</td>\n",
       "    </tr>\n",
       "    <tr>\n",
       "      <th>2010-02-24 15:54:00</th>\n",
       "      <td>82.9709</td>\n",
       "      <td>83.0360</td>\n",
       "      <td>82.9579</td>\n",
       "      <td>83.0099</td>\n",
       "      <td>29956.0</td>\n",
       "      <td>2010-02-24</td>\n",
       "      <td>15:54:00</td>\n",
       "      <td>0.000548</td>\n",
       "      <td>3.006084e-07</td>\n",
       "      <td>0.005113</td>\n",
       "      <td>0.071505</td>\n",
       "      <td>0.071503</td>\n",
       "    </tr>\n",
       "    <tr>\n",
       "      <th>2010-02-24 15:55:00</th>\n",
       "      <td>83.0099</td>\n",
       "      <td>83.0230</td>\n",
       "      <td>82.9644</td>\n",
       "      <td>82.9644</td>\n",
       "      <td>21269.0</td>\n",
       "      <td>2010-02-24</td>\n",
       "      <td>15:55:00</td>\n",
       "      <td>-0.000548</td>\n",
       "      <td>3.006084e-07</td>\n",
       "      <td>0.005113</td>\n",
       "      <td>0.071507</td>\n",
       "      <td>0.071505</td>\n",
       "    </tr>\n",
       "  </tbody>\n",
       "</table>\n",
       "<p>13335 rows × 12 columns</p>\n",
       "</div>"
      ],
      "text/plain": [
       "                        Open     High      Low    Close    Volume        Date  \\\n",
       "Date Time                                                                       \n",
       "2010-01-05 09:35:00  84.6767  84.8516  84.6767  84.7415  123004.0  2010-01-05   \n",
       "2010-01-05 09:36:00  84.7415  84.7544  84.6638  84.7318  101782.0  2010-01-05   \n",
       "2010-01-05 09:37:00  84.7415  84.7933  84.7221  84.7577   30386.0  2010-01-05   \n",
       "2010-01-05 09:38:00  84.7544  84.7609  84.7091  84.7285   45357.0  2010-01-05   \n",
       "2010-01-05 09:39:00  84.7285  84.7285  84.6832  84.7026   37723.0  2010-01-05   \n",
       "...                      ...      ...      ...      ...       ...         ...   \n",
       "2010-02-24 15:51:00  82.9709  82.9709  82.9449  82.9696   15054.0  2010-02-24   \n",
       "2010-02-24 15:52:00  82.9644  82.9644  82.9514  82.9644    5258.0  2010-02-24   \n",
       "2010-02-24 15:53:00  82.9579  82.9709  82.9514  82.9644   15299.0  2010-02-24   \n",
       "2010-02-24 15:54:00  82.9709  83.0360  82.9579  83.0099   29956.0  2010-02-24   \n",
       "2010-02-24 15:55:00  83.0099  83.0230  82.9644  82.9644   21269.0  2010-02-24   \n",
       "\n",
       "                         Time  Log_Returns  log_return_squared  realized_var  \\\n",
       "Date Time                                                                      \n",
       "2010-01-05 09:35:00  09:35:00    -0.012680        1.607932e-04      0.000207   \n",
       "2010-01-05 09:36:00  09:36:00    -0.000114        1.310391e-08      0.000207   \n",
       "2010-01-05 09:37:00  09:37:00     0.000306        9.340582e-08      0.000207   \n",
       "2010-01-05 09:38:00  09:38:00    -0.000345        1.187291e-07      0.000207   \n",
       "2010-01-05 09:39:00  09:39:00    -0.000306        9.347022e-08      0.000207   \n",
       "...                       ...          ...                 ...           ...   \n",
       "2010-02-24 15:51:00  15:51:00     0.000063        3.928221e-09      0.005113   \n",
       "2010-02-24 15:52:00  15:52:00    -0.000063        3.928221e-09      0.005113   \n",
       "2010-02-24 15:53:00  15:53:00     0.000000        0.000000e+00      0.005113   \n",
       "2010-02-24 15:54:00  15:54:00     0.000548        3.006084e-07      0.005113   \n",
       "2010-02-24 15:55:00  15:55:00    -0.000548        3.006084e-07      0.005113   \n",
       "\n",
       "                     realized_vol  forward_RV  \n",
       "Date Time                                      \n",
       "2010-01-05 09:35:00      0.014379    0.006780  \n",
       "2010-01-05 09:36:00      0.014380    0.014379  \n",
       "2010-01-05 09:37:00      0.014383    0.014380  \n",
       "2010-01-05 09:38:00      0.014387    0.014383  \n",
       "2010-01-05 09:39:00      0.014390    0.014387  \n",
       "...                           ...         ...  \n",
       "2010-02-24 15:51:00      0.071503    0.071503  \n",
       "2010-02-24 15:52:00      0.071503    0.071503  \n",
       "2010-02-24 15:53:00      0.071503    0.071503  \n",
       "2010-02-24 15:54:00      0.071505    0.071503  \n",
       "2010-02-24 15:55:00      0.071507    0.071505  \n",
       "\n",
       "[13335 rows x 12 columns]"
      ]
     },
     "execution_count": 394,
     "metadata": {},
     "output_type": "execute_result"
    }
   ],
   "source": [
    "ibm_train_split_small"
   ]
  },
  {
   "cell_type": "code",
   "execution_count": 48,
   "id": "118967a9",
   "metadata": {},
   "outputs": [],
   "source": [
    "subsequences = []\n",
    "\n",
    "# Iterate over each 30-day subsequence\n",
    "for i in range(len(ibm_train_split_small) - 21 * 381 + 1):\n",
    "    # Select the next 30 days of data\n",
    "    subsequence = ibm_train_split_small.iloc[i:i + 21 * 381]\n",
    "\n",
    "    # Check if the subsequence has 30 days of data\n",
    "    if len(subsequence) == 21 * 381:  # Assuming 381 rows for each day\n",
    "        subsequences.append(subsequence)\n",
    "\n",
    "# Concatenate the subsequences into a single DataFrame\n",
    "result = pd.concat(subsequences)"
   ]
  },
  {
   "cell_type": "code",
   "execution_count": 395,
   "id": "b03652cc-24fa-482c-bf9b-adae15106d34",
   "metadata": {},
   "outputs": [
    {
     "data": {
      "text/plain": [
       "(13335, 12)"
      ]
     },
     "execution_count": 395,
     "metadata": {},
     "output_type": "execute_result"
    }
   ],
   "source": [
    "ibm_train_split_small.shape"
   ]
  },
  {
   "cell_type": "code",
   "execution_count": 402,
   "id": "4896e7fc-11b8-447b-99e4-2407d6d2f201",
   "metadata": {},
   "outputs": [],
   "source": [
    "ibm_train_split_small_2 = ibm_train_split_small[[\"Log_Returns\", \"forward_RV\"]]"
   ]
  },
  {
   "cell_type": "code",
   "execution_count": 405,
   "id": "b3d4eb6d-256b-4ba0-b49a-32177e0387d8",
   "metadata": {},
   "outputs": [
    {
     "data": {
      "text/plain": [
       "13335"
      ]
     },
     "execution_count": 405,
     "metadata": {},
     "output_type": "execute_result"
    }
   ],
   "source": [
    "len(ibm_train_split_small_2)"
   ]
  },
  {
   "cell_type": "code",
   "execution_count": 414,
   "id": "2ded5141-80ba-4615-b4b5-12f0e3613ff5",
   "metadata": {},
   "outputs": [
    {
     "data": {
      "text/plain": [
       "35.0"
      ]
     },
     "execution_count": 414,
     "metadata": {},
     "output_type": "execute_result"
    }
   ],
   "source": [
    "13335/381"
   ]
  },
  {
   "cell_type": "code",
   "execution_count": 422,
   "id": "91961a10-8f4b-417a-a00b-a2df8a9eae7b",
   "metadata": {},
   "outputs": [],
   "source": [
    "subsequences = []\n",
    "\n",
    "for i in range(int(len(ibm_train_split)/381-20)):\n",
    "    subsequence = ibm_train_split.iloc[i * 381: (21 + i) * 381]\n",
    "\n",
    "    subsequences.append(subsequence)"
   ]
  },
  {
   "cell_type": "code",
   "execution_count": 423,
   "id": "696b0c87-c92a-4e86-b00f-faeee06ad4fd",
   "metadata": {},
   "outputs": [
    {
     "data": {
      "text/plain": [
       "1741"
      ]
     },
     "execution_count": 423,
     "metadata": {},
     "output_type": "execute_result"
    }
   ],
   "source": [
    "len(subsequences)"
   ]
  },
  {
   "cell_type": "code",
   "execution_count": 229,
   "id": "e8f6fbf4-7c13-4244-a2c1-f315dd8731c3",
   "metadata": {},
   "outputs": [],
   "source": []
  },
  {
   "cell_type": "code",
   "execution_count": 230,
   "id": "5d8acda9-e97f-4c61-9718-c709ff1efd0f",
   "metadata": {},
   "outputs": [],
   "source": [
    "tmp_image = image_from_subsequence(subsequences, 0)"
   ]
  },
  {
   "cell_type": "code",
   "execution_count": 264,
   "id": "a674da08-847f-49f1-b2cd-31717246f02e",
   "metadata": {},
   "outputs": [],
   "source": []
  },
  {
   "cell_type": "code",
   "execution_count": 127,
   "id": "d8ec24af-d1d4-4237-af0e-655cdc4271b4",
   "metadata": {},
   "outputs": [],
   "source": [
    "pre_scale = np.reshape(tmp, (-1,1))\n",
    "    \n",
    "mm_scaler_x = MinMaxScaler(feature_range=(-255,255))\n",
    "scaled_daily_vol_dif = mm_scaler_x.fit_transform(pre_scale)"
   ]
  },
  {
   "cell_type": "markdown",
   "id": "7c60847e-9d5b-4323-b69a-e7aec76dbe40",
   "metadata": {},
   "source": [
    "# Creating train image subsequence"
   ]
  },
  {
   "cell_type": "code",
   "execution_count": 282,
   "id": "0c9fc709-867c-41b3-94bf-790355ccff61",
   "metadata": {},
   "outputs": [],
   "source": [
    "small = ibm_train_split[:381*100][[\"realized_vol\", \"forward_RV\"]]"
   ]
  },
  {
   "cell_type": "code",
   "execution_count": 285,
   "id": "9aa607c7-c543-4594-a5fb-22790d686b7e",
   "metadata": {},
   "outputs": [],
   "source": [
    "subsequences2 = []\n",
    "\n",
    "for i in range(int(len(small)/381-20)):\n",
    "    subsequence = small.iloc[i * 381: (21 + i) * 381]\n",
    "\n",
    "    subsequences2.append(subsequence)"
   ]
  },
  {
   "cell_type": "code",
   "execution_count": 447,
   "id": "da27902d-8b11-4515-9aea-ffb8daeee171",
   "metadata": {},
   "outputs": [
    {
     "data": {
      "text/plain": [
       "1741.0"
      ]
     },
     "execution_count": 447,
     "metadata": {},
     "output_type": "execute_result"
    }
   ],
   "source": [
    "len(ibm_train_split)/381 - 20"
   ]
  },
  {
   "cell_type": "code",
   "execution_count": 441,
   "id": "9e5f5687-adb6-4604-ab68-dcaa8bb5dd2b",
   "metadata": {},
   "outputs": [],
   "source": [
    "def create_subsequences(dataframe):\n",
    "\n",
    "    # contains len(ibm_train_split)/381 - 20 = 1741 \n",
    "    # dataframes with 8001 rows meaning 21 days with 381 hours\n",
    "    sequence_list = []\n",
    "\n",
    "    \n",
    "    for i in range(int(len(dataframe)/381-20)):\n",
    "        tmp_subsequence = dataframe.iloc[i * 381: (21 + i) * 381]\n",
    "      \n",
    "        sequence_list.append(tmp_subsequence)\n",
    "\n",
    "    return sequence_list"
   ]
  },
  {
   "cell_type": "code",
   "execution_count": 442,
   "id": "e92e04e0-349b-476d-913f-d415325c2dce",
   "metadata": {},
   "outputs": [],
   "source": [
    "tmp = create_subsequences(ibm_train_split)"
   ]
  },
  {
   "cell_type": "code",
   "execution_count": 484,
   "id": "2d7bfe55-0036-4f36-8cba-63e85510e185",
   "metadata": {},
   "outputs": [],
   "source": [
    "def image_from_subsequence(one_month):\n",
    "\n",
    "    # image = one_month.iloc[:381][\"Log_Returns\"]\n",
    "    image = np.array([])\n",
    "    \n",
    "    for i in range(int(len(one_month)/381)):\n",
    "        \n",
    "        tmp_array = np.array([one_month.iloc[i*381:381*(1+i)][\"Log_Returns\"]])\n",
    "        \n",
    "        image = np.append(image, tmp_array)\n",
    "        \n",
    "    \n",
    "    #mm_scaler_x = MinMaxScaler(feature_range=(-255,255))\n",
    "    #zz = zz.fit_transform(pre_scale)\n",
    "    #image = np.reshape(image, [21,381])\n",
    "    \n",
    "    return image"
   ]
  },
  {
   "cell_type": "code",
   "execution_count": 485,
   "id": "dbe266c6-62f8-4408-a2bf-d760614e1e1e",
   "metadata": {},
   "outputs": [],
   "source": [
    "zz = image_from_subsequence(tmp[0])"
   ]
  },
  {
   "cell_type": "code",
   "execution_count": 539,
   "id": "e5339a87-a420-4dde-b6e3-9bb3e5496804",
   "metadata": {},
   "outputs": [
    {
     "data": {
      "text/plain": [
       "(8001,)"
      ]
     },
     "execution_count": 539,
     "metadata": {},
     "output_type": "execute_result"
    }
   ],
   "source": [
    "zz.shape"
   ]
  },
  {
   "cell_type": "code",
   "execution_count": 479,
   "id": "df49b866-e6d6-4a47-be93-5a47074d5016",
   "metadata": {},
   "outputs": [
    {
     "data": {
      "text/plain": [
       "<matplotlib.image.AxesImage at 0x450c757c0>"
      ]
     },
     "execution_count": 479,
     "metadata": {},
     "output_type": "execute_result"
    },
    {
     "data": {
      "image/png": "[encoded data removed]",
      "text/plain": [
       "<Figure size 640x480 with 1 Axes>"
      ]
     },
     "metadata": {},
     "output_type": "display_data"
    }
   ],
   "source": [
    "plt.imshow(zz)"
   ]
  },
  {
   "cell_type": "code",
   "execution_count": 459,
   "id": "1bacd1f7-70cf-4df4-b819-73a0fa5178c6",
   "metadata": {},
   "outputs": [
    {
     "data": {
      "text/plain": [
       "Date Time\n",
       "2010-01-05 09:35:00   -0.012680\n",
       "2010-01-05 09:36:00   -0.000114\n",
       "2010-01-05 09:37:00    0.000306\n",
       "2010-01-05 09:38:00   -0.000345\n",
       "2010-01-05 09:39:00   -0.000306\n",
       "                         ...   \n",
       "2010-01-05 15:51:00   -0.000077\n",
       "2010-01-05 15:52:00    0.000000\n",
       "2010-01-05 15:53:00   -0.000153\n",
       "2010-01-05 15:54:00   -0.000229\n",
       "2010-01-05 15:55:00   -0.000152\n",
       "Name: Log_Returns, Length: 381, dtype: float64"
      ]
     },
     "execution_count": 459,
     "metadata": {},
     "output_type": "execute_result"
    }
   ],
   "source": [
    "tmp[0].iloc[:381][\"Log_Returns\"]"
   ]
  },
  {
   "cell_type": "code",
   "execution_count": 449,
   "id": "2ad71f77-86fe-485c-a466-9d74fe5eb1db",
   "metadata": {},
   "outputs": [],
   "source": [
    "def create_images(sequence_list):\n",
    "\n",
    "    image_list = []\n",
    "    for rolling_month in sequence_list:\n",
    "        \n",
    "        image = image_from_subsequence(rolling_month)\n",
    "        \n",
    "        image_list.append(image)\n",
    "\n",
    "    return image_list"
   ]
  },
  {
   "cell_type": "code",
   "execution_count": 450,
   "id": "ea1a42b7-2e07-4fcd-85a7-b1a344a1a2a9",
   "metadata": {},
   "outputs": [],
   "source": [
    "def get_subsequence_images(dataframe):\n",
    "\n",
    "    sequences = create_subsequences(dataframe)\n",
    "\n",
    "    image_list = create_images(sequences)\n",
    "\n",
    "    return image_list"
   ]
  },
  {
   "cell_type": "code",
   "execution_count": 456,
   "id": "fdd62344-85e0-46ed-9651-4845fa03fdcb",
   "metadata": {},
   "outputs": [
    {
     "data": {
      "text/plain": [
       "(20, 381)"
      ]
     },
     "execution_count": 456,
     "metadata": {},
     "output_type": "execute_result"
    }
   ],
   "source": [
    "xx[0].shape"
   ]
  },
  {
   "cell_type": "code",
   "execution_count": null,
   "id": "d3014c1d-0722-44ae-9abb-321081ef9ebe",
   "metadata": {},
   "outputs": [],
   "source": []
  },
  {
   "cell_type": "code",
   "execution_count": 342,
   "id": "0e98e1c0-4a89-4bcb-8b23-704933d844ed",
   "metadata": {},
   "outputs": [
    {
     "name": "stdout",
     "output_type": "stream",
     "text": [
      "0\n",
      "(7620,) 0\n",
      "1\n",
      "(7620,) 1\n",
      "2\n",
      "(7620,) 2\n",
      "3\n",
      "(7620,) 3\n",
      "4\n",
      "(7620,) 4\n",
      "5\n",
      "(7620,) 5\n",
      "6\n",
      "(7620,) 6\n",
      "7\n",
      "(7620,) 7\n",
      "8\n",
      "(7620,) 8\n",
      "9\n",
      "(7620,) 9\n",
      "10\n",
      "(7620,) 10\n",
      "11\n",
      "(7620,) 11\n",
      "12\n",
      "(7620,) 12\n",
      "13\n",
      "(7620,) 13\n",
      "14\n",
      "(7620,) 14\n",
      "15\n",
      "(7620,) 15\n",
      "16\n",
      "(7620,) 16\n",
      "17\n",
      "(7620,) 17\n",
      "18\n",
      "(7620,) 18\n",
      "19\n",
      "(7620,) 19\n",
      "20\n",
      "(7620,) 20\n",
      "21\n",
      "(7620,) 21\n",
      "22\n",
      "(7620,) 22\n",
      "23\n",
      "(7620,) 23\n",
      "24\n",
      "(7620,) 24\n",
      "25\n",
      "(7620,) 25\n",
      "26\n",
      "(7620,) 26\n",
      "27\n",
      "(7620,) 27\n",
      "28\n",
      "(7620,) 28\n",
      "29\n",
      "(7620,) 29\n",
      "30\n",
      "(7620,) 30\n",
      "31\n",
      "(7620,) 31\n",
      "32\n",
      "(7620,) 32\n",
      "33\n",
      "(7620,) 33\n",
      "34\n",
      "(7620,) 34\n",
      "35\n",
      "(7620,) 35\n",
      "36\n",
      "(7620,) 36\n",
      "37\n",
      "(7620,) 37\n",
      "38\n",
      "(7620,) 38\n",
      "39\n",
      "(7620,) 39\n",
      "40\n",
      "(7620,) 40\n",
      "41\n",
      "(7620,) 41\n",
      "42\n",
      "(7620,) 42\n",
      "43\n",
      "(7620,) 43\n",
      "44\n",
      "(7620,) 44\n",
      "45\n",
      "(7620,) 45\n",
      "46\n",
      "(7620,) 46\n",
      "47\n",
      "(7620,) 47\n",
      "48\n",
      "(7620,) 48\n",
      "49\n",
      "(7620,) 49\n",
      "50\n",
      "(7620,) 50\n",
      "51\n",
      "(7620,) 51\n",
      "52\n",
      "(7620,) 52\n",
      "53\n",
      "(7620,) 53\n",
      "54\n",
      "(7620,) 54\n",
      "55\n",
      "(7620,) 55\n",
      "56\n",
      "(7620,) 56\n",
      "57\n",
      "(7620,) 57\n",
      "58\n",
      "(7620,) 58\n",
      "59\n",
      "(7620,) 59\n",
      "60\n",
      "(7620,) 60\n",
      "61\n",
      "(7620,) 61\n",
      "62\n",
      "(7620,) 62\n",
      "63\n",
      "(7620,) 63\n",
      "64\n",
      "(7620,) 64\n",
      "65\n",
      "(7620,) 65\n",
      "66\n",
      "(7620,) 66\n",
      "67\n",
      "(7620,) 67\n",
      "68\n",
      "(7620,) 68\n",
      "69\n",
      "(7620,) 69\n",
      "70\n",
      "(7620,) 70\n",
      "71\n",
      "(7620,) 71\n",
      "72\n",
      "(7620,) 72\n",
      "73\n",
      "(7620,) 73\n",
      "74\n",
      "(7620,) 74\n",
      "75\n",
      "(7620,) 75\n",
      "76\n",
      "(7620,) 76\n",
      "77\n",
      "(7620,) 77\n",
      "78\n",
      "(7620,) 78\n",
      "79\n",
      "(7620,) 79\n",
      "80\n",
      "(7620,) 80\n",
      "81\n",
      "(7239,) 81\n"
     ]
    },
    {
     "ename": "ValueError",
     "evalue": "cannot reshape array of size 7239 into shape (20,381)",
     "output_type": "error",
     "traceback": [
      "\u001b[0;31m---------------------------------------------------------------------------\u001b[0m",
      "\u001b[0;31mValueError\u001b[0m                                Traceback (most recent call last)",
      "Cell \u001b[0;32mIn[342], line 1\u001b[0m\n\u001b[0;32m----> 1\u001b[0m xxx \u001b[38;5;241m=\u001b[39m \u001b[43mget_subsequence_images\u001b[49m\u001b[43m(\u001b[49m\u001b[43mcutted_ibm_train_split\u001b[49m\u001b[43m[\u001b[49m\u001b[43m[\u001b[49m\u001b[38;5;124;43m\"\u001b[39;49m\u001b[38;5;124;43mrealized_vol\u001b[39;49m\u001b[38;5;124;43m\"\u001b[39;49m\u001b[43m,\u001b[49m\u001b[43m \u001b[49m\u001b[38;5;124;43m\"\u001b[39;49m\u001b[38;5;124;43mforward_RV\u001b[39;49m\u001b[38;5;124;43m\"\u001b[39;49m\u001b[43m]\u001b[49m\u001b[43m]\u001b[49m\u001b[43m)\u001b[49m\n",
      "Cell \u001b[0;32mIn[299], line 5\u001b[0m, in \u001b[0;36mget_subsequence_images\u001b[0;34m(dataframe)\u001b[0m\n\u001b[1;32m      1\u001b[0m \u001b[38;5;28;01mdef\u001b[39;00m \u001b[38;5;21mget_subsequence_images\u001b[39m(dataframe):\n\u001b[1;32m      3\u001b[0m     sequences \u001b[38;5;241m=\u001b[39m create_subsequences(dataframe)\n\u001b[0;32m----> 5\u001b[0m     image_list \u001b[38;5;241m=\u001b[39m \u001b[43mcreate_images\u001b[49m\u001b[43m(\u001b[49m\u001b[43msequences\u001b[49m\u001b[43m)\u001b[49m\n\u001b[1;32m      7\u001b[0m     \u001b[38;5;28;01mreturn\u001b[39;00m image_list\n",
      "Cell \u001b[0;32mIn[341], line 6\u001b[0m, in \u001b[0;36mcreate_images\u001b[0;34m(subsequence)\u001b[0m\n\u001b[1;32m      4\u001b[0m \u001b[38;5;28;01mfor\u001b[39;00m n \u001b[38;5;129;01min\u001b[39;00m \u001b[38;5;28mrange\u001b[39m(\u001b[38;5;28mlen\u001b[39m(subsequence)):\n\u001b[1;32m      5\u001b[0m     \u001b[38;5;28mprint\u001b[39m(n)\n\u001b[0;32m----> 6\u001b[0m     image \u001b[38;5;241m=\u001b[39m \u001b[43mimage_from_subsequence\u001b[49m\u001b[43m(\u001b[49m\u001b[43msubsequence\u001b[49m\u001b[43m,\u001b[49m\u001b[43m \u001b[49m\u001b[43mn\u001b[49m\u001b[43m)\u001b[49m\n\u001b[1;32m      8\u001b[0m     image_list\u001b[38;5;241m.\u001b[39mappend(image)\n\u001b[1;32m     10\u001b[0m \u001b[38;5;28;01mreturn\u001b[39;00m image_list\n",
      "Cell \u001b[0;32mIn[334], line 12\u001b[0m, in \u001b[0;36mimage_from_subsequence\u001b[0;34m(sequence, sequence_index)\u001b[0m\n\u001b[1;32m      9\u001b[0m     image \u001b[38;5;241m=\u001b[39m np\u001b[38;5;241m.\u001b[39mappend(image, tmp_array)\n\u001b[1;32m     11\u001b[0m \u001b[38;5;28mprint\u001b[39m(image\u001b[38;5;241m.\u001b[39mshape, sequence_index)\n\u001b[0;32m---> 12\u001b[0m image \u001b[38;5;241m=\u001b[39m \u001b[43mnp\u001b[49m\u001b[38;5;241;43m.\u001b[39;49m\u001b[43mreshape\u001b[49m\u001b[43m(\u001b[49m\u001b[43mimage\u001b[49m\u001b[43m,\u001b[49m\u001b[43m \u001b[49m\u001b[43m[\u001b[49m\u001b[38;5;241;43m20\u001b[39;49m\u001b[43m,\u001b[49m\u001b[38;5;241;43m381\u001b[39;49m\u001b[43m]\u001b[49m\u001b[43m)\u001b[49m\n\u001b[1;32m     14\u001b[0m \u001b[38;5;28;01mreturn\u001b[39;00m image\n",
      "File \u001b[0;32m~/Library/Python/3.9/lib/python/site-packages/numpy/core/fromnumeric.py:285\u001b[0m, in \u001b[0;36mreshape\u001b[0;34m(a, newshape, order)\u001b[0m\n\u001b[1;32m    200\u001b[0m \u001b[38;5;129m@array_function_dispatch\u001b[39m(_reshape_dispatcher)\n\u001b[1;32m    201\u001b[0m \u001b[38;5;28;01mdef\u001b[39;00m \u001b[38;5;21mreshape\u001b[39m(a, newshape, order\u001b[38;5;241m=\u001b[39m\u001b[38;5;124m'\u001b[39m\u001b[38;5;124mC\u001b[39m\u001b[38;5;124m'\u001b[39m):\n\u001b[1;32m    202\u001b[0m \u001b[38;5;250m    \u001b[39m\u001b[38;5;124;03m\"\"\"\u001b[39;00m\n\u001b[1;32m    203\u001b[0m \u001b[38;5;124;03m    Gives a new shape to an array without changing its data.\u001b[39;00m\n\u001b[1;32m    204\u001b[0m \n\u001b[0;32m   (...)\u001b[0m\n\u001b[1;32m    283\u001b[0m \u001b[38;5;124;03m           [5, 6]])\u001b[39;00m\n\u001b[1;32m    284\u001b[0m \u001b[38;5;124;03m    \"\"\"\u001b[39;00m\n\u001b[0;32m--> 285\u001b[0m     \u001b[38;5;28;01mreturn\u001b[39;00m \u001b[43m_wrapfunc\u001b[49m\u001b[43m(\u001b[49m\u001b[43ma\u001b[49m\u001b[43m,\u001b[49m\u001b[43m \u001b[49m\u001b[38;5;124;43m'\u001b[39;49m\u001b[38;5;124;43mreshape\u001b[39;49m\u001b[38;5;124;43m'\u001b[39;49m\u001b[43m,\u001b[49m\u001b[43m \u001b[49m\u001b[43mnewshape\u001b[49m\u001b[43m,\u001b[49m\u001b[43m \u001b[49m\u001b[43morder\u001b[49m\u001b[38;5;241;43m=\u001b[39;49m\u001b[43morder\u001b[49m\u001b[43m)\u001b[49m\n",
      "File \u001b[0;32m~/Library/Python/3.9/lib/python/site-packages/numpy/core/fromnumeric.py:59\u001b[0m, in \u001b[0;36m_wrapfunc\u001b[0;34m(obj, method, *args, **kwds)\u001b[0m\n\u001b[1;32m     56\u001b[0m     \u001b[38;5;28;01mreturn\u001b[39;00m _wrapit(obj, method, \u001b[38;5;241m*\u001b[39margs, \u001b[38;5;241m*\u001b[39m\u001b[38;5;241m*\u001b[39mkwds)\n\u001b[1;32m     58\u001b[0m \u001b[38;5;28;01mtry\u001b[39;00m:\n\u001b[0;32m---> 59\u001b[0m     \u001b[38;5;28;01mreturn\u001b[39;00m \u001b[43mbound\u001b[49m\u001b[43m(\u001b[49m\u001b[38;5;241;43m*\u001b[39;49m\u001b[43margs\u001b[49m\u001b[43m,\u001b[49m\u001b[43m \u001b[49m\u001b[38;5;241;43m*\u001b[39;49m\u001b[38;5;241;43m*\u001b[39;49m\u001b[43mkwds\u001b[49m\u001b[43m)\u001b[49m\n\u001b[1;32m     60\u001b[0m \u001b[38;5;28;01mexcept\u001b[39;00m \u001b[38;5;167;01mTypeError\u001b[39;00m:\n\u001b[1;32m     61\u001b[0m     \u001b[38;5;66;03m# A TypeError occurs if the object does have such a method in its\u001b[39;00m\n\u001b[1;32m     62\u001b[0m     \u001b[38;5;66;03m# class, but its signature is not identical to that of NumPy's. This\u001b[39;00m\n\u001b[0;32m   (...)\u001b[0m\n\u001b[1;32m     66\u001b[0m     \u001b[38;5;66;03m# Call _wrapit from within the except clause to ensure a potential\u001b[39;00m\n\u001b[1;32m     67\u001b[0m     \u001b[38;5;66;03m# exception has a traceback chain.\u001b[39;00m\n\u001b[1;32m     68\u001b[0m     \u001b[38;5;28;01mreturn\u001b[39;00m _wrapit(obj, method, \u001b[38;5;241m*\u001b[39margs, \u001b[38;5;241m*\u001b[39m\u001b[38;5;241m*\u001b[39mkwds)\n",
      "\u001b[0;31mValueError\u001b[0m: cannot reshape array of size 7239 into shape (20,381)"
     ]
    }
   ],
   "source": [
    "xxx = get_subsequence_images(cutted_ibm_train_split[[\"realized_vol\", \"forward_RV\"]])"
   ]
  },
  {
   "cell_type": "code",
   "execution_count": 316,
   "id": "452030ef-966a-48d5-b27f-5f2f5ccdd314",
   "metadata": {},
   "outputs": [
    {
     "data": {
      "text/plain": [
       "0"
      ]
     },
     "execution_count": 316,
     "metadata": {},
     "output_type": "execute_result"
    }
   ],
   "source": [
    "len(xxx)"
   ]
  },
  {
   "cell_type": "code",
   "execution_count": 321,
   "id": "db0a511a-ed8e-4073-a554-ad35da5cd207",
   "metadata": {},
   "outputs": [],
   "source": [
    "cutted_ibm_train_split = ibm_train_split.iloc[:-381*18]"
   ]
  },
  {
   "cell_type": "code",
   "execution_count": 332,
   "id": "0fd82330-0853-4239-b57b-7e640f325f7b",
   "metadata": {},
   "outputs": [
    {
     "data": {
      "text/plain": [
       "87.1"
      ]
     },
     "execution_count": 332,
     "metadata": {},
     "output_type": "execute_result"
    }
   ],
   "source": [
    "cutted_ibm_train_split.shape[0]/381/20"
   ]
  },
  {
   "cell_type": "code",
   "execution_count": null,
   "id": "721d273a-8090-4e17-b703-02517ebe422e",
   "metadata": {},
   "outputs": [],
   "source": []
  }
 ],
 "metadata": {
  "kernelspec": {
   "display_name": "Python 3 (ipykernel)",
   "language": "python",
   "name": "python3"
  },
  "language_info": {
   "codemirror_mode": {
    "name": "ipython",
    "version": 3
   },
   "file_extension": ".py",
   "mimetype": "text/x-python",
   "name": "python",
   "nbconvert_exporter": "python",
   "pygments_lexer": "ipython3",
   "version": "3.9.6"
  }
 },
 "nbformat": 4,
 "nbformat_minor": 5
}
