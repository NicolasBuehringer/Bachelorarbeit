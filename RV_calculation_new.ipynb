{
 "cells": [
  {
   "cell_type": "markdown",
   "id": "a389a443-452b-4441-aa86-f2d7fe65cee6",
   "metadata": {},
   "source": [
    "1. RV: Log_Returns quadrieren und summieren\n",
    "2. 70,15,15 (1,5 Jahre test set)\n",
    "3. "
   ]
  },
  {
   "cell_type": "code",
   "execution_count": 2,
   "id": "179e2cf8-d65f-4986-a879-5a167cbd2871",
   "metadata": {},
   "outputs": [],
   "source": [
    "import pandas as pd\n",
    "import numpy as np\n",
    "import matplotlib.pyplot as plt\n",
    "from sklearn.preprocessing import MinMaxScaler\n",
    "from math import sqrt\n",
    "\n",
    "pd.options.mode.chained_assignment = None"
   ]
  },
  {
   "cell_type": "code",
   "execution_count": 3,
   "id": "50cd31f0-07bc-42c8-9ff5-eb5237dc35ae",
   "metadata": {},
   "outputs": [
    {
     "name": "stdout",
     "output_type": "stream",
     "text": [
      "RV_calculation.ipynb     RV_calculation_new.ipynb \u001b[1m\u001b[36mraw_data\u001b[m\u001b[m\n"
     ]
    }
   ],
   "source": [
    "!ls"
   ]
  },
  {
   "cell_type": "code",
   "execution_count": 507,
   "id": "f9a7355b-dcd4-45b0-9269-6e28294d65df",
   "metadata": {},
   "outputs": [],
   "source": [
    "ibm_df = pd.read_csv(\"raw_data/3Stocks/IBM_1min.csv\")"
   ]
  },
  {
   "cell_type": "code",
   "execution_count": 3,
   "id": "393b5294-937a-4776-9551-d584e3b4bd57",
   "metadata": {},
   "outputs": [],
   "source": [
    "ibm_df = pd.read_csv(\"raw_data/3Stocks/IBM_1min.csv\")\n",
    "jnj_df = pd.read_csv(\"raw_data/3Stocks/JNJ_1min.csv\")\n",
    "wmt_df = pd.read_csv(\"raw_data/3Stocks/WMT_1min.csv\")"
   ]
  },
  {
   "cell_type": "code",
   "execution_count": 4,
   "id": "b0986e53-b616-46ba-b657-b570b176deed",
   "metadata": {},
   "outputs": [],
   "source": [
    "ibm_df['Date Time'] = pd.to_datetime(ibm_df['Date Time'])\n",
    "jnj_df['Date Time'] = pd.to_datetime(jnj_df['Date Time'])\n",
    "wmt_df['Date Time'] = pd.to_datetime(wmt_df['Date Time'])"
   ]
  },
  {
   "cell_type": "code",
   "execution_count": 5,
   "id": "b5e91aeb-32ea-490f-9bc8-862b1a430d31",
   "metadata": {},
   "outputs": [],
   "source": [
    "ibm_df['Log_Returns'] = np.log(ibm_df['Close'] / ibm_df['Close'].shift(1))\n",
    "jnj_df['Log_Returns'] = np.log(jnj_df['Close'] / jnj_df['Close'].shift(1))\n",
    "wmt_df['Log_Returns'] = np.log(wmt_df['Close'] / wmt_df['Close'].shift(1))\n",
    "ibm_df.dropna(inplace=True)\n",
    "jnj_df.dropna(inplace=True)\n",
    "wmt_df.dropna(inplace=True)"
   ]
  },
  {
   "cell_type": "code",
   "execution_count": 6,
   "id": "2e50f1e9-3d96-4a20-9805-f6e37df252c6",
   "metadata": {},
   "outputs": [],
   "source": [
    "ibm_df = ibm_df.iloc[380:]\n",
    "ibm_df.reset_index(drop=True, inplace=True)"
   ]
  },
  {
   "cell_type": "code",
   "execution_count": 404,
   "id": "37518a11-cf18-4267-ba07-9197336d723a",
   "metadata": {},
   "outputs": [],
   "source": [
    "ibm_df = ibm_df.iloc[380:]\n",
    "ibm_df.reset_index(drop=True, inplace=True)\n",
    "\n",
    "jnj_df = jnj_df.iloc[380:]\n",
    "jnj_df.reset_index(drop=True, inplace=True)\n",
    "\n",
    "wmt_df = wmt_df.iloc[380:]\n",
    "wmt_df.reset_index(drop=True, inplace=True)"
   ]
  },
  {
   "cell_type": "code",
   "execution_count": 7,
   "id": "c3101303-31c0-49f9-ac6c-36672159ab24",
   "metadata": {},
   "outputs": [],
   "source": [
    "observations_per_day = ibm_df.groupby(ibm_df['Date Time'].dt.date).size()"
   ]
  },
  {
   "cell_type": "code",
   "execution_count": 8,
   "id": "9f52b42e-f18b-4d56-a622-85baae9d0f04",
   "metadata": {},
   "outputs": [
    {
     "data": {
      "text/plain": [
       "array([381])"
      ]
     },
     "execution_count": 8,
     "metadata": {},
     "output_type": "execute_result"
    }
   ],
   "source": [
    "trading_hours = observations_per_day.unique()\n",
    "trading_hours"
   ]
  },
  {
   "cell_type": "code",
   "execution_count": 9,
   "id": "077c3b19-1158-4c98-ad55-970603018b91",
   "metadata": {},
   "outputs": [],
   "source": [
    "ibm_df[\"log_return_squared\"] = ibm_df[\"Log_Returns\"].apply(lambda x: x**2)"
   ]
  },
  {
   "cell_type": "code",
   "execution_count": 10,
   "id": "5ef7574f-9f27-4f88-805f-19b22adfed60",
   "metadata": {},
   "outputs": [],
   "source": [
    "ibm_df[\"realized_var\"] = ibm_df[\"log_return_squared\"].cumsum()"
   ]
  },
  {
   "cell_type": "code",
   "execution_count": 11,
   "id": "a6f288fd-2be8-4102-8ed3-18a126a4cb84",
   "metadata": {},
   "outputs": [],
   "source": [
    "ibm_df[\"realized_vol\"] = ibm_df[\"realized_var\"].apply(lambda x: sqrt(x))"
   ]
  },
  {
   "cell_type": "code",
   "execution_count": 18,
   "id": "a28757aa-1a64-4a1b-8230-79e5da21c1de",
   "metadata": {},
   "outputs": [
    {
     "data": {
      "text/html": [
       "<div>\n",
       "<style scoped>\n",
       "    .dataframe tbody tr th:only-of-type {\n",
       "        vertical-align: middle;\n",
       "    }\n",
       "\n",
       "    .dataframe tbody tr th {\n",
       "        vertical-align: top;\n",
       "    }\n",
       "\n",
       "    .dataframe thead th {\n",
       "        text-align: right;\n",
       "    }\n",
       "</style>\n",
       "<table border=\"1\" class=\"dataframe\">\n",
       "  <thead>\n",
       "    <tr style=\"text-align: right;\">\n",
       "      <th></th>\n",
       "      <th>Date Time</th>\n",
       "      <th>Open</th>\n",
       "      <th>High</th>\n",
       "      <th>Low</th>\n",
       "      <th>Close</th>\n",
       "      <th>Volume</th>\n",
       "      <th>Date</th>\n",
       "      <th>Time</th>\n",
       "      <th>Log_Returns</th>\n",
       "      <th>log_return_squared</th>\n",
       "      <th>realized_var</th>\n",
       "      <th>realized_vol</th>\n",
       "    </tr>\n",
       "  </thead>\n",
       "  <tbody>\n",
       "    <tr>\n",
       "      <th>0</th>\n",
       "      <td>2010-01-05 09:35:00</td>\n",
       "      <td>84.6767</td>\n",
       "      <td>84.8516</td>\n",
       "      <td>84.6767</td>\n",
       "      <td>84.7415</td>\n",
       "      <td>123004.0</td>\n",
       "      <td>2010-01-05</td>\n",
       "      <td>09:35:00</td>\n",
       "      <td>-0.012680</td>\n",
       "      <td>1.607932e-04</td>\n",
       "      <td>0.000161</td>\n",
       "      <td>0.012680</td>\n",
       "    </tr>\n",
       "    <tr>\n",
       "      <th>1</th>\n",
       "      <td>2010-01-05 09:36:00</td>\n",
       "      <td>84.7415</td>\n",
       "      <td>84.7544</td>\n",
       "      <td>84.6638</td>\n",
       "      <td>84.7318</td>\n",
       "      <td>101782.0</td>\n",
       "      <td>2010-01-05</td>\n",
       "      <td>09:36:00</td>\n",
       "      <td>-0.000114</td>\n",
       "      <td>1.310391e-08</td>\n",
       "      <td>0.000161</td>\n",
       "      <td>0.012681</td>\n",
       "    </tr>\n",
       "    <tr>\n",
       "      <th>2</th>\n",
       "      <td>2010-01-05 09:37:00</td>\n",
       "      <td>84.7415</td>\n",
       "      <td>84.7933</td>\n",
       "      <td>84.7221</td>\n",
       "      <td>84.7577</td>\n",
       "      <td>30386.0</td>\n",
       "      <td>2010-01-05</td>\n",
       "      <td>09:37:00</td>\n",
       "      <td>0.000306</td>\n",
       "      <td>9.340582e-08</td>\n",
       "      <td>0.000161</td>\n",
       "      <td>0.012685</td>\n",
       "    </tr>\n",
       "    <tr>\n",
       "      <th>3</th>\n",
       "      <td>2010-01-05 09:38:00</td>\n",
       "      <td>84.7544</td>\n",
       "      <td>84.7609</td>\n",
       "      <td>84.7091</td>\n",
       "      <td>84.7285</td>\n",
       "      <td>45357.0</td>\n",
       "      <td>2010-01-05</td>\n",
       "      <td>09:38:00</td>\n",
       "      <td>-0.000345</td>\n",
       "      <td>1.187291e-07</td>\n",
       "      <td>0.000161</td>\n",
       "      <td>0.012689</td>\n",
       "    </tr>\n",
       "    <tr>\n",
       "      <th>4</th>\n",
       "      <td>2010-01-05 09:39:00</td>\n",
       "      <td>84.7285</td>\n",
       "      <td>84.7285</td>\n",
       "      <td>84.6832</td>\n",
       "      <td>84.7026</td>\n",
       "      <td>37723.0</td>\n",
       "      <td>2010-01-05</td>\n",
       "      <td>09:39:00</td>\n",
       "      <td>-0.000306</td>\n",
       "      <td>9.347022e-08</td>\n",
       "      <td>0.000161</td>\n",
       "      <td>0.012693</td>\n",
       "    </tr>\n",
       "    <tr>\n",
       "      <th>...</th>\n",
       "      <td>...</td>\n",
       "      <td>...</td>\n",
       "      <td>...</td>\n",
       "      <td>...</td>\n",
       "      <td>...</td>\n",
       "      <td>...</td>\n",
       "      <td>...</td>\n",
       "      <td>...</td>\n",
       "      <td>...</td>\n",
       "      <td>...</td>\n",
       "      <td>...</td>\n",
       "      <td>...</td>\n",
       "    </tr>\n",
       "    <tr>\n",
       "      <th>958210</th>\n",
       "      <td>2019-12-31 15:51:00</td>\n",
       "      <td>114.7837</td>\n",
       "      <td>114.8095</td>\n",
       "      <td>114.7794</td>\n",
       "      <td>114.8095</td>\n",
       "      <td>20723.0</td>\n",
       "      <td>2019-12-31</td>\n",
       "      <td>15:51:00</td>\n",
       "      <td>0.000225</td>\n",
       "      <td>5.051046e-08</td>\n",
       "      <td>0.412063</td>\n",
       "      <td>0.641921</td>\n",
       "    </tr>\n",
       "    <tr>\n",
       "      <th>958211</th>\n",
       "      <td>2019-12-31 15:52:00</td>\n",
       "      <td>114.8095</td>\n",
       "      <td>114.8438</td>\n",
       "      <td>114.8052</td>\n",
       "      <td>114.8438</td>\n",
       "      <td>24968.0</td>\n",
       "      <td>2019-12-31</td>\n",
       "      <td>15:52:00</td>\n",
       "      <td>0.000299</td>\n",
       "      <td>8.922835e-08</td>\n",
       "      <td>0.412063</td>\n",
       "      <td>0.641921</td>\n",
       "    </tr>\n",
       "    <tr>\n",
       "      <th>958212</th>\n",
       "      <td>2019-12-31 15:53:00</td>\n",
       "      <td>114.8524</td>\n",
       "      <td>114.9038</td>\n",
       "      <td>114.8524</td>\n",
       "      <td>114.9038</td>\n",
       "      <td>39332.0</td>\n",
       "      <td>2019-12-31</td>\n",
       "      <td>15:53:00</td>\n",
       "      <td>0.000522</td>\n",
       "      <td>2.728102e-07</td>\n",
       "      <td>0.412063</td>\n",
       "      <td>0.641922</td>\n",
       "    </tr>\n",
       "    <tr>\n",
       "      <th>958213</th>\n",
       "      <td>2019-12-31 15:54:00</td>\n",
       "      <td>114.9038</td>\n",
       "      <td>114.9296</td>\n",
       "      <td>114.8910</td>\n",
       "      <td>114.9038</td>\n",
       "      <td>20436.0</td>\n",
       "      <td>2019-12-31</td>\n",
       "      <td>15:54:00</td>\n",
       "      <td>0.000000</td>\n",
       "      <td>0.000000e+00</td>\n",
       "      <td>0.412063</td>\n",
       "      <td>0.641922</td>\n",
       "    </tr>\n",
       "    <tr>\n",
       "      <th>958214</th>\n",
       "      <td>2019-12-31 15:55:00</td>\n",
       "      <td>114.9038</td>\n",
       "      <td>114.9553</td>\n",
       "      <td>114.8995</td>\n",
       "      <td>114.9467</td>\n",
       "      <td>30605.0</td>\n",
       "      <td>2019-12-31</td>\n",
       "      <td>15:55:00</td>\n",
       "      <td>0.000373</td>\n",
       "      <td>1.393425e-07</td>\n",
       "      <td>0.412063</td>\n",
       "      <td>0.641922</td>\n",
       "    </tr>\n",
       "  </tbody>\n",
       "</table>\n",
       "<p>958215 rows × 12 columns</p>\n",
       "</div>"
      ],
      "text/plain": [
       "                 Date Time      Open      High       Low     Close    Volume  \\\n",
       "0      2010-01-05 09:35:00   84.6767   84.8516   84.6767   84.7415  123004.0   \n",
       "1      2010-01-05 09:36:00   84.7415   84.7544   84.6638   84.7318  101782.0   \n",
       "2      2010-01-05 09:37:00   84.7415   84.7933   84.7221   84.7577   30386.0   \n",
       "3      2010-01-05 09:38:00   84.7544   84.7609   84.7091   84.7285   45357.0   \n",
       "4      2010-01-05 09:39:00   84.7285   84.7285   84.6832   84.7026   37723.0   \n",
       "...                    ...       ...       ...       ...       ...       ...   \n",
       "958210 2019-12-31 15:51:00  114.7837  114.8095  114.7794  114.8095   20723.0   \n",
       "958211 2019-12-31 15:52:00  114.8095  114.8438  114.8052  114.8438   24968.0   \n",
       "958212 2019-12-31 15:53:00  114.8524  114.9038  114.8524  114.9038   39332.0   \n",
       "958213 2019-12-31 15:54:00  114.9038  114.9296  114.8910  114.9038   20436.0   \n",
       "958214 2019-12-31 15:55:00  114.9038  114.9553  114.8995  114.9467   30605.0   \n",
       "\n",
       "              Date      Time  Log_Returns  log_return_squared  realized_var  \\\n",
       "0       2010-01-05  09:35:00    -0.012680        1.607932e-04      0.000161   \n",
       "1       2010-01-05  09:36:00    -0.000114        1.310391e-08      0.000161   \n",
       "2       2010-01-05  09:37:00     0.000306        9.340582e-08      0.000161   \n",
       "3       2010-01-05  09:38:00    -0.000345        1.187291e-07      0.000161   \n",
       "4       2010-01-05  09:39:00    -0.000306        9.347022e-08      0.000161   \n",
       "...            ...       ...          ...                 ...           ...   \n",
       "958210  2019-12-31  15:51:00     0.000225        5.051046e-08      0.412063   \n",
       "958211  2019-12-31  15:52:00     0.000299        8.922835e-08      0.412063   \n",
       "958212  2019-12-31  15:53:00     0.000522        2.728102e-07      0.412063   \n",
       "958213  2019-12-31  15:54:00     0.000000        0.000000e+00      0.412063   \n",
       "958214  2019-12-31  15:55:00     0.000373        1.393425e-07      0.412063   \n",
       "\n",
       "        realized_vol  \n",
       "0           0.012680  \n",
       "1           0.012681  \n",
       "2           0.012685  \n",
       "3           0.012689  \n",
       "4           0.012693  \n",
       "...              ...  \n",
       "958210      0.641921  \n",
       "958211      0.641921  \n",
       "958212      0.641922  \n",
       "958213      0.641922  \n",
       "958214      0.641922  \n",
       "\n",
       "[958215 rows x 12 columns]"
      ]
     },
     "execution_count": 18,
     "metadata": {},
     "output_type": "execute_result"
    }
   ],
   "source": [
    "ibm_df"
   ]
  },
  {
   "cell_type": "code",
   "execution_count": 394,
   "id": "eed97794-9e69-4cc4-8333-b8750fe64118",
   "metadata": {},
   "outputs": [],
   "source": [
    "ibm_df = ibm_df.iloc[380:]\n",
    "ibm_df.reset_index(drop=True, inplace=True)"
   ]
  },
  {
   "cell_type": "code",
   "execution_count": null,
   "id": "f3dfdbbf-117f-4eea-937e-6ee730e6e702",
   "metadata": {},
   "outputs": [],
   "source": [
    "380+381+381+381"
   ]
  },
  {
   "cell_type": "markdown",
   "id": "11cfaf84-0844-4470-8ee3-42d90edcdf24",
   "metadata": {},
   "source": [
    "2010-01-04: 9:36:00 - 15:55:00\n",
    "2010-01-05: 9:35:00 - 15:55:00\n",
    "2010-01-06: 9:35:00 - 15:55:00"
   ]
  },
  {
   "cell_type": "code",
   "execution_count": 219,
   "id": "993d1050-e205-4b85-ba4a-6976480b5967",
   "metadata": {},
   "outputs": [],
   "source": [
    "ibm_df[\"mean_deviation\"] = ibm_df[\"Log_Returns\"].apply(lambda x: (x - log_return_mean)**2)"
   ]
  },
  {
   "cell_type": "code",
   "execution_count": null,
   "id": "4910d50c-fff7-47ed-84d6-6f2866605ad1",
   "metadata": {},
   "outputs": [],
   "source": [
    "70, 15"
   ]
  },
  {
   "cell_type": "code",
   "execution_count": 224,
   "id": "599d7977-eb48-4c8b-9e4c-d32d4400eee1",
   "metadata": {},
   "outputs": [],
   "source": [
    "ibm_daily_volatility = (ibm_df.groupby(ibm_df['Date Time'].dt.date)[\"mean_deviation\"].sum()/trading_hours)**0.5"
   ]
  },
  {
   "cell_type": "code",
   "execution_count": 454,
   "id": "e19dcf2c-de21-429d-97be-ca2435b1488a",
   "metadata": {},
   "outputs": [
    {
     "data": {
      "text/plain": [
       "957835"
      ]
     },
     "execution_count": 454,
     "metadata": {},
     "output_type": "execute_result"
    }
   ],
   "source": [
    "len(ibm_df)"
   ]
  },
  {
   "cell_type": "code",
   "execution_count": 462,
   "id": "e687d50e-c86b-42e6-9d02-b0cddf318530",
   "metadata": {},
   "outputs": [],
   "source": [
    "cum_vol = np.zeros(len(ibm_df))"
   ]
  },
  {
   "cell_type": "code",
   "execution_count": 463,
   "id": "eb22016b-d789-499b-bd2f-61b1e1112772",
   "metadata": {},
   "outputs": [],
   "source": [
    "for index, row in ibm_df.iterrows():\n",
    "    cum_vol[index] = (sqrt(row[\"mean_dev_cumsum\"]/(index+1)))"
   ]
  },
  {
   "cell_type": "code",
   "execution_count": 444,
   "id": "610c0a4f-cfca-44d1-b807-bbbe956ddade",
   "metadata": {},
   "outputs": [],
   "source": [
    "ibm_df[\"mean_dev_cumsum\"] = ibm_df[\"mean_deviation\"].cumsum()"
   ]
  },
  {
   "cell_type": "code",
   "execution_count": 465,
   "id": "9c7d06cb-dbd3-4717-918d-9a3df27e218e",
   "metadata": {},
   "outputs": [],
   "source": [
    "ibm_df[\"cum_vol\"] = cum_vol"
   ]
  },
  {
   "cell_type": "code",
   "execution_count": 480,
   "id": "402e2e7a-3672-4065-b752-27ced09a0f36",
   "metadata": {},
   "outputs": [
    {
     "data": {
      "text/plain": [
       "[<matplotlib.lines.Line2D at 0x3338f0d60>]"
      ]
     },
     "execution_count": 480,
     "metadata": {},
     "output_type": "execute_result"
    },
    {
     "data": {
      "image/png": "[encoded data removed]",
      "text/plain": [
       "<Figure size 640x480 with 1 Axes>"
      ]
     },
     "metadata": {},
     "output_type": "display_data"
    }
   ],
   "source": [
    "plt.plot(ibm_df[\"cum_vol\"])"
   ]
  },
  {
   "cell_type": "code",
   "execution_count": 491,
   "id": "759ea8f5-c549-48fa-ba67-a8cef35f2e96",
   "metadata": {},
   "outputs": [],
   "source": [
    "last_minute_of_each_day = ibm_df.groupby(ibm_df['Date Time'].dt.date).last()"
   ]
  },
  {
   "cell_type": "code",
   "execution_count": 450,
   "id": "c78416e1-9a17-4b9e-8132-9f851b742e67",
   "metadata": {},
   "outputs": [],
   "source": [
    "from math import sqrt"
   ]
  },
  {
   "cell_type": "markdown",
   "id": "fc2066ae-d7b7-4705-8d99-3f1a4831f929",
   "metadata": {},
   "source": [
    "# Data Insights"
   ]
  },
  {
   "cell_type": "code",
   "execution_count": 166,
   "id": "801a3b54-724d-4ff9-b1a3-7c4bcc05b6ee",
   "metadata": {},
   "outputs": [
    {
     "data": {
      "text/html": [
       "<div>\n",
       "<style scoped>\n",
       "    .dataframe tbody tr th:only-of-type {\n",
       "        vertical-align: middle;\n",
       "    }\n",
       "\n",
       "    .dataframe tbody tr th {\n",
       "        vertical-align: top;\n",
       "    }\n",
       "\n",
       "    .dataframe thead th {\n",
       "        text-align: right;\n",
       "    }\n",
       "</style>\n",
       "<table border=\"1\" class=\"dataframe\">\n",
       "  <thead>\n",
       "    <tr style=\"text-align: right;\">\n",
       "      <th></th>\n",
       "      <th>Date Time</th>\n",
       "      <th>Open</th>\n",
       "      <th>High</th>\n",
       "      <th>Low</th>\n",
       "      <th>Close</th>\n",
       "      <th>Volume</th>\n",
       "      <th>Date</th>\n",
       "      <th>Time</th>\n",
       "      <th>Log_Returns</th>\n",
       "      <th>volaility</th>\n",
       "      <th>volatility</th>\n",
       "    </tr>\n",
       "  </thead>\n",
       "  <tbody>\n",
       "    <tr>\n",
       "      <th>794921</th>\n",
       "      <td>2018-04-18 12:10:00</td>\n",
       "      <td>117.9897</td>\n",
       "      <td>118.0921</td>\n",
       "      <td>117.9579</td>\n",
       "      <td>118.0016</td>\n",
       "      <td>35686.0</td>\n",
       "      <td>2018-04-18</td>\n",
       "      <td>12:10:00</td>\n",
       "      <td>0.000370</td>\n",
       "      <td>0.000370</td>\n",
       "      <td>1.369669e-07</td>\n",
       "    </tr>\n",
       "    <tr>\n",
       "      <th>794922</th>\n",
       "      <td>2018-04-18 12:11:00</td>\n",
       "      <td>118.0016</td>\n",
       "      <td>127.7209</td>\n",
       "      <td>117.9897</td>\n",
       "      <td>127.7209</td>\n",
       "      <td>21200.0</td>\n",
       "      <td>2018-04-18</td>\n",
       "      <td>12:11:00</td>\n",
       "      <td>0.079149</td>\n",
       "      <td>0.079149</td>\n",
       "      <td>6.264551e-03</td>\n",
       "    </tr>\n",
       "    <tr>\n",
       "      <th>794923</th>\n",
       "      <td>2018-04-18 12:12:00</td>\n",
       "      <td>118.0413</td>\n",
       "      <td>118.0611</td>\n",
       "      <td>118.0055</td>\n",
       "      <td>118.0325</td>\n",
       "      <td>13916.0</td>\n",
       "      <td>2018-04-18</td>\n",
       "      <td>12:12:00</td>\n",
       "      <td>-0.078887</td>\n",
       "      <td>-0.078888</td>\n",
       "      <td>6.223272e-03</td>\n",
       "    </tr>\n",
       "    <tr>\n",
       "      <th>794924</th>\n",
       "      <td>2018-04-18 12:13:00</td>\n",
       "      <td>118.0254</td>\n",
       "      <td>118.0611</td>\n",
       "      <td>118.0214</td>\n",
       "      <td>118.0373</td>\n",
       "      <td>12823.0</td>\n",
       "      <td>2018-04-18</td>\n",
       "      <td>12:13:00</td>\n",
       "      <td>0.000041</td>\n",
       "      <td>0.000040</td>\n",
       "      <td>1.628428e-09</td>\n",
       "    </tr>\n",
       "  </tbody>\n",
       "</table>\n",
       "</div>"
      ],
      "text/plain": [
       "                 Date Time      Open      High       Low     Close   Volume  \\\n",
       "794921 2018-04-18 12:10:00  117.9897  118.0921  117.9579  118.0016  35686.0   \n",
       "794922 2018-04-18 12:11:00  118.0016  127.7209  117.9897  127.7209  21200.0   \n",
       "794923 2018-04-18 12:12:00  118.0413  118.0611  118.0055  118.0325  13916.0   \n",
       "794924 2018-04-18 12:13:00  118.0254  118.0611  118.0214  118.0373  12823.0   \n",
       "\n",
       "              Date      Time  Log_Returns  volaility    volatility  \n",
       "794921  2018-04-18  12:10:00     0.000370   0.000370  1.369669e-07  \n",
       "794922  2018-04-18  12:11:00     0.079149   0.079149  6.264551e-03  \n",
       "794923  2018-04-18  12:12:00    -0.078887  -0.078888  6.223272e-03  \n",
       "794924  2018-04-18  12:13:00     0.000041   0.000040  1.628428e-09  "
      ]
     },
     "execution_count": 166,
     "metadata": {},
     "output_type": "execute_result"
    }
   ],
   "source": [
    "ibm_df.iloc[794919:794923]"
   ]
  },
  {
   "cell_type": "code",
   "execution_count": 500,
   "id": "f2bb546b-36de-4913-94cb-a4ed577a3d9a",
   "metadata": {},
   "outputs": [
    {
     "data": {
      "text/plain": [
       "867157    0.080164\n",
       "794161    0.079149\n",
       "746761    0.076530\n",
       "291847    0.048386\n",
       "586360    0.042518\n",
       "818389    0.035161\n",
       "243460    0.034949\n",
       "32386     0.031170\n",
       "770002    0.028511\n",
       "147067    0.027408\n",
       "195835    0.026553\n",
       "657226    0.023944\n",
       "154306    0.023355\n",
       "926593    0.022548\n",
       "540640    0.022260\n",
       "191263    0.022031\n",
       "182119    0.021910\n",
       "156211    0.021788\n",
       "792481    0.021103\n",
       "99442     0.021084\n",
       "Name: Log_Returns, dtype: float64"
      ]
     },
     "execution_count": 500,
     "metadata": {},
     "output_type": "execute_result"
    }
   ],
   "source": [
    "ibm_df[\"Log_Returns\"].nlargest(20)"
   ]
  },
  {
   "cell_type": "code",
   "execution_count": 180,
   "id": "fbc8536a-c3a2-44c2-a91b-bb7bf86d4801",
   "metadata": {},
   "outputs": [],
   "source": [
    "q_low = jnj_df[\"Log_Returns\"].quantile(0.01)\n",
    "q_hi  = jnj_df[\"Log_Returns\"].quantile(0.99)"
   ]
  },
  {
   "cell_type": "code",
   "execution_count": 181,
   "id": "1fd41d49-6f6a-4bff-af66-1c68a2c82fa2",
   "metadata": {},
   "outputs": [],
   "source": [
    "df_filtered = jnj_df[(jnj_df[\"Log_Returns\"] < q_hi) & (jnj_df[\"Log_Returns\"] > q_low)]"
   ]
  },
  {
   "cell_type": "code",
   "execution_count": 184,
   "id": "b0000d87-e8ec-4676-b855-ab45935830d3",
   "metadata": {},
   "outputs": [
    {
     "data": {
      "text/plain": [
       "(array([  7748.,  17736.,  45394., 115551., 332087., 233255., 116581.,\n",
       "         45171.,  17995.,   7905.]),\n",
       " array([-1.18405736e-03, -9.47071597e-04, -7.10085832e-04, -4.73100066e-04,\n",
       "        -2.36114300e-04,  8.71465774e-07,  2.37857232e-04,  4.74842997e-04,\n",
       "         7.11828763e-04,  9.48814529e-04,  1.18580029e-03]),\n",
       " <BarContainer object of 10 artists>)"
      ]
     },
     "execution_count": 184,
     "metadata": {},
     "output_type": "execute_result"
    },
    {
     "data": {
      "image/png": "[encoded data removed]",
      "text/plain": [
       "<Figure size 640x480 with 1 Axes>"
      ]
     },
     "metadata": {},
     "output_type": "display_data"
    }
   ],
   "source": [
    "plt.hist(df_filtered[\"Log_Returns\"])"
   ]
  },
  {
   "cell_type": "code",
   "execution_count": 178,
   "id": "4d1d7328-9327-4bf3-899b-19add9c5441c",
   "metadata": {},
   "outputs": [
    {
     "data": {
      "text/plain": [
       "540639   -0.102017\n",
       "858393   -0.040737\n",
       "858774   -0.029305\n",
       "913005   -0.029194\n",
       "776051   -0.027473\n",
       "483489   -0.026836\n",
       "32694    -0.025722\n",
       "160782   -0.025706\n",
       "698754   -0.024800\n",
       "51816    -0.024458\n",
       "101727   -0.022819\n",
       "575310   -0.021826\n",
       "867537   -0.021670\n",
       "676656   -0.021036\n",
       "176022   -0.020850\n",
       "913638   -0.020522\n",
       "939165   -0.020233\n",
       "542925   -0.019594\n",
       "76200    -0.019038\n",
       "162306   -0.018779\n",
       "Name: Log_Returns, dtype: float64"
      ]
     },
     "execution_count": 178,
     "metadata": {},
     "output_type": "execute_result"
    }
   ],
   "source": [
    "jnj_df[\"Log_Returns\"].nsmallest(20)"
   ]
  },
  {
   "cell_type": "code",
   "execution_count": 158,
   "id": "b05153d3-0824-43f2-9390-618ba5120a23",
   "metadata": {},
   "outputs": [
    {
     "data": {
      "text/plain": [
       "{'whiskers': [<matplotlib.lines.Line2D at 0x357c875e0>,\n",
       "  <matplotlib.lines.Line2D at 0x357c87880>],\n",
       " 'caps': [<matplotlib.lines.Line2D at 0x357c87b20>,\n",
       "  <matplotlib.lines.Line2D at 0x357c87dc0>],\n",
       " 'boxes': [<matplotlib.lines.Line2D at 0x357c87340>],\n",
       " 'medians': [<matplotlib.lines.Line2D at 0x357c960a0>],\n",
       " 'fliers': [<matplotlib.lines.Line2D at 0x357c62b20>],\n",
       " 'means': []}"
      ]
     },
     "execution_count": 158,
     "metadata": {},
     "output_type": "execute_result"
    },
    {
     "data": {
      "image/png": "[encoded data removed]",
      "text/plain": [
       "<Figure size 640x480 with 1 Axes>"
      ]
     },
     "metadata": {},
     "output_type": "display_data"
    }
   ],
   "source": [
    "plt.boxplot(ibm_df[\"Log_Returns\"])"
   ]
  },
  {
   "cell_type": "code",
   "execution_count": 143,
   "id": "50e755b9-c4a0-424f-8722-09c622a7a006",
   "metadata": {},
   "outputs": [
    {
     "data": {
      "text/plain": [
       "(array([6.00000e+00, 6.00000e+00, 1.50000e+01, 3.70000e+01, 8.98795e+05,\n",
       "        5.96980e+04, 3.10000e+01, 3.00000e+00, 1.00000e+00, 3.00000e+00]),\n",
       " array([-0.0788874 , -0.06298231, -0.04707722, -0.03117213, -0.01526703,\n",
       "         0.00063806,  0.01654315,  0.03244825,  0.04835334,  0.06425843,\n",
       "         0.08016352]),\n",
       " <BarContainer object of 10 artists>)"
      ]
     },
     "execution_count": 143,
     "metadata": {},
     "output_type": "execute_result"
    },
    {
     "data": {
      "image/png": "[encoded data removed]",
      "text/plain": [
       "<Figure size 640x480 with 1 Axes>"
      ]
     },
     "metadata": {},
     "output_type": "display_data"
    }
   ],
   "source": [
    "plt.hist(ibm_df[\"Log_Returns\"], bins=10)"
   ]
  },
  {
   "cell_type": "code",
   "execution_count": 187,
   "id": "ee225d85-ee1e-4e10-a4c2-40704df38935",
   "metadata": {},
   "outputs": [],
   "source": [
    "daily_log_returns_large = ibm_df.resample('D', on='Date Time').sum()[\"Log_Returns\"]"
   ]
  },
  {
   "cell_type": "markdown",
   "id": "14317dce-c420-4087-b9b7-721662e42680",
   "metadata": {},
   "source": [
    "# Creating image"
   ]
  },
  {
   "cell_type": "code",
   "execution_count": 247,
   "id": "93233639-dbcb-4ffa-b801-28d34773aef2",
   "metadata": {},
   "outputs": [
    {
     "data": {
      "text/plain": [
       "2500"
      ]
     },
     "execution_count": 247,
     "metadata": {},
     "output_type": "execute_result"
    }
   ],
   "source": [
    "50*50"
   ]
  },
  {
   "cell_type": "code",
   "execution_count": 271,
   "id": "0744a6f2-6c42-4779-b000-c384d0a17e69",
   "metadata": {},
   "outputs": [],
   "source": [
    "ibm_daily_volatility_diff = ibm_daily_volatility.diff().dropna()"
   ]
  },
  {
   "cell_type": "code",
   "execution_count": 230,
   "id": "0f256155-1235-417a-891c-5127691df6f6",
   "metadata": {},
   "outputs": [],
   "source": [
    "mm_scaler_x = MinMaxScaler(feature_range=(-255,255))"
   ]
  },
  {
   "cell_type": "code",
   "execution_count": 282,
   "id": "47647e5b-16d0-4fc2-a1f3-f8d37b4e5919",
   "metadata": {},
   "outputs": [],
   "source": [
    "pre_scale = np.reshape(ibm_daily_volatility_diff, (-1,1))"
   ]
  },
  {
   "cell_type": "code",
   "execution_count": 283,
   "id": "55d0e1a2-29f5-4538-bb12-771fb92752ac",
   "metadata": {},
   "outputs": [
    {
     "data": {
      "text/plain": [
       "(2514, 1)"
      ]
     },
     "execution_count": 283,
     "metadata": {},
     "output_type": "execute_result"
    }
   ],
   "source": [
    "pre_scale.shape"
   ]
  },
  {
   "cell_type": "code",
   "execution_count": 287,
   "id": "a9d09c6c-686d-4379-b546-4feaa68b35fa",
   "metadata": {},
   "outputs": [],
   "source": [
    "scaled_daily_vol_dif = mm_scaler_x.fit_transform(pre_scale)"
   ]
  },
  {
   "cell_type": "code",
   "execution_count": 496,
   "id": "687ba0a4-718c-4fbc-85d9-4f180029969a",
   "metadata": {},
   "outputs": [],
   "source": [
    "daily_volatility_diff = last_minute_of_each_day[\"cum_vol\"].diff().dropna()\n",
    "\n",
    "pre_scale = np.reshape(daily_volatility_diff, (-1,1))\n",
    "    \n",
    "mm_scaler_x = MinMaxScaler(feature_range=(-255,255))\n",
    "scaled_daily_vol_dif = mm_scaler_x.fit_transform(pre_scale)"
   ]
  },
  {
   "cell_type": "code",
   "execution_count": 498,
   "id": "9e73127d-ed33-47a7-9bbf-6d23e9b3ff13",
   "metadata": {},
   "outputs": [
    {
     "data": {
      "text/plain": [
       "(2513, 1)"
      ]
     },
     "execution_count": 498,
     "metadata": {},
     "output_type": "execute_result"
    }
   ],
   "source": [
    "scaled_daily_vol_dif.shape"
   ]
  },
  {
   "cell_type": "code",
   "execution_count": 499,
   "id": "ed98ef86-3f6b-41e7-9f26-6a9689296426",
   "metadata": {},
   "outputs": [
    {
     "name": "stderr",
     "output_type": "stream",
     "text": [
      "/var/folders/31/d9mhbrs95msdp4hzv2wdsc8w0000gn/T/ipykernel_54188/2922091584.py:11: DeprecationWarning: Conversion of an array with ndim > 0 to a scalar is deprecated, and will error in future. Ensure you extract a single element from your array before performing this operation. (Deprecated NumPy 1.25.)\n",
      "  red[i] = np.abs(scaled_daily_vol_dif[i])\n",
      "/var/folders/31/d9mhbrs95msdp4hzv2wdsc8w0000gn/T/ipykernel_54188/2922091584.py:13: DeprecationWarning: Conversion of an array with ndim > 0 to a scalar is deprecated, and will error in future. Ensure you extract a single element from your array before performing this operation. (Deprecated NumPy 1.25.)\n",
      "  green[i] = scaled_daily_vol_dif[i]\n"
     ]
    },
    {
     "data": {
      "text/plain": [
       "(50, 50, 3)"
      ]
     },
     "execution_count": 499,
     "metadata": {},
     "output_type": "execute_result"
    }
   ],
   "source": [
    "diff_to_rgb(scaled_daily_vol_dif).shape"
   ]
  },
  {
   "cell_type": "code",
   "execution_count": 406,
   "id": "5b3e1d4d-6843-4310-99ee-b21ba2ad9be3",
   "metadata": {},
   "outputs": [],
   "source": [
    "def create_full_image(stock_data):\n",
    "\n",
    "    df = stock_data\n",
    "    \n",
    "    observations_per_day = df.groupby(df['Date Time'].dt.date).size()\n",
    "    trading_hours = observations_per_day.unique()[0]\n",
    "\n",
    "    log_return_mean = df[\"Log_Returns\"].mean()\n",
    "    df[\"mean_deviation\"] = df[\"Log_Returns\"].apply(lambda x: (x - log_return_mean)**2)\n",
    "\n",
    "    daily_volatility = (df.groupby(df['Date Time'].dt.date)[\"mean_deviation\"].sum()/trading_hours)**0.5\n",
    "\n",
    "    \n",
    "    daily_volatility_diff = daily_volatility.diff().dropna()\n",
    "\n",
    "    pre_scale = np.reshape(daily_volatility_diff, (-1,1))\n",
    "    \n",
    "    mm_scaler_x = MinMaxScaler(feature_range=(-255,255))\n",
    "    scaled_daily_vol_dif = mm_scaler_x.fit_transform(pre_scale)\n",
    "\n",
    "    return diff_to_rgb(scaled_daily_vol_dif)\n",
    "    "
   ]
  },
  {
   "cell_type": "code",
   "execution_count": 412,
   "id": "4f617fef-91f7-4839-87df-281c2e6e662f",
   "metadata": {},
   "outputs": [
    {
     "name": "stderr",
     "output_type": "stream",
     "text": [
      "/var/folders/31/d9mhbrs95msdp4hzv2wdsc8w0000gn/T/ipykernel_54188/2922091584.py:11: DeprecationWarning: Conversion of an array with ndim > 0 to a scalar is deprecated, and will error in future. Ensure you extract a single element from your array before performing this operation. (Deprecated NumPy 1.25.)\n",
      "  red[i] = np.abs(scaled_daily_vol_dif[i])\n",
      "/var/folders/31/d9mhbrs95msdp4hzv2wdsc8w0000gn/T/ipykernel_54188/2922091584.py:13: DeprecationWarning: Conversion of an array with ndim > 0 to a scalar is deprecated, and will error in future. Ensure you extract a single element from your array before performing this operation. (Deprecated NumPy 1.25.)\n",
      "  green[i] = scaled_daily_vol_dif[i]\n"
     ]
    }
   ],
   "source": [
    "tmp = create_full_image(jnj_df)"
   ]
  },
  {
   "cell_type": "code",
   "execution_count": 413,
   "id": "db061aed-8b6e-4c8d-9ae2-1bc835deac7e",
   "metadata": {},
   "outputs": [
    {
     "name": "stderr",
     "output_type": "stream",
     "text": [
      "/var/folders/31/d9mhbrs95msdp4hzv2wdsc8w0000gn/T/ipykernel_54188/2922091584.py:11: DeprecationWarning: Conversion of an array with ndim > 0 to a scalar is deprecated, and will error in future. Ensure you extract a single element from your array before performing this operation. (Deprecated NumPy 1.25.)\n",
      "  red[i] = np.abs(scaled_daily_vol_dif[i])\n",
      "/var/folders/31/d9mhbrs95msdp4hzv2wdsc8w0000gn/T/ipykernel_54188/2922091584.py:13: DeprecationWarning: Conversion of an array with ndim > 0 to a scalar is deprecated, and will error in future. Ensure you extract a single element from your array before performing this operation. (Deprecated NumPy 1.25.)\n",
      "  green[i] = scaled_daily_vol_dif[i]\n"
     ]
    }
   ],
   "source": [
    "tmpp = create_full_image(wmt_df)"
   ]
  },
  {
   "cell_type": "code",
   "execution_count": 131,
   "id": "408e8810-9abc-4f4c-ab10-e5d920aed611",
   "metadata": {},
   "outputs": [],
   "source": [
    "def diff_to_rgb(scaled_daily_vol_dif):\n",
    "\n",
    "    size = scaled_daily_vol_dif.shape[0]\n",
    "    \n",
    "    red = np.zeros(size)\n",
    "    green = np.zeros(size)\n",
    "    blue = np.zeros(size)\n",
    "    \n",
    "    for i in range(len(scaled_daily_vol_dif)):\n",
    "        if scaled_daily_vol_dif[i] < 0:\n",
    "            red[i] = np.abs(scaled_daily_vol_dif[i])\n",
    "        elif scaled_daily_vol_dif[i] > 0:\n",
    "            green[i] = scaled_daily_vol_dif[i]\n",
    "        elif scaled_daily_vol_dif[i] == 0:\n",
    "            continue\n",
    "        else:\n",
    "            print(error)\n",
    "\n",
    "    image_dim = math.floor(scaled_daily_vol_dif.shape[0]**0.5)\n",
    "\n",
    "    flat_image = np.column_stack((red, green, blue))\n",
    "\n",
    "    square_image = flat_image[:image_dim**2].reshape((image_dim, image_dim, 3))\n",
    "    return square_image"
   ]
  },
  {
   "cell_type": "code",
   "execution_count": 320,
   "id": "979687ba-1775-4b09-84d1-dec75c8cef01",
   "metadata": {},
   "outputs": [
    {
     "data": {
      "text/plain": [
       "(958215, 11)"
      ]
     },
     "execution_count": 320,
     "metadata": {},
     "output_type": "execute_result"
    }
   ],
   "source": [
    "tmp.shape"
   ]
  },
  {
   "cell_type": "code",
   "execution_count": 294,
   "id": "2088f743-54d3-457a-8753-58b12a8faaad",
   "metadata": {},
   "outputs": [],
   "source": [
    "reshaped_arr = testing[:50**2].reshape((50, 50, 3))"
   ]
  },
  {
   "cell_type": "code",
   "execution_count": 421,
   "id": "d7edca6b-cc00-450a-8764-571f332d2b23",
   "metadata": {},
   "outputs": [
    {
     "name": "stderr",
     "output_type": "stream",
     "text": [
      "Clipping input data to the valid range for imshow with RGB data ([0..1] for floats or [0..255] for integers).\n"
     ]
    },
    {
     "data": {
      "text/plain": [
       "<matplotlib.image.AxesImage at 0x3571ff2e0>"
      ]
     },
     "execution_count": 421,
     "metadata": {},
     "output_type": "execute_result"
    },
    {
     "data": {
      "image/png": "[encoded data removed]",
      "text/plain": [
       "<Figure size 640x480 with 1 Axes>"
      ]
     },
     "metadata": {},
     "output_type": "display_data"
    }
   ],
   "source": [
    "plt.imshow(tmppp)"
   ]
  },
  {
   "cell_type": "code",
   "execution_count": 502,
   "id": "e20a07ac-5c13-4ef2-8f90-edd9b9bf4bbc",
   "metadata": {},
   "outputs": [
    {
     "data": {
      "text/plain": [
       "125.75"
      ]
     },
     "execution_count": 502,
     "metadata": {},
     "output_type": "execute_result"
    }
   ],
   "source": [
    "2515/5/4"
   ]
  },
  {
   "cell_type": "code",
   "execution_count": 504,
   "id": "1b61a53e-1ea0-4fd5-87cb-e507c387c910",
   "metadata": {},
   "outputs": [
    {
     "data": {
      "text/plain": [
       "8360"
      ]
     },
     "execution_count": 504,
     "metadata": {},
     "output_type": "execute_result"
    }
   ],
   "source": [
    "380*22"
   ]
  },
  {
   "cell_type": "markdown",
   "id": "8d7eccbe-91d7-44ce-b86a-68a88c9eec02",
   "metadata": {},
   "source": [
    "1. 5 Minuten\n",
    "2. x Achse Minuten, y Achse Tage im Monat\n",
    "3. rolling window"
   ]
  },
  {
   "cell_type": "code",
   "execution_count": 417,
   "id": "4131137a-9090-4956-9eca-33c59a4e80fd",
   "metadata": {},
   "outputs": [
    {
     "name": "stderr",
     "output_type": "stream",
     "text": [
      "Clipping input data to the valid range for imshow with RGB data ([0..1] for floats or [0..255] for integers).\n"
     ]
    },
    {
     "data": {
      "text/plain": [
       "<matplotlib.image.AxesImage at 0x357194f40>"
      ]
     },
     "execution_count": 417,
     "metadata": {},
     "output_type": "execute_result"
    },
    {
     "data": {
      "image/png": "[encoded data removed]",
      "text/plain": [
       "<Figure size 640x480 with 1 Axes>"
      ]
     },
     "metadata": {},
     "output_type": "display_data"
    }
   ],
   "source": [
    "plt.imshow(tmp)"
   ]
  },
  {
   "cell_type": "code",
   "execution_count": 415,
   "id": "10cfb05a-b000-455e-941c-e4e2ddcce6f2",
   "metadata": {},
   "outputs": [
    {
     "name": "stderr",
     "output_type": "stream",
     "text": [
      "Clipping input data to the valid range for imshow with RGB data ([0..1] for floats or [0..255] for integers).\n"
     ]
    },
    {
     "data": {
      "text/plain": [
       "<matplotlib.image.AxesImage at 0x356c41250>"
      ]
     },
     "execution_count": 415,
     "metadata": {},
     "output_type": "execute_result"
    },
    {
     "data": {
      "image/png": "[encoded data removed]",
      "text/plain": [
       "<Figure size 640x480 with 1 Axes>"
      ]
     },
     "metadata": {},
     "output_type": "display_data"
    }
   ],
   "source": [
    "plt.imshow(tmpp)"
   ]
  },
  {
   "cell_type": "code",
   "execution_count": 22,
   "id": "a30dbe5c-f7e3-4da7-bba6-cd4efba6f898",
   "metadata": {},
   "outputs": [
    {
     "name": "stderr",
     "output_type": "stream",
     "text": [
      "Clipping input data to the valid range for imshow with RGB data ([0..1] for floats or [0..255] for integers).\n"
     ]
    },
    {
     "data": {
      "text/plain": [
       "<matplotlib.image.AxesImage at 0x32c7c8190>"
      ]
     },
     "execution_count": 22,
     "metadata": {},
     "output_type": "execute_result"
    },
    {
     "data": {
      "image/png": "[encoded data removed]",
      "text/plain": [
       "<Figure size 640x480 with 1 Axes>"
      ]
     },
     "metadata": {},
     "output_type": "display_data"
    }
   ],
   "source": [
    "plt.imshow(np.array([testing]), aspect = \"auto\")"
   ]
  },
  {
   "cell_type": "code",
   "execution_count": 23,
   "id": "74341cef-12bd-45b7-b600-8e2f9724e935",
   "metadata": {},
   "outputs": [],
   "source": [
    "!mkdir \"raw_data/images\""
   ]
  },
  {
   "cell_type": "code",
   "execution_count": 92,
   "id": "b106243a-d346-4e2f-a1ae-1b63bbae9c5c",
   "metadata": {},
   "outputs": [],
   "source": [
    "tmp = reshaped_arr.astype(np.uint8)"
   ]
  },
  {
   "cell_type": "code",
   "execution_count": 89,
   "id": "e7752648-653e-42e1-8742-c5ecb4eaecd1",
   "metadata": {},
   "outputs": [],
   "source": [
    "normalized_arr = np.clip(reshaped_arr, 0, 1)"
   ]
  },
  {
   "cell_type": "code",
   "execution_count": 96,
   "id": "299568e3-8840-44c3-8387-0ffbe0016e47",
   "metadata": {},
   "outputs": [],
   "source": [
    "uint8_arr = (normalized_arr * 255).astype(np.uint8)\n",
    "\n",
    "plt.imsave(\"raw_data/images/test4.png\", uint8_arr)"
   ]
  },
  {
   "cell_type": "code",
   "execution_count": null,
   "id": "ca3ced8e-1527-41bc-8e83-32d106908b3f",
   "metadata": {},
   "outputs": [],
   "source": [
    "reshape"
   ]
  },
  {
   "cell_type": "code",
   "execution_count": 95,
   "id": "813a45d7-b55a-41b3-94ef-7b886f3f5ab7",
   "metadata": {},
   "outputs": [],
   "source": [
    "plt.imsave(\"raw_data/images/test3.png\", tmp)"
   ]
  },
  {
   "cell_type": "code",
   "execution_count": 98,
   "id": "c0abd0e9-1431-4e7c-b429-86ab4922d611",
   "metadata": {},
   "outputs": [
    {
     "data": {
      "text/plain": [
       "<matplotlib.image.AxesImage at 0x31f85d850>"
      ]
     },
     "execution_count": 98,
     "metadata": {},
     "output_type": "execute_result"
    },
    {
     "data": {
      "image/png": "[encoded data removed]",
      "text/plain": [
       "<Figure size 640x480 with 1 Axes>"
      ]
     },
     "metadata": {},
     "output_type": "display_data"
    }
   ],
   "source": [
    "image_data = plt.imread(\"raw_data/images/test4.png\")\n",
    "\n",
    "# Display the image\n",
    "plt.imshow(image_data)"
   ]
  },
  {
   "cell_type": "code",
   "execution_count": 178,
   "id": "f14336c0-cffd-417c-8f2a-bed11ec14346",
   "metadata": {},
   "outputs": [
    {
     "data": {
      "text/plain": [
       "(1, 3, 3)"
      ]
     },
     "execution_count": 178,
     "metadata": {},
     "output_type": "execute_result"
    }
   ],
   "source": [
    "np.array([[[255,0,0], [0,255,0], [0,0,255]]]).shape"
   ]
  },
  {
   "cell_type": "code",
   "execution_count": 167,
   "id": "ef15681a-0fb7-49d7-a218-80b74c973eb9",
   "metadata": {},
   "outputs": [
    {
     "data": {
      "text/plain": [
       "<matplotlib.image.AxesImage at 0x155d90fa0>"
      ]
     },
     "execution_count": 167,
     "metadata": {},
     "output_type": "execute_result"
    },
    {
     "data": {
      "image/png": "[encoded data removed]",
      "text/plain": [
       "<Figure size 640x480 with 1 Axes>"
      ]
     },
     "metadata": {},
     "output_type": "display_data"
    }
   ],
   "source": [
    "plt.imshow(np.array([[[255,0,0], [0,255,0], [0,0,255]]]))"
   ]
  },
  {
   "cell_type": "code",
   "execution_count": null,
   "id": "f8c31d24-6a80-4774-b7f4-bc2f1c31bd4f",
   "metadata": {},
   "outputs": [],
   "source": []
  },
  {
   "cell_type": "code",
   "execution_count": null,
   "id": "980f33bf-561b-4c55-8864-0221bd947a04",
   "metadata": {},
   "outputs": [],
   "source": [
    "a = np.array((1,2,3))\n",
    "b = np.array((2,3,4))\n",
    "np.column_stack((a,b))\n",
    "array([[1, 2],\n",
    "       [2, 3],\n",
    "       [3, 4]])"
   ]
  },
  {
   "cell_type": "code",
   "execution_count": 38,
   "id": "e13c434b-b9c8-48fd-aa60-f75a97c1398d",
   "metadata": {},
   "outputs": [
    {
     "data": {
      "image/png": "[encoded data removed]",
      "text/plain": [
       "<Figure size 640x480 with 1 Axes>"
      ]
     },
     "metadata": {},
     "output_type": "display_data"
    }
   ],
   "source": [
    "palette = np.array([[255,   0,   0], # index 0: red\n",
    "                   [  0, 255,   0], # index 1: green\n",
    "                    [  0,   0, 255], # index 2: blue\n",
    "                    [255, 255, 255], # index 3: white\n",
    "                    [  0,   0,   0], # index 4: black\n",
    "                    [255, 255,   0], # index 5: yellow\n",
    "                     ], dtype=np.uint8)\n",
    "     \n",
    "\n",
    "m, n = 4, 6\n",
    "\n",
    "indices = np.random.randint(0, len(palette), size=(4, 6))\n",
    "indices\n",
    "np.array([[2, 4, 0, 1, 4, 2],\n",
    "       [1, 1, 5, 5, 2, 0],\n",
    "       [4, 4, 3, 3, 0, 4],\n",
    "       [2, 5, 0, 5, 2, 3]])\n",
    "\n",
    "In [21]: plt.imshow(palette[indices])"
   ]
  },
  {
   "cell_type": "code",
   "execution_count": 138,
   "id": "4f4897c8-f739-4330-b344-72353906305c",
   "metadata": {},
   "outputs": [
    {
     "data": {
      "text/plain": [
       "array([[[  0,   0, 255],\n",
       "        [255, 255,   0],\n",
       "        [255, 255, 255],\n",
       "        [  0,   0, 255],\n",
       "        [255, 255,   0],\n",
       "        [  0, 255,   0]],\n",
       "\n",
       "       [[  0,   0,   0],\n",
       "        [  0,   0,   0],\n",
       "        [  0, 255,   0],\n",
       "        [  0,   0,   0],\n",
       "        [  0,   0,   0],\n",
       "        [255, 255, 255]],\n",
       "\n",
       "       [[  0,   0,   0],\n",
       "        [  0, 255,   0],\n",
       "        [255, 255,   0],\n",
       "        [  0,   0,   0],\n",
       "        [255, 255,   0],\n",
       "        [255,   0,   0]],\n",
       "\n",
       "       [[255,   0,   0],\n",
       "        [255,   0,   0],\n",
       "        [  0,   0,   0],\n",
       "        [  0,   0, 255],\n",
       "        [  0,   0, 255],\n",
       "        [  0,   0, 255]]], dtype=uint8)"
      ]
     },
     "execution_count": 138,
     "metadata": {},
     "output_type": "execute_result"
    }
   ],
   "source": [
    "palette[indices]"
   ]
  },
  {
   "cell_type": "code",
   "execution_count": null,
   "id": "e3fc77fd-3fc9-4dc9-8f0d-be3ccdf5d2c6",
   "metadata": {},
   "outputs": [],
   "source": []
  },
  {
   "cell_type": "markdown",
   "id": "00e68978-76e7-4d6f-9269-c89faaf28d8b",
   "metadata": {},
   "source": [
    "## train_test_split"
   ]
  },
  {
   "cell_type": "code",
   "execution_count": 19,
   "id": "4f3d4fb0-25e5-4ce6-a416-8616bd0bac14",
   "metadata": {},
   "outputs": [
    {
     "data": {
      "text/plain": [
       "670750.5"
      ]
     },
     "execution_count": 19,
     "metadata": {},
     "output_type": "execute_result"
    }
   ],
   "source": [
    "ibm_df.shape[0] * 0.7"
   ]
  },
  {
   "cell_type": "code",
   "execution_count": 20,
   "id": "904e530d-f2ff-4406-97f7-78745f67cca9",
   "metadata": {},
   "outputs": [],
   "source": [
    "ibm_train_split = ibm_df.iloc[:670941]"
   ]
  },
  {
   "cell_type": "code",
   "execution_count": 21,
   "id": "c96e5a6b-0d95-4a3a-b074-0bbffe9e9c42",
   "metadata": {},
   "outputs": [],
   "source": [
    "ibm_train_split[\"forward_RV\"] = ibm_train_split[\"realized_vol\"].shift(1)"
   ]
  },
  {
   "cell_type": "code",
   "execution_count": 24,
   "id": "a7fdac56-98d6-4224-b7bd-4f3822531757",
   "metadata": {},
   "outputs": [],
   "source": [
    "ibm_train_split = ibm_train_split[381:]"
   ]
  },
  {
   "cell_type": "code",
   "execution_count": 531,
   "id": "83bfd10a",
   "metadata": {},
   "outputs": [
    {
     "data": {
      "text/plain": [
       "1760.5"
      ]
     },
     "execution_count": 531,
     "metadata": {},
     "output_type": "execute_result"
    }
   ],
   "source": [
    "2515 * 0.7"
   ]
  },
  {
   "cell_type": "code",
   "execution_count": 25,
   "id": "30b5980c",
   "metadata": {},
   "outputs": [
    {
     "data": {
      "text/html": [
       "<div>\n",
       "<style scoped>\n",
       "    .dataframe tbody tr th:only-of-type {\n",
       "        vertical-align: middle;\n",
       "    }\n",
       "\n",
       "    .dataframe tbody tr th {\n",
       "        vertical-align: top;\n",
       "    }\n",
       "\n",
       "    .dataframe thead th {\n",
       "        text-align: right;\n",
       "    }\n",
       "</style>\n",
       "<table border=\"1\" class=\"dataframe\">\n",
       "  <thead>\n",
       "    <tr style=\"text-align: right;\">\n",
       "      <th></th>\n",
       "      <th>Date Time</th>\n",
       "      <th>Open</th>\n",
       "      <th>High</th>\n",
       "      <th>Low</th>\n",
       "      <th>Close</th>\n",
       "      <th>Volume</th>\n",
       "      <th>Date</th>\n",
       "      <th>Time</th>\n",
       "      <th>Log_Returns</th>\n",
       "      <th>log_return_squared</th>\n",
       "      <th>realized_var</th>\n",
       "      <th>realized_vol</th>\n",
       "      <th>forward_RV</th>\n",
       "    </tr>\n",
       "  </thead>\n",
       "  <tbody>\n",
       "    <tr>\n",
       "      <th>381</th>\n",
       "      <td>2010-01-06 09:35:00</td>\n",
       "      <td>84.8775</td>\n",
       "      <td>84.9228</td>\n",
       "      <td>84.6767</td>\n",
       "      <td>84.6897</td>\n",
       "      <td>46663.0</td>\n",
       "      <td>2010-01-06</td>\n",
       "      <td>09:35:00</td>\n",
       "      <td>-0.000382</td>\n",
       "      <td>1.463062e-07</td>\n",
       "      <td>0.000209</td>\n",
       "      <td>0.014469</td>\n",
       "      <td>0.014463</td>\n",
       "    </tr>\n",
       "    <tr>\n",
       "      <th>382</th>\n",
       "      <td>2010-01-06 09:36:00</td>\n",
       "      <td>84.6962</td>\n",
       "      <td>84.8257</td>\n",
       "      <td>84.6897</td>\n",
       "      <td>84.7868</td>\n",
       "      <td>26449.0</td>\n",
       "      <td>2010-01-06</td>\n",
       "      <td>09:36:00</td>\n",
       "      <td>0.001146</td>\n",
       "      <td>1.313045e-06</td>\n",
       "      <td>0.000211</td>\n",
       "      <td>0.014514</td>\n",
       "      <td>0.014469</td>\n",
       "    </tr>\n",
       "    <tr>\n",
       "      <th>383</th>\n",
       "      <td>2010-01-06 09:37:00</td>\n",
       "      <td>84.7998</td>\n",
       "      <td>84.8580</td>\n",
       "      <td>84.7868</td>\n",
       "      <td>84.8127</td>\n",
       "      <td>15784.0</td>\n",
       "      <td>2010-01-06</td>\n",
       "      <td>09:37:00</td>\n",
       "      <td>0.000305</td>\n",
       "      <td>9.328469e-08</td>\n",
       "      <td>0.000211</td>\n",
       "      <td>0.014517</td>\n",
       "      <td>0.014514</td>\n",
       "    </tr>\n",
       "    <tr>\n",
       "      <th>384</th>\n",
       "      <td>2010-01-06 09:38:00</td>\n",
       "      <td>84.8127</td>\n",
       "      <td>84.8257</td>\n",
       "      <td>84.7156</td>\n",
       "      <td>84.7350</td>\n",
       "      <td>29916.0</td>\n",
       "      <td>2010-01-06</td>\n",
       "      <td>09:38:00</td>\n",
       "      <td>-0.000917</td>\n",
       "      <td>8.400754e-07</td>\n",
       "      <td>0.000212</td>\n",
       "      <td>0.014546</td>\n",
       "      <td>0.014517</td>\n",
       "    </tr>\n",
       "    <tr>\n",
       "      <th>385</th>\n",
       "      <td>2010-01-06 09:39:00</td>\n",
       "      <td>84.7544</td>\n",
       "      <td>84.7577</td>\n",
       "      <td>84.7156</td>\n",
       "      <td>84.7285</td>\n",
       "      <td>30572.0</td>\n",
       "      <td>2010-01-06</td>\n",
       "      <td>09:39:00</td>\n",
       "      <td>-0.000077</td>\n",
       "      <td>5.884836e-09</td>\n",
       "      <td>0.000212</td>\n",
       "      <td>0.014546</td>\n",
       "      <td>0.014546</td>\n",
       "    </tr>\n",
       "    <tr>\n",
       "      <th>...</th>\n",
       "      <td>...</td>\n",
       "      <td>...</td>\n",
       "      <td>...</td>\n",
       "      <td>...</td>\n",
       "      <td>...</td>\n",
       "      <td>...</td>\n",
       "      <td>...</td>\n",
       "      <td>...</td>\n",
       "      <td>...</td>\n",
       "      <td>...</td>\n",
       "      <td>...</td>\n",
       "      <td>...</td>\n",
       "      <td>...</td>\n",
       "    </tr>\n",
       "    <tr>\n",
       "      <th>670936</th>\n",
       "      <td>2016-12-30 15:51:00</td>\n",
       "      <td>125.5979</td>\n",
       "      <td>125.5979</td>\n",
       "      <td>125.5525</td>\n",
       "      <td>125.5600</td>\n",
       "      <td>15253.0</td>\n",
       "      <td>2016-12-30</td>\n",
       "      <td>15:51:00</td>\n",
       "      <td>-0.000332</td>\n",
       "      <td>1.102619e-07</td>\n",
       "      <td>0.274200</td>\n",
       "      <td>0.523641</td>\n",
       "      <td>0.523641</td>\n",
       "    </tr>\n",
       "    <tr>\n",
       "      <th>670937</th>\n",
       "      <td>2016-12-30 15:52:00</td>\n",
       "      <td>125.5600</td>\n",
       "      <td>125.5828</td>\n",
       "      <td>125.5525</td>\n",
       "      <td>125.5600</td>\n",
       "      <td>17724.0</td>\n",
       "      <td>2016-12-30</td>\n",
       "      <td>15:52:00</td>\n",
       "      <td>0.000000</td>\n",
       "      <td>0.000000e+00</td>\n",
       "      <td>0.274200</td>\n",
       "      <td>0.523641</td>\n",
       "      <td>0.523641</td>\n",
       "    </tr>\n",
       "    <tr>\n",
       "      <th>670938</th>\n",
       "      <td>2016-12-30 15:53:00</td>\n",
       "      <td>125.5600</td>\n",
       "      <td>125.5676</td>\n",
       "      <td>125.5373</td>\n",
       "      <td>125.5449</td>\n",
       "      <td>13706.0</td>\n",
       "      <td>2016-12-30</td>\n",
       "      <td>15:53:00</td>\n",
       "      <td>-0.000120</td>\n",
       "      <td>1.446450e-08</td>\n",
       "      <td>0.274200</td>\n",
       "      <td>0.523641</td>\n",
       "      <td>0.523641</td>\n",
       "    </tr>\n",
       "    <tr>\n",
       "      <th>670939</th>\n",
       "      <td>2016-12-30 15:54:00</td>\n",
       "      <td>125.5525</td>\n",
       "      <td>125.5828</td>\n",
       "      <td>125.4918</td>\n",
       "      <td>125.5070</td>\n",
       "      <td>33353.0</td>\n",
       "      <td>2016-12-30</td>\n",
       "      <td>15:54:00</td>\n",
       "      <td>-0.000302</td>\n",
       "      <td>9.116149e-08</td>\n",
       "      <td>0.274200</td>\n",
       "      <td>0.523641</td>\n",
       "      <td>0.523641</td>\n",
       "    </tr>\n",
       "    <tr>\n",
       "      <th>670940</th>\n",
       "      <td>2016-12-30 15:55:00</td>\n",
       "      <td>125.5070</td>\n",
       "      <td>125.6738</td>\n",
       "      <td>125.5070</td>\n",
       "      <td>125.6662</td>\n",
       "      <td>28027.0</td>\n",
       "      <td>2016-12-30</td>\n",
       "      <td>15:55:00</td>\n",
       "      <td>0.001268</td>\n",
       "      <td>1.606940e-06</td>\n",
       "      <td>0.274202</td>\n",
       "      <td>0.523643</td>\n",
       "      <td>0.523641</td>\n",
       "    </tr>\n",
       "  </tbody>\n",
       "</table>\n",
       "<p>670560 rows × 13 columns</p>\n",
       "</div>"
      ],
      "text/plain": [
       "                 Date Time      Open      High       Low     Close   Volume  \\\n",
       "381    2010-01-06 09:35:00   84.8775   84.9228   84.6767   84.6897  46663.0   \n",
       "382    2010-01-06 09:36:00   84.6962   84.8257   84.6897   84.7868  26449.0   \n",
       "383    2010-01-06 09:37:00   84.7998   84.8580   84.7868   84.8127  15784.0   \n",
       "384    2010-01-06 09:38:00   84.8127   84.8257   84.7156   84.7350  29916.0   \n",
       "385    2010-01-06 09:39:00   84.7544   84.7577   84.7156   84.7285  30572.0   \n",
       "...                    ...       ...       ...       ...       ...      ...   \n",
       "670936 2016-12-30 15:51:00  125.5979  125.5979  125.5525  125.5600  15253.0   \n",
       "670937 2016-12-30 15:52:00  125.5600  125.5828  125.5525  125.5600  17724.0   \n",
       "670938 2016-12-30 15:53:00  125.5600  125.5676  125.5373  125.5449  13706.0   \n",
       "670939 2016-12-30 15:54:00  125.5525  125.5828  125.4918  125.5070  33353.0   \n",
       "670940 2016-12-30 15:55:00  125.5070  125.6738  125.5070  125.6662  28027.0   \n",
       "\n",
       "              Date      Time  Log_Returns  log_return_squared  realized_var  \\\n",
       "381     2010-01-06  09:35:00    -0.000382        1.463062e-07      0.000209   \n",
       "382     2010-01-06  09:36:00     0.001146        1.313045e-06      0.000211   \n",
       "383     2010-01-06  09:37:00     0.000305        9.328469e-08      0.000211   \n",
       "384     2010-01-06  09:38:00    -0.000917        8.400754e-07      0.000212   \n",
       "385     2010-01-06  09:39:00    -0.000077        5.884836e-09      0.000212   \n",
       "...            ...       ...          ...                 ...           ...   \n",
       "670936  2016-12-30  15:51:00    -0.000332        1.102619e-07      0.274200   \n",
       "670937  2016-12-30  15:52:00     0.000000        0.000000e+00      0.274200   \n",
       "670938  2016-12-30  15:53:00    -0.000120        1.446450e-08      0.274200   \n",
       "670939  2016-12-30  15:54:00    -0.000302        9.116149e-08      0.274200   \n",
       "670940  2016-12-30  15:55:00     0.001268        1.606940e-06      0.274202   \n",
       "\n",
       "        realized_vol  forward_RV  \n",
       "381         0.014469    0.014463  \n",
       "382         0.014514    0.014469  \n",
       "383         0.014517    0.014514  \n",
       "384         0.014546    0.014517  \n",
       "385         0.014546    0.014546  \n",
       "...              ...         ...  \n",
       "670936      0.523641    0.523641  \n",
       "670937      0.523641    0.523641  \n",
       "670938      0.523641    0.523641  \n",
       "670939      0.523641    0.523641  \n",
       "670940      0.523643    0.523641  \n",
       "\n",
       "[670560 rows x 13 columns]"
      ]
     },
     "execution_count": 25,
     "metadata": {},
     "output_type": "execute_result"
    }
   ],
   "source": [
    "ibm_train_split"
   ]
  },
  {
   "cell_type": "code",
   "execution_count": 562,
   "id": "24613e31-e8e7-4a36-bb91-893a3a4f9a8b",
   "metadata": {},
   "outputs": [],
   "source": [
    "ibm_train_split.set_index('Date Time', inplace=True)"
   ]
  },
  {
   "cell_type": "code",
   "execution_count": 31,
   "id": "90b5bcb1-442f-4d82-b605-9f4e892d125f",
   "metadata": {},
   "outputs": [],
   "source": [
    "ibm_train_split_small = ibm_train_split[:381*35]"
   ]
  },
  {
   "cell_type": "markdown",
   "id": "d7a1550a-e055-4173-8198-fc6f0f3c3dd7",
   "metadata": {},
   "source": [
    "# Subsequences"
   ]
  },
  {
   "cell_type": "code",
   "execution_count": null,
   "id": "1e210a63",
   "metadata": {},
   "outputs": [],
   "source": [
    " def subsequence(df, length, start = 0):\n",
    "        last_possible_start = len(df) - length\n",
    "        X = df[start:start + length]\n",
    "        y = df[\"poll\"][(start + length ) : (start + length + 7)]\n",
    "\n",
    "        return X, y\n",
    "\n",
    "    # Creates a list of subsequences\n",
    "    def multiple_subsequences(df, length):\n",
    "\n",
    "        list_of_X = []\n",
    "        list_of_y = []\n",
    "\n",
    "        number_of_subsequences = round(len(df) /  7 - (length/7))\n",
    "        print(number_of_subsequences)\n",
    "        start = 0\n",
    "        for num in range(number_of_subsequences):\n",
    "            temporary_X, temporary_y = subsequence(df, length, start)\n",
    "            list_of_X.append(temporary_X)\n",
    "            list_of_y.append(temporary_y)\n",
    "            start = start + 7\n",
    "\n",
    "        return list_of_X, list_of_y\n",
    "\n",
    "    # Creating subsequences of lenght specifided (28 / 7parties = 4 days)\n",
    "    X_train , y_train = multiple_subsequences(pd.DataFrame(df_train_scaled), 21 )\n",
    "\n",
    "    # Transforn to array to fit model\n",
    "    X_train = np.array(X_train)\n",
    "    y_train = np.array(y_train)\n",
    "\n",
    "    return X_train, y_train\n",
    "\n"
   ]
  },
  {
   "cell_type": "code",
   "execution_count": 581,
   "id": "3fbbb440-bdf5-4676-aa30-22db6bea8248",
   "metadata": {},
   "outputs": [],
   "source": [
    "a = np.array([[[380, 250, 0], [380, 250, 0],[380, 250, 0],[380, 250, 0],[380, 250, 0]]])\n",
    "b = np.array([[[380, 250, 0], [380, 250, 0],[380, 250, 0],[380, 250, 0],[380, 250, 0]]])"
   ]
  },
  {
   "cell_type": "code",
   "execution_count": 582,
   "id": "19010c9e",
   "metadata": {},
   "outputs": [
    {
     "data": {
      "text/plain": [
       "(1, 5, 3)"
      ]
     },
     "execution_count": 582,
     "metadata": {},
     "output_type": "execute_result"
    }
   ],
   "source": [
    "b.shape"
   ]
  },
  {
   "cell_type": "code",
   "execution_count": 30,
   "id": "056c7c03-7ad7-4e5c-a4a0-7dffe7f3d9ea",
   "metadata": {},
   "outputs": [],
   "source": [
    "ibm_train_split.set_index(\"Date Time\", drop=True, inplace=True)"
   ]
  },
  {
   "cell_type": "code",
   "execution_count": 36,
   "id": "fcd57644-712d-4dc6-b163-207e48da8dfb",
   "metadata": {},
   "outputs": [
    {
     "data": {
      "text/html": [
       "<div>\n",
       "<style scoped>\n",
       "    .dataframe tbody tr th:only-of-type {\n",
       "        vertical-align: middle;\n",
       "    }\n",
       "\n",
       "    .dataframe tbody tr th {\n",
       "        vertical-align: top;\n",
       "    }\n",
       "\n",
       "    .dataframe thead th {\n",
       "        text-align: right;\n",
       "    }\n",
       "</style>\n",
       "<table border=\"1\" class=\"dataframe\">\n",
       "  <thead>\n",
       "    <tr style=\"text-align: right;\">\n",
       "      <th></th>\n",
       "      <th>Open</th>\n",
       "      <th>High</th>\n",
       "      <th>Low</th>\n",
       "      <th>Close</th>\n",
       "      <th>Volume</th>\n",
       "      <th>Date</th>\n",
       "      <th>Time</th>\n",
       "      <th>Log_Returns</th>\n",
       "      <th>log_return_squared</th>\n",
       "      <th>realized_var</th>\n",
       "      <th>realized_vol</th>\n",
       "      <th>forward_RV</th>\n",
       "    </tr>\n",
       "    <tr>\n",
       "      <th>Date Time</th>\n",
       "      <th></th>\n",
       "      <th></th>\n",
       "      <th></th>\n",
       "      <th></th>\n",
       "      <th></th>\n",
       "      <th></th>\n",
       "      <th></th>\n",
       "      <th></th>\n",
       "      <th></th>\n",
       "      <th></th>\n",
       "      <th></th>\n",
       "      <th></th>\n",
       "    </tr>\n",
       "  </thead>\n",
       "  <tbody>\n",
       "    <tr>\n",
       "      <th>2010-01-06 09:35:00</th>\n",
       "      <td>84.8775</td>\n",
       "      <td>84.9228</td>\n",
       "      <td>84.6767</td>\n",
       "      <td>84.6897</td>\n",
       "      <td>46663.0</td>\n",
       "      <td>2010-01-06</td>\n",
       "      <td>09:35:00</td>\n",
       "      <td>-0.000382</td>\n",
       "      <td>1.463062e-07</td>\n",
       "      <td>0.000209</td>\n",
       "      <td>0.014469</td>\n",
       "      <td>0.014463</td>\n",
       "    </tr>\n",
       "    <tr>\n",
       "      <th>2010-01-06 09:36:00</th>\n",
       "      <td>84.6962</td>\n",
       "      <td>84.8257</td>\n",
       "      <td>84.6897</td>\n",
       "      <td>84.7868</td>\n",
       "      <td>26449.0</td>\n",
       "      <td>2010-01-06</td>\n",
       "      <td>09:36:00</td>\n",
       "      <td>0.001146</td>\n",
       "      <td>1.313045e-06</td>\n",
       "      <td>0.000211</td>\n",
       "      <td>0.014514</td>\n",
       "      <td>0.014469</td>\n",
       "    </tr>\n",
       "    <tr>\n",
       "      <th>2010-01-06 09:37:00</th>\n",
       "      <td>84.7998</td>\n",
       "      <td>84.8580</td>\n",
       "      <td>84.7868</td>\n",
       "      <td>84.8127</td>\n",
       "      <td>15784.0</td>\n",
       "      <td>2010-01-06</td>\n",
       "      <td>09:37:00</td>\n",
       "      <td>0.000305</td>\n",
       "      <td>9.328469e-08</td>\n",
       "      <td>0.000211</td>\n",
       "      <td>0.014517</td>\n",
       "      <td>0.014514</td>\n",
       "    </tr>\n",
       "    <tr>\n",
       "      <th>2010-01-06 09:38:00</th>\n",
       "      <td>84.8127</td>\n",
       "      <td>84.8257</td>\n",
       "      <td>84.7156</td>\n",
       "      <td>84.7350</td>\n",
       "      <td>29916.0</td>\n",
       "      <td>2010-01-06</td>\n",
       "      <td>09:38:00</td>\n",
       "      <td>-0.000917</td>\n",
       "      <td>8.400754e-07</td>\n",
       "      <td>0.000212</td>\n",
       "      <td>0.014546</td>\n",
       "      <td>0.014517</td>\n",
       "    </tr>\n",
       "    <tr>\n",
       "      <th>2010-01-06 09:39:00</th>\n",
       "      <td>84.7544</td>\n",
       "      <td>84.7577</td>\n",
       "      <td>84.7156</td>\n",
       "      <td>84.7285</td>\n",
       "      <td>30572.0</td>\n",
       "      <td>2010-01-06</td>\n",
       "      <td>09:39:00</td>\n",
       "      <td>-0.000077</td>\n",
       "      <td>5.884836e-09</td>\n",
       "      <td>0.000212</td>\n",
       "      <td>0.014546</td>\n",
       "      <td>0.014546</td>\n",
       "    </tr>\n",
       "    <tr>\n",
       "      <th>...</th>\n",
       "      <td>...</td>\n",
       "      <td>...</td>\n",
       "      <td>...</td>\n",
       "      <td>...</td>\n",
       "      <td>...</td>\n",
       "      <td>...</td>\n",
       "      <td>...</td>\n",
       "      <td>...</td>\n",
       "      <td>...</td>\n",
       "      <td>...</td>\n",
       "      <td>...</td>\n",
       "      <td>...</td>\n",
       "    </tr>\n",
       "    <tr>\n",
       "      <th>2010-02-25 15:51:00</th>\n",
       "      <td>82.6133</td>\n",
       "      <td>82.6263</td>\n",
       "      <td>82.5873</td>\n",
       "      <td>82.6068</td>\n",
       "      <td>23428.0</td>\n",
       "      <td>2010-02-25</td>\n",
       "      <td>15:51:00</td>\n",
       "      <td>0.000000</td>\n",
       "      <td>0.000000e+00</td>\n",
       "      <td>0.005295</td>\n",
       "      <td>0.072764</td>\n",
       "      <td>0.072764</td>\n",
       "    </tr>\n",
       "    <tr>\n",
       "      <th>2010-02-25 15:52:00</th>\n",
       "      <td>82.6068</td>\n",
       "      <td>82.6068</td>\n",
       "      <td>82.5482</td>\n",
       "      <td>82.5873</td>\n",
       "      <td>40995.0</td>\n",
       "      <td>2010-02-25</td>\n",
       "      <td>15:52:00</td>\n",
       "      <td>-0.000236</td>\n",
       "      <td>5.573656e-08</td>\n",
       "      <td>0.005295</td>\n",
       "      <td>0.072765</td>\n",
       "      <td>0.072764</td>\n",
       "    </tr>\n",
       "    <tr>\n",
       "      <th>2010-02-25 15:53:00</th>\n",
       "      <td>82.5808</td>\n",
       "      <td>82.5873</td>\n",
       "      <td>82.5027</td>\n",
       "      <td>82.5157</td>\n",
       "      <td>29337.0</td>\n",
       "      <td>2010-02-25</td>\n",
       "      <td>15:53:00</td>\n",
       "      <td>-0.000867</td>\n",
       "      <td>7.522742e-07</td>\n",
       "      <td>0.005295</td>\n",
       "      <td>0.072770</td>\n",
       "      <td>0.072765</td>\n",
       "    </tr>\n",
       "    <tr>\n",
       "      <th>2010-02-25 15:54:00</th>\n",
       "      <td>82.5157</td>\n",
       "      <td>82.6068</td>\n",
       "      <td>82.5027</td>\n",
       "      <td>82.5938</td>\n",
       "      <td>36123.0</td>\n",
       "      <td>2010-02-25</td>\n",
       "      <td>15:54:00</td>\n",
       "      <td>0.000946</td>\n",
       "      <td>8.949896e-07</td>\n",
       "      <td>0.005296</td>\n",
       "      <td>0.072776</td>\n",
       "      <td>0.072770</td>\n",
       "    </tr>\n",
       "    <tr>\n",
       "      <th>2010-02-25 15:55:00</th>\n",
       "      <td>82.5873</td>\n",
       "      <td>82.5905</td>\n",
       "      <td>82.5482</td>\n",
       "      <td>82.5547</td>\n",
       "      <td>10954.0</td>\n",
       "      <td>2010-02-25</td>\n",
       "      <td>15:55:00</td>\n",
       "      <td>-0.000474</td>\n",
       "      <td>2.242148e-07</td>\n",
       "      <td>0.005297</td>\n",
       "      <td>0.072777</td>\n",
       "      <td>0.072776</td>\n",
       "    </tr>\n",
       "  </tbody>\n",
       "</table>\n",
       "<p>13335 rows × 12 columns</p>\n",
       "</div>"
      ],
      "text/plain": [
       "                        Open     High      Low    Close   Volume        Date  \\\n",
       "Date Time                                                                      \n",
       "2010-01-06 09:35:00  84.8775  84.9228  84.6767  84.6897  46663.0  2010-01-06   \n",
       "2010-01-06 09:36:00  84.6962  84.8257  84.6897  84.7868  26449.0  2010-01-06   \n",
       "2010-01-06 09:37:00  84.7998  84.8580  84.7868  84.8127  15784.0  2010-01-06   \n",
       "2010-01-06 09:38:00  84.8127  84.8257  84.7156  84.7350  29916.0  2010-01-06   \n",
       "2010-01-06 09:39:00  84.7544  84.7577  84.7156  84.7285  30572.0  2010-01-06   \n",
       "...                      ...      ...      ...      ...      ...         ...   \n",
       "2010-02-25 15:51:00  82.6133  82.6263  82.5873  82.6068  23428.0  2010-02-25   \n",
       "2010-02-25 15:52:00  82.6068  82.6068  82.5482  82.5873  40995.0  2010-02-25   \n",
       "2010-02-25 15:53:00  82.5808  82.5873  82.5027  82.5157  29337.0  2010-02-25   \n",
       "2010-02-25 15:54:00  82.5157  82.6068  82.5027  82.5938  36123.0  2010-02-25   \n",
       "2010-02-25 15:55:00  82.5873  82.5905  82.5482  82.5547  10954.0  2010-02-25   \n",
       "\n",
       "                         Time  Log_Returns  log_return_squared  realized_var  \\\n",
       "Date Time                                                                      \n",
       "2010-01-06 09:35:00  09:35:00    -0.000382        1.463062e-07      0.000209   \n",
       "2010-01-06 09:36:00  09:36:00     0.001146        1.313045e-06      0.000211   \n",
       "2010-01-06 09:37:00  09:37:00     0.000305        9.328469e-08      0.000211   \n",
       "2010-01-06 09:38:00  09:38:00    -0.000917        8.400754e-07      0.000212   \n",
       "2010-01-06 09:39:00  09:39:00    -0.000077        5.884836e-09      0.000212   \n",
       "...                       ...          ...                 ...           ...   \n",
       "2010-02-25 15:51:00  15:51:00     0.000000        0.000000e+00      0.005295   \n",
       "2010-02-25 15:52:00  15:52:00    -0.000236        5.573656e-08      0.005295   \n",
       "2010-02-25 15:53:00  15:53:00    -0.000867        7.522742e-07      0.005295   \n",
       "2010-02-25 15:54:00  15:54:00     0.000946        8.949896e-07      0.005296   \n",
       "2010-02-25 15:55:00  15:55:00    -0.000474        2.242148e-07      0.005297   \n",
       "\n",
       "                     realized_vol  forward_RV  \n",
       "Date Time                                      \n",
       "2010-01-06 09:35:00      0.014469    0.014463  \n",
       "2010-01-06 09:36:00      0.014514    0.014469  \n",
       "2010-01-06 09:37:00      0.014517    0.014514  \n",
       "2010-01-06 09:38:00      0.014546    0.014517  \n",
       "2010-01-06 09:39:00      0.014546    0.014546  \n",
       "...                           ...         ...  \n",
       "2010-02-25 15:51:00      0.072764    0.072764  \n",
       "2010-02-25 15:52:00      0.072765    0.072764  \n",
       "2010-02-25 15:53:00      0.072770    0.072765  \n",
       "2010-02-25 15:54:00      0.072776    0.072770  \n",
       "2010-02-25 15:55:00      0.072777    0.072776  \n",
       "\n",
       "[13335 rows x 12 columns]"
      ]
     },
     "execution_count": 36,
     "metadata": {},
     "output_type": "execute_result"
    }
   ],
   "source": [
    "ibm_train_split_small"
   ]
  },
  {
   "cell_type": "code",
   "execution_count": 48,
   "id": "118967a9",
   "metadata": {},
   "outputs": [],
   "source": [
    "subsequences = []\n",
    "\n",
    "# Iterate over each 30-day subsequence\n",
    "for i in range(len(ibm_train_split_small) - 21 * 381 + 1):\n",
    "    # Select the next 30 days of data\n",
    "    subsequence = ibm_train_split_small.iloc[i:i + 21 * 381]\n",
    "\n",
    "    # Check if the subsequence has 30 days of data\n",
    "    if len(subsequence) == 21 * 381:  # Assuming 381 rows for each day\n",
    "        subsequences.append(subsequence)\n",
    "\n",
    "# Concatenate the subsequences into a single DataFrame\n",
    "result = pd.concat(subsequences)"
   ]
  },
  {
   "cell_type": "code",
   "execution_count": 69,
   "id": "b03652cc-24fa-482c-bf9b-adae15106d34",
   "metadata": {},
   "outputs": [
    {
     "data": {
      "text/plain": [
       "(13335, 12)"
      ]
     },
     "execution_count": 69,
     "metadata": {},
     "output_type": "execute_result"
    }
   ],
   "source": [
    "ibm_train_split_small.shape"
   ]
  },
  {
   "cell_type": "code",
   "execution_count": 78,
   "id": "4896e7fc-11b8-447b-99e4-2407d6d2f201",
   "metadata": {},
   "outputs": [],
   "source": [
    "ibm_train_split_small_2 = ibm_train_split_small[[\"realized_vol\", \"forward_RV\"]]"
   ]
  },
  {
   "cell_type": "code",
   "execution_count": 138,
   "id": "564c3a66-881f-4e82-b7dc-77f02fb5f490",
   "metadata": {},
   "outputs": [
    {
     "data": {
      "text/plain": [
       "[<matplotlib.lines.Line2D at 0x31c5df400>]"
      ]
     },
     "execution_count": 138,
     "metadata": {},
     "output_type": "execute_result"
    },
    {
     "data": {
      "image/png": "[encoded data removed]",
      "text/plain": [
       "<Figure size 640x480 with 1 Axes>"
      ]
     },
     "metadata": {},
     "output_type": "display_data"
    }
   ],
   "source": [
    "plt.plot(ibm_train_split_small_2[\"forward_RV\"])"
   ]
  },
  {
   "cell_type": "code",
   "execution_count": 114,
   "id": "91961a10-8f4b-417a-a00b-a2df8a9eae7b",
   "metadata": {},
   "outputs": [
    {
     "name": "stdout",
     "output_type": "stream",
     "text": [
      "(8001, 2)\n",
      "(8001, 2)\n",
      "(8001, 2)\n",
      "(8001, 2)\n",
      "(8001, 2)\n",
      "(8001, 2)\n",
      "(8001, 2)\n",
      "(8001, 2)\n",
      "(8001, 2)\n",
      "(8001, 2)\n",
      "(8001, 2)\n",
      "(8001, 2)\n",
      "(8001, 2)\n",
      "(8001, 2)\n",
      "(8001, 2)\n"
     ]
    }
   ],
   "source": [
    "subsequences = []\n",
    "\n",
    "for i in range(int(len(ibm_train_split_small_2)/381-20)):\n",
    "    subsequence = ibm_train_split_small_2.iloc[i * 381: (21 + i) * 381]\n",
    "\n",
    "    subsequences.append(subsequence)"
   ]
  },
  {
   "cell_type": "code",
   "execution_count": 140,
   "id": "c5abd99a-09c6-4b50-bc3e-24f506e411ba",
   "metadata": {},
   "outputs": [
    {
     "data": {
      "text/plain": [
       "15"
      ]
     },
     "execution_count": 140,
     "metadata": {},
     "output_type": "execute_result"
    }
   ],
   "source": [
    "len(subsequences)"
   ]
  },
  {
   "cell_type": "code",
   "execution_count": null,
   "id": "62649c2d-b0e0-47f8-8caa-e39ec5736e6b",
   "metadata": {},
   "outputs": [],
   "source": [
    "subsequences[0]"
   ]
  },
  {
   "cell_type": "code",
   "execution_count": 143,
   "id": "7dbbf898-0aae-44c5-aa77-b8cd0b80dcd0",
   "metadata": {},
   "outputs": [
    {
     "data": {
      "text/plain": [
       "21.0"
      ]
     },
     "execution_count": 143,
     "metadata": {},
     "output_type": "execute_result"
    }
   ],
   "source": [
    "len(subsequences[0])/381"
   ]
  },
  {
   "cell_type": "code",
   "execution_count": 199,
   "id": "9803beb0-a91b-4720-a999-3577c597234d",
   "metadata": {},
   "outputs": [],
   "source": [
    "a = np.array([[230, 102, 0], [230, 102, 0],[230, 102, 0],[230, 102, 0],[230, 102, 0]])\n",
    "b = np.array([[230, 102, 0], [230, 102, 0],[230, 102, 0],[230, 102, 0],[230, 102, 0]])"
   ]
  },
  {
   "cell_type": "code",
   "execution_count": 193,
   "id": "581cb919-bd0c-4b6c-a053-0e9866eb2ea8",
   "metadata": {},
   "outputs": [
    {
     "data": {
      "text/plain": [
       "(5, 3)"
      ]
     },
     "execution_count": 193,
     "metadata": {},
     "output_type": "execute_result"
    }
   ],
   "source": [
    "a.shape"
   ]
  },
  {
   "cell_type": "code",
   "execution_count": 200,
   "id": "e03a5d96-8841-4f2a-a925-ce9cca3a0c96",
   "metadata": {},
   "outputs": [],
   "source": [
    "tmp = np.append(a,b)"
   ]
  },
  {
   "cell_type": "code",
   "execution_count": 202,
   "id": "4a0c3afd-016c-4c06-9526-8d691b1bd905",
   "metadata": {},
   "outputs": [
    {
     "data": {
      "text/plain": [
       "array([[[230, 102,   0],\n",
       "        [230, 102,   0],\n",
       "        [230, 102,   0],\n",
       "        [230, 102,   0],\n",
       "        [230, 102,   0]],\n",
       "\n",
       "       [[230, 102,   0],\n",
       "        [230, 102,   0],\n",
       "        [230, 102,   0],\n",
       "        [230, 102,   0],\n",
       "        [230, 102,   0]]])"
      ]
     },
     "execution_count": 202,
     "metadata": {},
     "output_type": "execute_result"
    }
   ],
   "source": [
    "np.reshape(tmp, (2,5,3))"
   ]
  },
  {
   "cell_type": "code",
   "execution_count": 183,
   "id": "e1aa908f-ff2c-43dc-bcc7-995848da4a02",
   "metadata": {},
   "outputs": [
    {
     "ename": "ValueError",
     "evalue": "all input arrays must have the same shape",
     "output_type": "error",
     "traceback": [
      "\u001b[0;31m---------------------------------------------------------------------------\u001b[0m",
      "\u001b[0;31mValueError\u001b[0m                                Traceback (most recent call last)",
      "Cell \u001b[0;32mIn[183], line 1\u001b[0m\n\u001b[0;32m----> 1\u001b[0m c \u001b[38;5;241m=\u001b[39m \u001b[43mnp\u001b[49m\u001b[38;5;241;43m.\u001b[39;49m\u001b[43mstack\u001b[49m\u001b[43m(\u001b[49m\u001b[43m[\u001b[49m\u001b[43ma\u001b[49m\u001b[43m,\u001b[49m\u001b[43mb\u001b[49m\u001b[43m]\u001b[49m\u001b[43m)\u001b[49m\n",
      "File \u001b[0;32m~/Library/Python/3.9/lib/python/site-packages/numpy/core/shape_base.py:449\u001b[0m, in \u001b[0;36mstack\u001b[0;34m(arrays, axis, out, dtype, casting)\u001b[0m\n\u001b[1;32m    447\u001b[0m shapes \u001b[38;5;241m=\u001b[39m {arr\u001b[38;5;241m.\u001b[39mshape \u001b[38;5;28;01mfor\u001b[39;00m arr \u001b[38;5;129;01min\u001b[39;00m arrays}\n\u001b[1;32m    448\u001b[0m \u001b[38;5;28;01mif\u001b[39;00m \u001b[38;5;28mlen\u001b[39m(shapes) \u001b[38;5;241m!=\u001b[39m \u001b[38;5;241m1\u001b[39m:\n\u001b[0;32m--> 449\u001b[0m     \u001b[38;5;28;01mraise\u001b[39;00m \u001b[38;5;167;01mValueError\u001b[39;00m(\u001b[38;5;124m'\u001b[39m\u001b[38;5;124mall input arrays must have the same shape\u001b[39m\u001b[38;5;124m'\u001b[39m)\n\u001b[1;32m    451\u001b[0m result_ndim \u001b[38;5;241m=\u001b[39m arrays[\u001b[38;5;241m0\u001b[39m]\u001b[38;5;241m.\u001b[39mndim \u001b[38;5;241m+\u001b[39m \u001b[38;5;241m1\u001b[39m\n\u001b[1;32m    452\u001b[0m axis \u001b[38;5;241m=\u001b[39m normalize_axis_index(axis, result_ndim)\n",
      "\u001b[0;31mValueError\u001b[0m: all input arrays must have the same shape"
     ]
    }
   ],
   "source": [
    "c = np.stack([a,b])"
   ]
  },
  {
   "cell_type": "code",
   "execution_count": 186,
   "id": "e947f38d-3eda-404c-9025-dfdb7226d8b6",
   "metadata": {},
   "outputs": [
    {
     "data": {
      "text/plain": [
       "(2, 5, 3)"
      ]
     },
     "execution_count": 186,
     "metadata": {},
     "output_type": "execute_result"
    }
   ],
   "source": [
    "c.shape"
   ]
  },
  {
   "cell_type": "code",
   "execution_count": 187,
   "id": "656a739a-18c0-45ca-b52d-93d873c8b7e1",
   "metadata": {},
   "outputs": [
    {
     "ename": "ValueError",
     "evalue": "all input arrays must have the same shape",
     "output_type": "error",
     "traceback": [
      "\u001b[0;31m---------------------------------------------------------------------------\u001b[0m",
      "\u001b[0;31mValueError\u001b[0m                                Traceback (most recent call last)",
      "Cell \u001b[0;32mIn[187], line 1\u001b[0m\n\u001b[0;32m----> 1\u001b[0m c \u001b[38;5;241m=\u001b[39m \u001b[43mnp\u001b[49m\u001b[38;5;241;43m.\u001b[39;49m\u001b[43mstack\u001b[49m\u001b[43m(\u001b[49m\u001b[43m[\u001b[49m\u001b[43mc\u001b[49m\u001b[43m,\u001b[49m\u001b[43m \u001b[49m\u001b[43mb\u001b[49m\u001b[43m]\u001b[49m\u001b[43m)\u001b[49m\n",
      "File \u001b[0;32m~/Library/Python/3.9/lib/python/site-packages/numpy/core/shape_base.py:449\u001b[0m, in \u001b[0;36mstack\u001b[0;34m(arrays, axis, out, dtype, casting)\u001b[0m\n\u001b[1;32m    447\u001b[0m shapes \u001b[38;5;241m=\u001b[39m {arr\u001b[38;5;241m.\u001b[39mshape \u001b[38;5;28;01mfor\u001b[39;00m arr \u001b[38;5;129;01min\u001b[39;00m arrays}\n\u001b[1;32m    448\u001b[0m \u001b[38;5;28;01mif\u001b[39;00m \u001b[38;5;28mlen\u001b[39m(shapes) \u001b[38;5;241m!=\u001b[39m \u001b[38;5;241m1\u001b[39m:\n\u001b[0;32m--> 449\u001b[0m     \u001b[38;5;28;01mraise\u001b[39;00m \u001b[38;5;167;01mValueError\u001b[39;00m(\u001b[38;5;124m'\u001b[39m\u001b[38;5;124mall input arrays must have the same shape\u001b[39m\u001b[38;5;124m'\u001b[39m)\n\u001b[1;32m    451\u001b[0m result_ndim \u001b[38;5;241m=\u001b[39m arrays[\u001b[38;5;241m0\u001b[39m]\u001b[38;5;241m.\u001b[39mndim \u001b[38;5;241m+\u001b[39m \u001b[38;5;241m1\u001b[39m\n\u001b[1;32m    452\u001b[0m axis \u001b[38;5;241m=\u001b[39m normalize_axis_index(axis, result_ndim)\n",
      "\u001b[0;31mValueError\u001b[0m: all input arrays must have the same shape"
     ]
    }
   ],
   "source": [
    "c = np.stack([c, b])"
   ]
  },
  {
   "cell_type": "code",
   "execution_count": 156,
   "id": "4f45bf9d-f395-4e40-88e0-38f0d8991063",
   "metadata": {},
   "outputs": [
    {
     "ename": "TypeError",
     "evalue": "array() missing required argument 'object' (pos 0)",
     "output_type": "error",
     "traceback": [
      "\u001b[0;31m---------------------------------------------------------------------------\u001b[0m",
      "\u001b[0;31mTypeError\u001b[0m                                 Traceback (most recent call last)",
      "Cell \u001b[0;32mIn[156], line 1\u001b[0m\n\u001b[0;32m----> 1\u001b[0m u \u001b[38;5;241m=\u001b[39m \u001b[43mnp\u001b[49m\u001b[38;5;241;43m.\u001b[39;49m\u001b[43marray\u001b[49m\u001b[43m(\u001b[49m\u001b[43m)\u001b[49m\n",
      "\u001b[0;31mTypeError\u001b[0m: array() missing required argument 'object' (pos 0)"
     ]
    }
   ],
   "source": [
    "u = np.zer()"
   ]
  },
  {
   "cell_type": "code",
   "execution_count": 207,
   "id": "5f9d523c-eda4-4e5e-900d-f3ed07162be9",
   "metadata": {},
   "outputs": [],
   "source": [
    "tmp = np.array([1,2,3,4,5,6,7,8,9,10,11,12])"
   ]
  },
  {
   "cell_type": "code",
   "execution_count": 208,
   "id": "ee10bc2f-6e37-4f50-acf8-78b4abe3e603",
   "metadata": {},
   "outputs": [
    {
     "data": {
      "text/plain": [
       "(12,)"
      ]
     },
     "execution_count": 208,
     "metadata": {},
     "output_type": "execute_result"
    }
   ],
   "source": [
    "tmp.shape"
   ]
  },
  {
   "cell_type": "code",
   "execution_count": 210,
   "id": "234849a8-7040-47c2-94ad-c3495b95f796",
   "metadata": {},
   "outputs": [
    {
     "data": {
      "text/plain": [
       "array([[[ 1,  2,  3],\n",
       "        [ 4,  5,  6]],\n",
       "\n",
       "       [[ 7,  8,  9],\n",
       "        [10, 11, 12]]])"
      ]
     },
     "execution_count": 210,
     "metadata": {},
     "output_type": "execute_result"
    }
   ],
   "source": []
  },
  {
   "cell_type": "code",
   "execution_count": 229,
   "id": "e8f6fbf4-7c13-4244-a2c1-f315dd8731c3",
   "metadata": {},
   "outputs": [],
   "source": [
    "def image_from_subsequence(sequence, sequence_index):\n",
    "\n",
    "    image = sequence[sequence_index].iloc[:381][\"realized_vol\"]\n",
    "\n",
    "    for i in range(1,int(len(subsequences[0])/381)-1):\n",
    "        \n",
    "        tmp_array = np.array([sequence[sequence_index].iloc[i*381:381*(1+i)][\"realized_vol\"]])\n",
    "        \n",
    "        image = np.append(image, tmp_array)\n",
    "        \n",
    "\n",
    "    image = np.reshape(image, [20,381])\n",
    "    \n",
    "    return image"
   ]
  },
  {
   "cell_type": "code",
   "execution_count": 230,
   "id": "5d8acda9-e97f-4c61-9718-c709ff1efd0f",
   "metadata": {},
   "outputs": [],
   "source": [
    "tmp_image = image_from_subsequence(subsequences, 0)"
   ]
  },
  {
   "cell_type": "code",
   "execution_count": 231,
   "id": "d6f885eb-1129-449d-b063-dc54e6cf8f63",
   "metadata": {},
   "outputs": [
    {
     "data": {
      "text/plain": [
       "(20, 381)"
      ]
     },
     "execution_count": 231,
     "metadata": {},
     "output_type": "execute_result"
    }
   ],
   "source": [
    "tmp_image.shape"
   ]
  },
  {
   "cell_type": "code",
   "execution_count": 264,
   "id": "a674da08-847f-49f1-b2cd-31717246f02e",
   "metadata": {},
   "outputs": [],
   "source": [
    "image_list = []\n",
    "for n in range(3):\n",
    "    \n",
    "    image = image_from_subsequence(subsequences, n)\n",
    "    \n",
    "    image_list.append(image)"
   ]
  },
  {
   "cell_type": "code",
   "execution_count": null,
   "id": "ef81d9bb-c3a6-4620-90d0-fcc40169d9a1",
   "metadata": {},
   "outputs": [],
   "source": []
  },
  {
   "cell_type": "code",
   "execution_count": 127,
   "id": "d8ec24af-d1d4-4237-af0e-655cdc4271b4",
   "metadata": {},
   "outputs": [],
   "source": [
    "pre_scale = np.reshape(tmp, (-1,1))\n",
    "    \n",
    "mm_scaler_x = MinMaxScaler(feature_range=(-255,255))\n",
    "scaled_daily_vol_dif = mm_scaler_x.fit_transform(pre_scale)"
   ]
  },
  {
   "cell_type": "code",
   "execution_count": 128,
   "id": "31af4ae2-5a5a-4579-95d8-7a36fc69af01",
   "metadata": {},
   "outputs": [
    {
     "data": {
      "text/plain": [
       "array([[-255.        ],\n",
       "       [-239.47228899],\n",
       "       [-238.3709733 ],\n",
       "       [-228.46403406],\n",
       "       [-228.39470412],\n",
       "       [-227.77697167],\n",
       "       [-223.37139417],\n",
       "       [-212.62501547],\n",
       "       [-207.66433551],\n",
       "       [-207.38756088],\n",
       "       [-201.84809215],\n",
       "       [-200.75286831],\n",
       "       [-200.48125133],\n",
       "       [-200.41228735],\n",
       "       [-200.13641978],\n",
       "       [-198.42357345],\n",
       "       [-188.90537725],\n",
       "       [-186.6138798 ],\n",
       "       [-181.08591702],\n",
       "       [-180.65954836],\n",
       "       [-179.82256053],\n",
       "       [-179.82256053],\n",
       "       [-179.3965271 ],\n",
       "       [-179.24384101],\n",
       "       [-178.63335248],\n",
       "       [-177.54600486],\n",
       "       [-176.45955543],\n",
       "       [-169.67132503],\n",
       "       [-169.60311633],\n",
       "       [-161.43188013],\n",
       "       [-160.82641264],\n",
       "       [-158.39444241],\n",
       "       [-157.56715542],\n",
       "       [-157.5507217 ],\n",
       "       [-157.48292483],\n",
       "       [-156.87270073],\n",
       "       [-149.47218242],\n",
       "       [-147.42581731],\n",
       "       [-145.74994941],\n",
       "       [-137.61835259],\n",
       "       [-137.35190851],\n",
       "       [-124.21360884],\n",
       "       [-121.80206305],\n",
       "       [-117.52933767],\n",
       "       [-117.26055088],\n",
       "       [-116.19363625],\n",
       "       [-113.71103536],\n",
       "       [-113.63081481],\n",
       "       [-113.0318431 ],\n",
       "       [-112.96459701],\n",
       "       [-110.55580321],\n",
       "       [-109.95673611],\n",
       "       [-109.68785746],\n",
       "       [-106.42635135],\n",
       "       [-103.16692663],\n",
       "       [-102.10165752],\n",
       "       [-102.03459606],\n",
       "       [-101.43743793],\n",
       "       [ -93.39581796],\n",
       "       [ -89.13836797],\n",
       "       [ -88.87432381],\n",
       "       [ -88.61029325],\n",
       "       [ -88.54324513],\n",
       "       [ -87.94584189],\n",
       "       [ -86.2788901 ],\n",
       "       [ -86.26815299],\n",
       "       [ -85.88662909],\n",
       "       [ -85.82159323],\n",
       "       [ -85.7544998 ],\n",
       "       [ -85.68739698],\n",
       "       [ -85.67113176],\n",
       "       [ -85.2543532 ],\n",
       "       [ -72.25211907],\n",
       "       [ -70.5927821 ],\n",
       "       [ -70.32563587],\n",
       "       [ -69.7309825 ],\n",
       "       [ -63.11801608],\n",
       "       [ -62.85097294],\n",
       "       [ -61.51244239],\n",
       "       [ -61.49522455],\n",
       "       [ -61.43045707],\n",
       "       [ -61.3636405 ],\n",
       "       [ -61.10049846],\n",
       "       [ -60.83335614],\n",
       "       [ -59.17517207],\n",
       "       [ -59.17517207],\n",
       "       [ -59.10846616],\n",
       "       [ -58.84575989],\n",
       "       [ -58.84575989],\n",
       "       [ -57.19867941],\n",
       "       [ -56.13984493],\n",
       "       [ -51.91054674],\n",
       "       [ -51.84401586],\n",
       "       [ -38.89130661],\n",
       "       [ -36.52086976],\n",
       "       [ -35.18782357],\n",
       "       [ -35.17171081],\n",
       "       [ -33.52073423],\n",
       "       [ -32.75980906],\n",
       "       [ -29.87867821],\n",
       "       [ -27.49978875],\n",
       "       [ -24.27867305],\n",
       "       [ -24.27867305],\n",
       "       [ -23.68830693],\n",
       "       [ -23.09800796],\n",
       "       [ -23.09800796],\n",
       "       [ -23.03175552],\n",
       "       [ -18.82299702],\n",
       "       [ -18.56189034],\n",
       "       [ -18.29665231],\n",
       "       [ -17.94824582],\n",
       "       [ -17.91647535],\n",
       "       [ -17.85019804],\n",
       "       [ -17.72313246],\n",
       "       [  -8.85088601],\n",
       "       [  -7.21363691],\n",
       "       [  -6.20870732],\n",
       "       [  -6.20814201],\n",
       "       [  -6.14179128],\n",
       "       [  -4.49399011],\n",
       "       [   2.09452618],\n",
       "       [   3.14677467],\n",
       "       [   6.36515167],\n",
       "       [   6.38121449],\n",
       "       [   6.79293328],\n",
       "       [   6.85922011],\n",
       "       [   8.50518232],\n",
       "       [  10.87707657],\n",
       "       [  10.87707657],\n",
       "       [  11.92900373],\n",
       "       [  12.98136289],\n",
       "       [  13.5720155 ],\n",
       "       [  13.83723941],\n",
       "       [  13.90353819],\n",
       "       [  13.96984631],\n",
       "       [  14.23505004],\n",
       "       [  15.88246532],\n",
       "       [  15.94878896],\n",
       "       [  16.53973902],\n",
       "       [  16.8051781 ],\n",
       "       [  20.029432  ],\n",
       "       [  29.51754534],\n",
       "       [  30.10913835],\n",
       "       [  30.32065396],\n",
       "       [  30.99388532],\n",
       "       [  31.05822509],\n",
       "       [  31.65566551],\n",
       "       [  31.92119319],\n",
       "       [  32.18670743],\n",
       "       [  32.77818163],\n",
       "       [  32.92609075],\n",
       "       [  34.9190392 ],\n",
       "       [  36.56929717],\n",
       "       [  36.56929717],\n",
       "       [  37.62348022],\n",
       "       [  38.17298372],\n",
       "       [  42.27600298],\n",
       "       [  43.92623151],\n",
       "       [  44.18792199],\n",
       "       [  44.18792199],\n",
       "       [  44.2523372 ],\n",
       "       [  46.63023662],\n",
       "       [  46.69657826],\n",
       "       [  50.910396  ],\n",
       "       [  53.28784342],\n",
       "       [  54.34159147],\n",
       "       [  54.40792771],\n",
       "       [  56.76978705],\n",
       "       [  57.00694105],\n",
       "       [  57.29677078],\n",
       "       [  57.39207854],\n",
       "       [  59.60510146],\n",
       "       [  60.65468052],\n",
       "       [  63.88108227],\n",
       "       [  63.94521771],\n",
       "       [  63.94521771],\n",
       "       [  64.01138234],\n",
       "       [  69.33551111],\n",
       "       [  69.40169976],\n",
       "       [  69.6664665 ],\n",
       "       [  69.93121998],\n",
       "       [  72.70801761],\n",
       "       [  72.72406358],\n",
       "       [  75.09352714],\n",
       "       [  77.46192965],\n",
       "       [  77.46192965],\n",
       "       [  77.526058  ],\n",
       "       [  79.50920762],\n",
       "       [  79.65632974],\n",
       "       [  82.86538228],\n",
       "       [  82.93147293],\n",
       "       [  83.16810912],\n",
       "       [  83.1686721 ],\n",
       "       [  89.72617865],\n",
       "       [  90.1355174 ],\n",
       "       [ 100.32571897],\n",
       "       [ 100.39137021],\n",
       "       [ 102.02280712],\n",
       "       [ 102.61372229],\n",
       "       [ 102.67936535],\n",
       "       [ 102.67936535],\n",
       "       [ 103.26425298],\n",
       "       [ 103.52286424],\n",
       "       [ 104.56473677],\n",
       "       [ 104.82706691],\n",
       "       [ 106.44535765],\n",
       "       [ 106.85212796],\n",
       "       [ 106.99794447],\n",
       "       [ 107.58137168],\n",
       "       [ 107.83933725],\n",
       "       [ 107.90481534],\n",
       "       [ 108.05063652],\n",
       "       [ 108.45731499],\n",
       "       [ 108.48868886],\n",
       "       [ 108.60064346],\n",
       "       [ 108.86249336],\n",
       "       [ 108.92794878],\n",
       "       [ 109.96684834],\n",
       "       [ 111.5911082 ],\n",
       "       [ 111.73659389],\n",
       "       [ 113.3586964 ],\n",
       "       [ 114.15465696],\n",
       "       [ 114.21794394],\n",
       "       [ 114.28123017],\n",
       "       [ 114.29805397],\n",
       "       [ 115.60561381],\n",
       "       [ 115.67081618],\n",
       "       [ 118.83820106],\n",
       "       [ 118.83820106],\n",
       "       [ 118.83820106],\n",
       "       [ 118.90343382],\n",
       "       [ 119.48439873],\n",
       "       [ 119.54960367],\n",
       "       [ 120.13058761],\n",
       "       [ 120.39155108],\n",
       "       [ 120.45679497],\n",
       "       [ 120.45679497],\n",
       "       [ 120.45679497],\n",
       "       [ 124.60093481],\n",
       "       [ 124.66620732],\n",
       "       [ 126.27848599],\n",
       "       [ 126.86007436],\n",
       "       [ 126.98798877],\n",
       "       [ 128.24277594],\n",
       "       [ 128.24277594],\n",
       "       [ 131.42838212],\n",
       "       [ 131.49369147],\n",
       "       [ 131.49369147],\n",
       "       [ 131.68068803],\n",
       "       [ 133.78515116],\n",
       "       [ 134.3668164 ],\n",
       "       [ 134.94841839],\n",
       "       [ 135.20957913],\n",
       "       [ 135.79718948],\n",
       "       [ 135.79718948],\n",
       "       [ 136.3847353 ],\n",
       "       [ 138.00669231],\n",
       "       [ 138.00669231],\n",
       "       [ 139.04360314],\n",
       "       [ 139.10892987],\n",
       "       [ 141.43736493],\n",
       "       [ 141.5007272 ],\n",
       "       [ 141.5007272 ],\n",
       "       [ 143.12362933],\n",
       "       [ 143.43953324],\n",
       "       [ 145.61012274],\n",
       "       [ 145.67529931],\n",
       "       [ 149.81581507],\n",
       "       [ 151.43520604],\n",
       "       [ 151.69181077],\n",
       "       [ 151.94840323],\n",
       "       [ 152.13496477],\n",
       "       [ 155.97092962],\n",
       "       [ 157.27363035],\n",
       "       [ 157.67707729],\n",
       "       [ 157.67707729],\n",
       "       [ 157.86306796],\n",
       "       [ 157.89419626],\n",
       "       [ 162.01959224],\n",
       "       [ 162.16430069],\n",
       "       [ 162.18005177],\n",
       "       [ 162.18005177],\n",
       "       [ 162.24504735],\n",
       "       [ 162.50101827],\n",
       "       [ 164.10589276],\n",
       "       [ 164.50975657],\n",
       "       [ 164.5265182 ],\n",
       "       [ 164.78269535],\n",
       "       [ 164.78269535],\n",
       "       [ 165.81507981],\n",
       "       [ 167.42915806],\n",
       "       [ 167.68484295],\n",
       "       [ 168.26311067],\n",
       "       [ 168.51879538],\n",
       "       [ 169.54888042],\n",
       "       [ 169.611757  ],\n",
       "       [ 173.72691204],\n",
       "       [ 173.98587475],\n",
       "       [ 174.56249164],\n",
       "       [ 174.68656745],\n",
       "       [ 174.69692308],\n",
       "       [ 177.00147614],\n",
       "       [ 179.31480084],\n",
       "       [ 180.33982856],\n",
       "       [ 180.40440671],\n",
       "       [ 180.74369742],\n",
       "       [ 180.74627962],\n",
       "       [ 180.7629191 ],\n",
       "       [ 180.7629191 ],\n",
       "       [ 181.021108  ],\n",
       "       [ 181.59582513],\n",
       "       [ 181.660319  ],\n",
       "       [ 181.67594945],\n",
       "       [ 181.82256635],\n",
       "       [ 181.88510763],\n",
       "       [ 182.14320309],\n",
       "       [ 182.20773993],\n",
       "       [ 182.46585971],\n",
       "       [ 182.72396714],\n",
       "       [ 182.72396714],\n",
       "       [ 182.78653635],\n",
       "       [ 183.36753793],\n",
       "       [ 183.62576067],\n",
       "       [ 183.76951405],\n",
       "       [ 184.34468763],\n",
       "       [ 184.36033909],\n",
       "       [ 184.9354061 ],\n",
       "       [ 185.51041187],\n",
       "       [ 186.08562084],\n",
       "       [ 186.15020954],\n",
       "       [ 189.28492302],\n",
       "       [ 190.30900317],\n",
       "       [ 190.37352166],\n",
       "       [ 191.39818225],\n",
       "       [ 191.39818225],\n",
       "       [ 191.54194962],\n",
       "       [ 191.64978433],\n",
       "       [ 192.57436606],\n",
       "       [ 193.59845178],\n",
       "       [ 193.66292108],\n",
       "       [ 193.8717513 ],\n",
       "       [ 196.49933968],\n",
       "       [ 196.92994967],\n",
       "       [ 196.92994967],\n",
       "       [ 200.06082513],\n",
       "       [ 200.63528201],\n",
       "       [ 200.72816936],\n",
       "       [ 201.85733122],\n",
       "       [ 204.98535978],\n",
       "       [ 208.11158375],\n",
       "       [ 212.10227578],\n",
       "       [ 213.64057681],\n",
       "       [ 214.66147247],\n",
       "       [ 216.25857815],\n",
       "       [ 216.32282776],\n",
       "       [ 216.38707662],\n",
       "       [ 221.55639595],\n",
       "       [ 221.57296128],\n",
       "       [ 221.58952657],\n",
       "       [ 222.16214843],\n",
       "       [ 223.18254002],\n",
       "       [ 223.43946278],\n",
       "       [ 224.01136177],\n",
       "       [ 224.58293757],\n",
       "       [ 224.64708884],\n",
       "       [ 225.21868593],\n",
       "       [ 225.79048603],\n",
       "       [ 226.81003986],\n",
       "       [ 227.83002941],\n",
       "       [ 228.40252169],\n",
       "       [ 228.65967187],\n",
       "       [ 232.74400089],\n",
       "       [ 233.76491867],\n",
       "       [ 233.76491867],\n",
       "       [ 238.93680251],\n",
       "       [ 240.5336584 ],\n",
       "       [ 242.83272676],\n",
       "       [ 245.96299734],\n",
       "       [ 247.55681767],\n",
       "       [ 252.70851627],\n",
       "       [ 255.        ]])"
      ]
     },
     "execution_count": 128,
     "metadata": {},
     "output_type": "execute_result"
    }
   ],
   "source": [
    "scaled_daily_vol_dif"
   ]
  },
  {
   "cell_type": "code",
   "execution_count": 133,
   "id": "f9722e40-6367-4e4a-afbe-5cb48cb8262e",
   "metadata": {},
   "outputs": [],
   "source": [
    "import math"
   ]
  },
  {
   "cell_type": "code",
   "execution_count": 134,
   "id": "27f47853-3e8d-4e53-a685-427adf62069b",
   "metadata": {},
   "outputs": [
    {
     "name": "stderr",
     "output_type": "stream",
     "text": [
      "/var/folders/31/d9mhbrs95msdp4hzv2wdsc8w0000gn/T/ipykernel_72334/2922091584.py:11: DeprecationWarning: Conversion of an array with ndim > 0 to a scalar is deprecated, and will error in future. Ensure you extract a single element from your array before performing this operation. (Deprecated NumPy 1.25.)\n",
      "  red[i] = np.abs(scaled_daily_vol_dif[i])\n",
      "/var/folders/31/d9mhbrs95msdp4hzv2wdsc8w0000gn/T/ipykernel_72334/2922091584.py:13: DeprecationWarning: Conversion of an array with ndim > 0 to a scalar is deprecated, and will error in future. Ensure you extract a single element from your array before performing this operation. (Deprecated NumPy 1.25.)\n",
      "  green[i] = scaled_daily_vol_dif[i]\n"
     ]
    }
   ],
   "source": [
    "x = diff_to_rgb(scaled_daily_vol_dif)"
   ]
  },
  {
   "cell_type": "code",
   "execution_count": 135,
   "id": "d977544a-8495-4098-a651-8e1134b44e04",
   "metadata": {},
   "outputs": [
    {
     "name": "stderr",
     "output_type": "stream",
     "text": [
      "Clipping input data to the valid range for imshow with RGB data ([0..1] for floats or [0..255] for integers).\n"
     ]
    },
    {
     "data": {
      "text/plain": [
       "<matplotlib.image.AxesImage at 0x31c442be0>"
      ]
     },
     "execution_count": 135,
     "metadata": {},
     "output_type": "execute_result"
    },
    {
     "data": {
      "image/png": "[encoded data removed]",
      "text/plain": [
       "<Figure size 640x480 with 1 Axes>"
      ]
     },
     "metadata": {},
     "output_type": "display_data"
    }
   ],
   "source": [
    "plt.imshow(x)"
   ]
  },
  {
   "cell_type": "code",
   "execution_count": 103,
   "id": "2b83e86b-c951-4f2f-b997-0b2666ef52d4",
   "metadata": {},
   "outputs": [
    {
     "data": {
      "text/plain": [
       "35"
      ]
     },
     "execution_count": 103,
     "metadata": {},
     "output_type": "execute_result"
    }
   ],
   "source": [
    "21+14"
   ]
  },
  {
   "cell_type": "code",
   "execution_count": 98,
   "id": "909927ca-f282-4abd-a188-20cfb7648daf",
   "metadata": {},
   "outputs": [
    {
     "data": {
      "text/html": [
       "<div>\n",
       "<style scoped>\n",
       "    .dataframe tbody tr th:only-of-type {\n",
       "        vertical-align: middle;\n",
       "    }\n",
       "\n",
       "    .dataframe tbody tr th {\n",
       "        vertical-align: top;\n",
       "    }\n",
       "\n",
       "    .dataframe thead th {\n",
       "        text-align: right;\n",
       "    }\n",
       "</style>\n",
       "<table border=\"1\" class=\"dataframe\">\n",
       "  <thead>\n",
       "    <tr style=\"text-align: right;\">\n",
       "      <th></th>\n",
       "      <th>realized_vol</th>\n",
       "      <th>forward_RV</th>\n",
       "    </tr>\n",
       "    <tr>\n",
       "      <th>Date Time</th>\n",
       "      <th></th>\n",
       "      <th></th>\n",
       "    </tr>\n",
       "  </thead>\n",
       "  <tbody>\n",
       "    <tr>\n",
       "      <th>2010-02-18 09:35:00</th>\n",
       "      <td>0.068804</td>\n",
       "      <td>0.068795</td>\n",
       "    </tr>\n",
       "    <tr>\n",
       "      <th>2010-02-18 09:36:00</th>\n",
       "      <td>0.068832</td>\n",
       "      <td>0.068804</td>\n",
       "    </tr>\n",
       "    <tr>\n",
       "      <th>2010-02-18 09:37:00</th>\n",
       "      <td>0.068833</td>\n",
       "      <td>0.068832</td>\n",
       "    </tr>\n",
       "    <tr>\n",
       "      <th>2010-02-18 09:38:00</th>\n",
       "      <td>0.068835</td>\n",
       "      <td>0.068833</td>\n",
       "    </tr>\n",
       "    <tr>\n",
       "      <th>2010-02-18 09:39:00</th>\n",
       "      <td>0.068843</td>\n",
       "      <td>0.068835</td>\n",
       "    </tr>\n",
       "    <tr>\n",
       "      <th>...</th>\n",
       "      <td>...</td>\n",
       "      <td>...</td>\n",
       "    </tr>\n",
       "    <tr>\n",
       "      <th>2010-02-25 15:51:00</th>\n",
       "      <td>0.072764</td>\n",
       "      <td>0.072764</td>\n",
       "    </tr>\n",
       "    <tr>\n",
       "      <th>2010-02-25 15:52:00</th>\n",
       "      <td>0.072765</td>\n",
       "      <td>0.072764</td>\n",
       "    </tr>\n",
       "    <tr>\n",
       "      <th>2010-02-25 15:53:00</th>\n",
       "      <td>0.072770</td>\n",
       "      <td>0.072765</td>\n",
       "    </tr>\n",
       "    <tr>\n",
       "      <th>2010-02-25 15:54:00</th>\n",
       "      <td>0.072776</td>\n",
       "      <td>0.072770</td>\n",
       "    </tr>\n",
       "    <tr>\n",
       "      <th>2010-02-25 15:55:00</th>\n",
       "      <td>0.072777</td>\n",
       "      <td>0.072776</td>\n",
       "    </tr>\n",
       "  </tbody>\n",
       "</table>\n",
       "<p>2286 rows × 2 columns</p>\n",
       "</div>"
      ],
      "text/plain": [
       "                     realized_vol  forward_RV\n",
       "Date Time                                    \n",
       "2010-02-18 09:35:00      0.068804    0.068795\n",
       "2010-02-18 09:36:00      0.068832    0.068804\n",
       "2010-02-18 09:37:00      0.068833    0.068832\n",
       "2010-02-18 09:38:00      0.068835    0.068833\n",
       "2010-02-18 09:39:00      0.068843    0.068835\n",
       "...                           ...         ...\n",
       "2010-02-25 15:51:00      0.072764    0.072764\n",
       "2010-02-25 15:52:00      0.072765    0.072764\n",
       "2010-02-25 15:53:00      0.072770    0.072765\n",
       "2010-02-25 15:54:00      0.072776    0.072770\n",
       "2010-02-25 15:55:00      0.072777    0.072776\n",
       "\n",
       "[2286 rows x 2 columns]"
      ]
     },
     "execution_count": 98,
     "metadata": {},
     "output_type": "execute_result"
    }
   ],
   "source": [
    "subsequences[29]"
   ]
  },
  {
   "cell_type": "code",
   "execution_count": 101,
   "id": "dc9436c4-a4a2-4f62-8771-50559a480d34",
   "metadata": {},
   "outputs": [
    {
     "data": {
      "text/html": [
       "<div>\n",
       "<style scoped>\n",
       "    .dataframe tbody tr th:only-of-type {\n",
       "        vertical-align: middle;\n",
       "    }\n",
       "\n",
       "    .dataframe tbody tr th {\n",
       "        vertical-align: top;\n",
       "    }\n",
       "\n",
       "    .dataframe thead th {\n",
       "        text-align: right;\n",
       "    }\n",
       "</style>\n",
       "<table border=\"1\" class=\"dataframe\">\n",
       "  <thead>\n",
       "    <tr style=\"text-align: right;\">\n",
       "      <th></th>\n",
       "      <th>Open</th>\n",
       "      <th>High</th>\n",
       "      <th>Low</th>\n",
       "      <th>Close</th>\n",
       "      <th>Volume</th>\n",
       "      <th>Date</th>\n",
       "      <th>Time</th>\n",
       "      <th>Log_Returns</th>\n",
       "      <th>log_return_squared</th>\n",
       "      <th>realized_var</th>\n",
       "      <th>realized_vol</th>\n",
       "      <th>forward_RV</th>\n",
       "    </tr>\n",
       "    <tr>\n",
       "      <th>Date Time</th>\n",
       "      <th></th>\n",
       "      <th></th>\n",
       "      <th></th>\n",
       "      <th></th>\n",
       "      <th></th>\n",
       "      <th></th>\n",
       "      <th></th>\n",
       "      <th></th>\n",
       "      <th></th>\n",
       "      <th></th>\n",
       "      <th></th>\n",
       "      <th></th>\n",
       "    </tr>\n",
       "  </thead>\n",
       "  <tbody>\n",
       "    <tr>\n",
       "      <th>2010-01-08 09:35:00</th>\n",
       "      <td>83.9968</td>\n",
       "      <td>84.0098</td>\n",
       "      <td>83.9321</td>\n",
       "      <td>83.9645</td>\n",
       "      <td>14824.0</td>\n",
       "      <td>2010-01-08</td>\n",
       "      <td>09:35:00</td>\n",
       "      <td>0.001467</td>\n",
       "      <td>2.152592e-06</td>\n",
       "      <td>0.000320</td>\n",
       "      <td>0.017896</td>\n",
       "      <td>0.017836</td>\n",
       "    </tr>\n",
       "    <tr>\n",
       "      <th>2010-01-08 09:36:00</th>\n",
       "      <td>83.9774</td>\n",
       "      <td>83.9806</td>\n",
       "      <td>83.8932</td>\n",
       "      <td>83.9263</td>\n",
       "      <td>25485.0</td>\n",
       "      <td>2010-01-08</td>\n",
       "      <td>09:36:00</td>\n",
       "      <td>-0.000455</td>\n",
       "      <td>2.070775e-07</td>\n",
       "      <td>0.000320</td>\n",
       "      <td>0.017902</td>\n",
       "      <td>0.017896</td>\n",
       "    </tr>\n",
       "    <tr>\n",
       "      <th>2010-01-08 09:37:00</th>\n",
       "      <td>83.9127</td>\n",
       "      <td>83.9321</td>\n",
       "      <td>83.8544</td>\n",
       "      <td>83.8544</td>\n",
       "      <td>11525.0</td>\n",
       "      <td>2010-01-08</td>\n",
       "      <td>09:37:00</td>\n",
       "      <td>-0.000857</td>\n",
       "      <td>7.345711e-07</td>\n",
       "      <td>0.000321</td>\n",
       "      <td>0.017922</td>\n",
       "      <td>0.017902</td>\n",
       "    </tr>\n",
       "    <tr>\n",
       "      <th>2010-01-08 09:38:00</th>\n",
       "      <td>83.8544</td>\n",
       "      <td>83.8932</td>\n",
       "      <td>83.7961</td>\n",
       "      <td>83.8220</td>\n",
       "      <td>18192.0</td>\n",
       "      <td>2010-01-08</td>\n",
       "      <td>09:38:00</td>\n",
       "      <td>-0.000386</td>\n",
       "      <td>1.493503e-07</td>\n",
       "      <td>0.000321</td>\n",
       "      <td>0.017926</td>\n",
       "      <td>0.017922</td>\n",
       "    </tr>\n",
       "    <tr>\n",
       "      <th>2010-01-08 09:39:00</th>\n",
       "      <td>83.8155</td>\n",
       "      <td>83.8285</td>\n",
       "      <td>83.5824</td>\n",
       "      <td>83.6731</td>\n",
       "      <td>46130.0</td>\n",
       "      <td>2010-01-08</td>\n",
       "      <td>09:39:00</td>\n",
       "      <td>-0.001778</td>\n",
       "      <td>3.161152e-06</td>\n",
       "      <td>0.000325</td>\n",
       "      <td>0.018014</td>\n",
       "      <td>0.017926</td>\n",
       "    </tr>\n",
       "    <tr>\n",
       "      <th>...</th>\n",
       "      <td>...</td>\n",
       "      <td>...</td>\n",
       "      <td>...</td>\n",
       "      <td>...</td>\n",
       "      <td>...</td>\n",
       "      <td>...</td>\n",
       "      <td>...</td>\n",
       "      <td>...</td>\n",
       "      <td>...</td>\n",
       "      <td>...</td>\n",
       "      <td>...</td>\n",
       "      <td>...</td>\n",
       "    </tr>\n",
       "    <tr>\n",
       "      <th>2010-02-08 15:51:00</th>\n",
       "      <td>79.4333</td>\n",
       "      <td>79.4398</td>\n",
       "      <td>79.3423</td>\n",
       "      <td>79.4333</td>\n",
       "      <td>36702.0</td>\n",
       "      <td>2010-02-08</td>\n",
       "      <td>15:51:00</td>\n",
       "      <td>0.000082</td>\n",
       "      <td>6.696641e-09</td>\n",
       "      <td>0.003796</td>\n",
       "      <td>0.061610</td>\n",
       "      <td>0.061610</td>\n",
       "    </tr>\n",
       "    <tr>\n",
       "      <th>2010-02-08 15:52:00</th>\n",
       "      <td>79.4268</td>\n",
       "      <td>79.5049</td>\n",
       "      <td>79.4268</td>\n",
       "      <td>79.4854</td>\n",
       "      <td>28598.0</td>\n",
       "      <td>2010-02-08</td>\n",
       "      <td>15:52:00</td>\n",
       "      <td>0.000656</td>\n",
       "      <td>4.299178e-07</td>\n",
       "      <td>0.003796</td>\n",
       "      <td>0.061613</td>\n",
       "      <td>0.061610</td>\n",
       "    </tr>\n",
       "    <tr>\n",
       "      <th>2010-02-08 15:53:00</th>\n",
       "      <td>79.4984</td>\n",
       "      <td>79.4984</td>\n",
       "      <td>79.4333</td>\n",
       "      <td>79.4333</td>\n",
       "      <td>18351.0</td>\n",
       "      <td>2010-02-08</td>\n",
       "      <td>15:53:00</td>\n",
       "      <td>-0.000656</td>\n",
       "      <td>4.299178e-07</td>\n",
       "      <td>0.003797</td>\n",
       "      <td>0.061617</td>\n",
       "      <td>0.061613</td>\n",
       "    </tr>\n",
       "    <tr>\n",
       "      <th>2010-02-08 15:54:00</th>\n",
       "      <td>79.4268</td>\n",
       "      <td>79.4333</td>\n",
       "      <td>79.3358</td>\n",
       "      <td>79.3358</td>\n",
       "      <td>39187.0</td>\n",
       "      <td>2010-02-08</td>\n",
       "      <td>15:54:00</td>\n",
       "      <td>-0.001228</td>\n",
       "      <td>1.508472e-06</td>\n",
       "      <td>0.003798</td>\n",
       "      <td>0.061629</td>\n",
       "      <td>0.061617</td>\n",
       "    </tr>\n",
       "    <tr>\n",
       "      <th>2010-02-08 15:55:00</th>\n",
       "      <td>79.3358</td>\n",
       "      <td>79.4008</td>\n",
       "      <td>79.3358</td>\n",
       "      <td>79.3553</td>\n",
       "      <td>27629.0</td>\n",
       "      <td>2010-02-08</td>\n",
       "      <td>15:55:00</td>\n",
       "      <td>0.000246</td>\n",
       "      <td>6.039821e-08</td>\n",
       "      <td>0.003798</td>\n",
       "      <td>0.061629</td>\n",
       "      <td>0.061629</td>\n",
       "    </tr>\n",
       "  </tbody>\n",
       "</table>\n",
       "<p>8001 rows × 12 columns</p>\n",
       "</div>"
      ],
      "text/plain": [
       "                        Open     High      Low    Close   Volume        Date  \\\n",
       "Date Time                                                                      \n",
       "2010-01-08 09:35:00  83.9968  84.0098  83.9321  83.9645  14824.0  2010-01-08   \n",
       "2010-01-08 09:36:00  83.9774  83.9806  83.8932  83.9263  25485.0  2010-01-08   \n",
       "2010-01-08 09:37:00  83.9127  83.9321  83.8544  83.8544  11525.0  2010-01-08   \n",
       "2010-01-08 09:38:00  83.8544  83.8932  83.7961  83.8220  18192.0  2010-01-08   \n",
       "2010-01-08 09:39:00  83.8155  83.8285  83.5824  83.6731  46130.0  2010-01-08   \n",
       "...                      ...      ...      ...      ...      ...         ...   \n",
       "2010-02-08 15:51:00  79.4333  79.4398  79.3423  79.4333  36702.0  2010-02-08   \n",
       "2010-02-08 15:52:00  79.4268  79.5049  79.4268  79.4854  28598.0  2010-02-08   \n",
       "2010-02-08 15:53:00  79.4984  79.4984  79.4333  79.4333  18351.0  2010-02-08   \n",
       "2010-02-08 15:54:00  79.4268  79.4333  79.3358  79.3358  39187.0  2010-02-08   \n",
       "2010-02-08 15:55:00  79.3358  79.4008  79.3358  79.3553  27629.0  2010-02-08   \n",
       "\n",
       "                         Time  Log_Returns  log_return_squared  realized_var  \\\n",
       "Date Time                                                                      \n",
       "2010-01-08 09:35:00  09:35:00     0.001467        2.152592e-06      0.000320   \n",
       "2010-01-08 09:36:00  09:36:00    -0.000455        2.070775e-07      0.000320   \n",
       "2010-01-08 09:37:00  09:37:00    -0.000857        7.345711e-07      0.000321   \n",
       "2010-01-08 09:38:00  09:38:00    -0.000386        1.493503e-07      0.000321   \n",
       "2010-01-08 09:39:00  09:39:00    -0.001778        3.161152e-06      0.000325   \n",
       "...                       ...          ...                 ...           ...   \n",
       "2010-02-08 15:51:00  15:51:00     0.000082        6.696641e-09      0.003796   \n",
       "2010-02-08 15:52:00  15:52:00     0.000656        4.299178e-07      0.003796   \n",
       "2010-02-08 15:53:00  15:53:00    -0.000656        4.299178e-07      0.003797   \n",
       "2010-02-08 15:54:00  15:54:00    -0.001228        1.508472e-06      0.003798   \n",
       "2010-02-08 15:55:00  15:55:00     0.000246        6.039821e-08      0.003798   \n",
       "\n",
       "                     realized_vol  forward_RV  \n",
       "Date Time                                      \n",
       "2010-01-08 09:35:00      0.017896    0.017836  \n",
       "2010-01-08 09:36:00      0.017902    0.017896  \n",
       "2010-01-08 09:37:00      0.017922    0.017902  \n",
       "2010-01-08 09:38:00      0.017926    0.017922  \n",
       "2010-01-08 09:39:00      0.018014    0.017926  \n",
       "...                           ...         ...  \n",
       "2010-02-08 15:51:00      0.061610    0.061610  \n",
       "2010-02-08 15:52:00      0.061613    0.061610  \n",
       "2010-02-08 15:53:00      0.061617    0.061613  \n",
       "2010-02-08 15:54:00      0.061629    0.061617  \n",
       "2010-02-08 15:55:00      0.061629    0.061629  \n",
       "\n",
       "[8001 rows x 12 columns]"
      ]
     },
     "execution_count": 101,
     "metadata": {},
     "output_type": "execute_result"
    }
   ],
   "source": [
    "ibm_train_split_small.iloc[2*381:23*381]"
   ]
  },
  {
   "cell_type": "code",
   "execution_count": 100,
   "id": "8ab742d9-5cdc-4ebf-8bf3-d5dbd977bbff",
   "metadata": {},
   "outputs": [
    {
     "data": {
      "text/html": [
       "<div>\n",
       "<style scoped>\n",
       "    .dataframe tbody tr th:only-of-type {\n",
       "        vertical-align: middle;\n",
       "    }\n",
       "\n",
       "    .dataframe tbody tr th {\n",
       "        vertical-align: top;\n",
       "    }\n",
       "\n",
       "    .dataframe thead th {\n",
       "        text-align: right;\n",
       "    }\n",
       "</style>\n",
       "<table border=\"1\" class=\"dataframe\">\n",
       "  <thead>\n",
       "    <tr style=\"text-align: right;\">\n",
       "      <th></th>\n",
       "      <th>Open</th>\n",
       "      <th>High</th>\n",
       "      <th>Low</th>\n",
       "      <th>Close</th>\n",
       "      <th>Volume</th>\n",
       "      <th>Date</th>\n",
       "      <th>Time</th>\n",
       "      <th>Log_Returns</th>\n",
       "      <th>log_return_squared</th>\n",
       "      <th>realized_var</th>\n",
       "      <th>realized_vol</th>\n",
       "      <th>forward_RV</th>\n",
       "    </tr>\n",
       "    <tr>\n",
       "      <th>Date Time</th>\n",
       "      <th></th>\n",
       "      <th></th>\n",
       "      <th></th>\n",
       "      <th></th>\n",
       "      <th></th>\n",
       "      <th></th>\n",
       "      <th></th>\n",
       "      <th></th>\n",
       "      <th></th>\n",
       "      <th></th>\n",
       "      <th></th>\n",
       "      <th></th>\n",
       "    </tr>\n",
       "  </thead>\n",
       "  <tbody>\n",
       "    <tr>\n",
       "      <th>2010-01-07 09:35:00</th>\n",
       "      <td>83.9515</td>\n",
       "      <td>84.0163</td>\n",
       "      <td>83.9327</td>\n",
       "      <td>84.0130</td>\n",
       "      <td>16370.0</td>\n",
       "      <td>2010-01-07</td>\n",
       "      <td>09:35:00</td>\n",
       "      <td>-0.002271</td>\n",
       "      <td>5.156884e-06</td>\n",
       "      <td>0.000260</td>\n",
       "      <td>0.016117</td>\n",
       "      <td>0.015957</td>\n",
       "    </tr>\n",
       "    <tr>\n",
       "      <th>2010-01-07 09:36:00</th>\n",
       "      <td>84.0163</td>\n",
       "      <td>84.1134</td>\n",
       "      <td>84.0033</td>\n",
       "      <td>84.0033</td>\n",
       "      <td>23915.0</td>\n",
       "      <td>2010-01-07</td>\n",
       "      <td>09:36:00</td>\n",
       "      <td>-0.000115</td>\n",
       "      <td>1.333216e-08</td>\n",
       "      <td>0.000260</td>\n",
       "      <td>0.016118</td>\n",
       "      <td>0.016117</td>\n",
       "    </tr>\n",
       "    <tr>\n",
       "      <th>2010-01-07 09:37:00</th>\n",
       "      <td>83.9968</td>\n",
       "      <td>84.0227</td>\n",
       "      <td>83.9127</td>\n",
       "      <td>83.9774</td>\n",
       "      <td>23436.0</td>\n",
       "      <td>2010-01-07</td>\n",
       "      <td>09:37:00</td>\n",
       "      <td>-0.000308</td>\n",
       "      <td>9.509129e-08</td>\n",
       "      <td>0.000260</td>\n",
       "      <td>0.016121</td>\n",
       "      <td>0.016118</td>\n",
       "    </tr>\n",
       "    <tr>\n",
       "      <th>2010-01-07 09:38:00</th>\n",
       "      <td>83.9839</td>\n",
       "      <td>84.0163</td>\n",
       "      <td>83.8997</td>\n",
       "      <td>83.9217</td>\n",
       "      <td>13352.0</td>\n",
       "      <td>2010-01-07</td>\n",
       "      <td>09:38:00</td>\n",
       "      <td>-0.000663</td>\n",
       "      <td>4.402240e-07</td>\n",
       "      <td>0.000260</td>\n",
       "      <td>0.016134</td>\n",
       "      <td>0.016121</td>\n",
       "    </tr>\n",
       "    <tr>\n",
       "      <th>2010-01-07 09:39:00</th>\n",
       "      <td>83.9256</td>\n",
       "      <td>83.9904</td>\n",
       "      <td>83.9256</td>\n",
       "      <td>83.9904</td>\n",
       "      <td>10831.0</td>\n",
       "      <td>2010-01-07</td>\n",
       "      <td>09:39:00</td>\n",
       "      <td>0.000818</td>\n",
       "      <td>6.695909e-07</td>\n",
       "      <td>0.000261</td>\n",
       "      <td>0.016155</td>\n",
       "      <td>0.016134</td>\n",
       "    </tr>\n",
       "    <tr>\n",
       "      <th>...</th>\n",
       "      <td>...</td>\n",
       "      <td>...</td>\n",
       "      <td>...</td>\n",
       "      <td>...</td>\n",
       "      <td>...</td>\n",
       "      <td>...</td>\n",
       "      <td>...</td>\n",
       "      <td>...</td>\n",
       "      <td>...</td>\n",
       "      <td>...</td>\n",
       "      <td>...</td>\n",
       "      <td>...</td>\n",
       "    </tr>\n",
       "    <tr>\n",
       "      <th>2010-02-05 15:51:00</th>\n",
       "      <td>79.6390</td>\n",
       "      <td>79.7426</td>\n",
       "      <td>79.6196</td>\n",
       "      <td>79.6973</td>\n",
       "      <td>33209.0</td>\n",
       "      <td>2010-02-05</td>\n",
       "      <td>15:51:00</td>\n",
       "      <td>0.000895</td>\n",
       "      <td>8.010885e-07</td>\n",
       "      <td>0.003671</td>\n",
       "      <td>0.060587</td>\n",
       "      <td>0.060580</td>\n",
       "    </tr>\n",
       "    <tr>\n",
       "      <th>2010-02-05 15:52:00</th>\n",
       "      <td>79.6973</td>\n",
       "      <td>79.8074</td>\n",
       "      <td>79.6973</td>\n",
       "      <td>79.7685</td>\n",
       "      <td>37363.0</td>\n",
       "      <td>2010-02-05</td>\n",
       "      <td>15:52:00</td>\n",
       "      <td>0.000893</td>\n",
       "      <td>7.974160e-07</td>\n",
       "      <td>0.003672</td>\n",
       "      <td>0.060593</td>\n",
       "      <td>0.060587</td>\n",
       "    </tr>\n",
       "    <tr>\n",
       "      <th>2010-02-05 15:53:00</th>\n",
       "      <td>79.7555</td>\n",
       "      <td>79.7620</td>\n",
       "      <td>79.6843</td>\n",
       "      <td>79.7555</td>\n",
       "      <td>24241.0</td>\n",
       "      <td>2010-02-05</td>\n",
       "      <td>15:53:00</td>\n",
       "      <td>-0.000163</td>\n",
       "      <td>2.656407e-08</td>\n",
       "      <td>0.003672</td>\n",
       "      <td>0.060593</td>\n",
       "      <td>0.060593</td>\n",
       "    </tr>\n",
       "    <tr>\n",
       "      <th>2010-02-05 15:54:00</th>\n",
       "      <td>79.7620</td>\n",
       "      <td>79.8074</td>\n",
       "      <td>79.7102</td>\n",
       "      <td>79.7685</td>\n",
       "      <td>34950.0</td>\n",
       "      <td>2010-02-05</td>\n",
       "      <td>15:54:00</td>\n",
       "      <td>0.000163</td>\n",
       "      <td>2.656407e-08</td>\n",
       "      <td>0.003672</td>\n",
       "      <td>0.060594</td>\n",
       "      <td>0.060593</td>\n",
       "    </tr>\n",
       "    <tr>\n",
       "      <th>2010-02-05 15:55:00</th>\n",
       "      <td>79.7685</td>\n",
       "      <td>79.8656</td>\n",
       "      <td>79.7167</td>\n",
       "      <td>79.8527</td>\n",
       "      <td>80362.0</td>\n",
       "      <td>2010-02-05</td>\n",
       "      <td>15:55:00</td>\n",
       "      <td>0.001055</td>\n",
       "      <td>1.113020e-06</td>\n",
       "      <td>0.003673</td>\n",
       "      <td>0.060603</td>\n",
       "      <td>0.060594</td>\n",
       "    </tr>\n",
       "  </tbody>\n",
       "</table>\n",
       "<p>8001 rows × 12 columns</p>\n",
       "</div>"
      ],
      "text/plain": [
       "                        Open     High      Low    Close   Volume        Date  \\\n",
       "Date Time                                                                      \n",
       "2010-01-07 09:35:00  83.9515  84.0163  83.9327  84.0130  16370.0  2010-01-07   \n",
       "2010-01-07 09:36:00  84.0163  84.1134  84.0033  84.0033  23915.0  2010-01-07   \n",
       "2010-01-07 09:37:00  83.9968  84.0227  83.9127  83.9774  23436.0  2010-01-07   \n",
       "2010-01-07 09:38:00  83.9839  84.0163  83.8997  83.9217  13352.0  2010-01-07   \n",
       "2010-01-07 09:39:00  83.9256  83.9904  83.9256  83.9904  10831.0  2010-01-07   \n",
       "...                      ...      ...      ...      ...      ...         ...   \n",
       "2010-02-05 15:51:00  79.6390  79.7426  79.6196  79.6973  33209.0  2010-02-05   \n",
       "2010-02-05 15:52:00  79.6973  79.8074  79.6973  79.7685  37363.0  2010-02-05   \n",
       "2010-02-05 15:53:00  79.7555  79.7620  79.6843  79.7555  24241.0  2010-02-05   \n",
       "2010-02-05 15:54:00  79.7620  79.8074  79.7102  79.7685  34950.0  2010-02-05   \n",
       "2010-02-05 15:55:00  79.7685  79.8656  79.7167  79.8527  80362.0  2010-02-05   \n",
       "\n",
       "                         Time  Log_Returns  log_return_squared  realized_var  \\\n",
       "Date Time                                                                      \n",
       "2010-01-07 09:35:00  09:35:00    -0.002271        5.156884e-06      0.000260   \n",
       "2010-01-07 09:36:00  09:36:00    -0.000115        1.333216e-08      0.000260   \n",
       "2010-01-07 09:37:00  09:37:00    -0.000308        9.509129e-08      0.000260   \n",
       "2010-01-07 09:38:00  09:38:00    -0.000663        4.402240e-07      0.000260   \n",
       "2010-01-07 09:39:00  09:39:00     0.000818        6.695909e-07      0.000261   \n",
       "...                       ...          ...                 ...           ...   \n",
       "2010-02-05 15:51:00  15:51:00     0.000895        8.010885e-07      0.003671   \n",
       "2010-02-05 15:52:00  15:52:00     0.000893        7.974160e-07      0.003672   \n",
       "2010-02-05 15:53:00  15:53:00    -0.000163        2.656407e-08      0.003672   \n",
       "2010-02-05 15:54:00  15:54:00     0.000163        2.656407e-08      0.003672   \n",
       "2010-02-05 15:55:00  15:55:00     0.001055        1.113020e-06      0.003673   \n",
       "\n",
       "                     realized_vol  forward_RV  \n",
       "Date Time                                      \n",
       "2010-01-07 09:35:00      0.016117    0.015957  \n",
       "2010-01-07 09:36:00      0.016118    0.016117  \n",
       "2010-01-07 09:37:00      0.016121    0.016118  \n",
       "2010-01-07 09:38:00      0.016134    0.016121  \n",
       "2010-01-07 09:39:00      0.016155    0.016134  \n",
       "...                           ...         ...  \n",
       "2010-02-05 15:51:00      0.060587    0.060580  \n",
       "2010-02-05 15:52:00      0.060593    0.060587  \n",
       "2010-02-05 15:53:00      0.060593    0.060593  \n",
       "2010-02-05 15:54:00      0.060594    0.060593  \n",
       "2010-02-05 15:55:00      0.060603    0.060594  \n",
       "\n",
       "[8001 rows x 12 columns]"
      ]
     },
     "execution_count": 100,
     "metadata": {},
     "output_type": "execute_result"
    }
   ],
   "source": [
    "ibm_train_split_small.iloc[381:22*381]"
   ]
  },
  {
   "cell_type": "code",
   "execution_count": 99,
   "id": "c6384638-37e8-4766-ad52-e48a65f389cf",
   "metadata": {},
   "outputs": [
    {
     "data": {
      "text/html": [
       "<div>\n",
       "<style scoped>\n",
       "    .dataframe tbody tr th:only-of-type {\n",
       "        vertical-align: middle;\n",
       "    }\n",
       "\n",
       "    .dataframe tbody tr th {\n",
       "        vertical-align: top;\n",
       "    }\n",
       "\n",
       "    .dataframe thead th {\n",
       "        text-align: right;\n",
       "    }\n",
       "</style>\n",
       "<table border=\"1\" class=\"dataframe\">\n",
       "  <thead>\n",
       "    <tr style=\"text-align: right;\">\n",
       "      <th></th>\n",
       "      <th>Open</th>\n",
       "      <th>High</th>\n",
       "      <th>Low</th>\n",
       "      <th>Close</th>\n",
       "      <th>Volume</th>\n",
       "      <th>Date</th>\n",
       "      <th>Time</th>\n",
       "      <th>Log_Returns</th>\n",
       "      <th>log_return_squared</th>\n",
       "      <th>realized_var</th>\n",
       "      <th>realized_vol</th>\n",
       "      <th>forward_RV</th>\n",
       "    </tr>\n",
       "    <tr>\n",
       "      <th>Date Time</th>\n",
       "      <th></th>\n",
       "      <th></th>\n",
       "      <th></th>\n",
       "      <th></th>\n",
       "      <th></th>\n",
       "      <th></th>\n",
       "      <th></th>\n",
       "      <th></th>\n",
       "      <th></th>\n",
       "      <th></th>\n",
       "      <th></th>\n",
       "      <th></th>\n",
       "    </tr>\n",
       "  </thead>\n",
       "  <tbody>\n",
       "    <tr>\n",
       "      <th>2010-01-06 09:35:00</th>\n",
       "      <td>84.8775</td>\n",
       "      <td>84.9228</td>\n",
       "      <td>84.6767</td>\n",
       "      <td>84.6897</td>\n",
       "      <td>46663.0</td>\n",
       "      <td>2010-01-06</td>\n",
       "      <td>09:35:00</td>\n",
       "      <td>-0.000382</td>\n",
       "      <td>1.463062e-07</td>\n",
       "      <td>0.000209</td>\n",
       "      <td>0.014469</td>\n",
       "      <td>0.014463</td>\n",
       "    </tr>\n",
       "    <tr>\n",
       "      <th>2010-01-06 09:36:00</th>\n",
       "      <td>84.6962</td>\n",
       "      <td>84.8257</td>\n",
       "      <td>84.6897</td>\n",
       "      <td>84.7868</td>\n",
       "      <td>26449.0</td>\n",
       "      <td>2010-01-06</td>\n",
       "      <td>09:36:00</td>\n",
       "      <td>0.001146</td>\n",
       "      <td>1.313045e-06</td>\n",
       "      <td>0.000211</td>\n",
       "      <td>0.014514</td>\n",
       "      <td>0.014469</td>\n",
       "    </tr>\n",
       "    <tr>\n",
       "      <th>2010-01-06 09:37:00</th>\n",
       "      <td>84.7998</td>\n",
       "      <td>84.8580</td>\n",
       "      <td>84.7868</td>\n",
       "      <td>84.8127</td>\n",
       "      <td>15784.0</td>\n",
       "      <td>2010-01-06</td>\n",
       "      <td>09:37:00</td>\n",
       "      <td>0.000305</td>\n",
       "      <td>9.328469e-08</td>\n",
       "      <td>0.000211</td>\n",
       "      <td>0.014517</td>\n",
       "      <td>0.014514</td>\n",
       "    </tr>\n",
       "    <tr>\n",
       "      <th>2010-01-06 09:38:00</th>\n",
       "      <td>84.8127</td>\n",
       "      <td>84.8257</td>\n",
       "      <td>84.7156</td>\n",
       "      <td>84.7350</td>\n",
       "      <td>29916.0</td>\n",
       "      <td>2010-01-06</td>\n",
       "      <td>09:38:00</td>\n",
       "      <td>-0.000917</td>\n",
       "      <td>8.400754e-07</td>\n",
       "      <td>0.000212</td>\n",
       "      <td>0.014546</td>\n",
       "      <td>0.014517</td>\n",
       "    </tr>\n",
       "    <tr>\n",
       "      <th>2010-01-06 09:39:00</th>\n",
       "      <td>84.7544</td>\n",
       "      <td>84.7577</td>\n",
       "      <td>84.7156</td>\n",
       "      <td>84.7285</td>\n",
       "      <td>30572.0</td>\n",
       "      <td>2010-01-06</td>\n",
       "      <td>09:39:00</td>\n",
       "      <td>-0.000077</td>\n",
       "      <td>5.884836e-09</td>\n",
       "      <td>0.000212</td>\n",
       "      <td>0.014546</td>\n",
       "      <td>0.014546</td>\n",
       "    </tr>\n",
       "    <tr>\n",
       "      <th>...</th>\n",
       "      <td>...</td>\n",
       "      <td>...</td>\n",
       "      <td>...</td>\n",
       "      <td>...</td>\n",
       "      <td>...</td>\n",
       "      <td>...</td>\n",
       "      <td>...</td>\n",
       "      <td>...</td>\n",
       "      <td>...</td>\n",
       "      <td>...</td>\n",
       "      <td>...</td>\n",
       "      <td>...</td>\n",
       "    </tr>\n",
       "    <tr>\n",
       "      <th>2010-02-04 15:51:00</th>\n",
       "      <td>79.7491</td>\n",
       "      <td>79.7685</td>\n",
       "      <td>79.7361</td>\n",
       "      <td>79.7491</td>\n",
       "      <td>22027.0</td>\n",
       "      <td>2010-02-04</td>\n",
       "      <td>15:51:00</td>\n",
       "      <td>-0.000080</td>\n",
       "      <td>6.439817e-09</td>\n",
       "      <td>0.003452</td>\n",
       "      <td>0.058750</td>\n",
       "      <td>0.058750</td>\n",
       "    </tr>\n",
       "    <tr>\n",
       "      <th>2010-02-04 15:52:00</th>\n",
       "      <td>79.7426</td>\n",
       "      <td>79.7620</td>\n",
       "      <td>79.7296</td>\n",
       "      <td>79.7426</td>\n",
       "      <td>38204.0</td>\n",
       "      <td>2010-02-04</td>\n",
       "      <td>15:52:00</td>\n",
       "      <td>-0.000082</td>\n",
       "      <td>6.643708e-09</td>\n",
       "      <td>0.003452</td>\n",
       "      <td>0.058750</td>\n",
       "      <td>0.058750</td>\n",
       "    </tr>\n",
       "    <tr>\n",
       "      <th>2010-02-04 15:53:00</th>\n",
       "      <td>79.7361</td>\n",
       "      <td>79.7620</td>\n",
       "      <td>79.7296</td>\n",
       "      <td>79.7555</td>\n",
       "      <td>46036.0</td>\n",
       "      <td>2010-02-04</td>\n",
       "      <td>15:53:00</td>\n",
       "      <td>0.000162</td>\n",
       "      <td>2.616546e-08</td>\n",
       "      <td>0.003452</td>\n",
       "      <td>0.058750</td>\n",
       "      <td>0.058750</td>\n",
       "    </tr>\n",
       "    <tr>\n",
       "      <th>2010-02-04 15:54:00</th>\n",
       "      <td>79.7555</td>\n",
       "      <td>79.7750</td>\n",
       "      <td>79.6876</td>\n",
       "      <td>79.7037</td>\n",
       "      <td>93193.0</td>\n",
       "      <td>2010-02-04</td>\n",
       "      <td>15:54:00</td>\n",
       "      <td>-0.000650</td>\n",
       "      <td>4.221049e-07</td>\n",
       "      <td>0.003452</td>\n",
       "      <td>0.058754</td>\n",
       "      <td>0.058750</td>\n",
       "    </tr>\n",
       "    <tr>\n",
       "      <th>2010-02-04 15:55:00</th>\n",
       "      <td>79.7102</td>\n",
       "      <td>79.7167</td>\n",
       "      <td>79.6519</td>\n",
       "      <td>79.7037</td>\n",
       "      <td>65960.0</td>\n",
       "      <td>2010-02-04</td>\n",
       "      <td>15:55:00</td>\n",
       "      <td>0.000000</td>\n",
       "      <td>0.000000e+00</td>\n",
       "      <td>0.003452</td>\n",
       "      <td>0.058754</td>\n",
       "      <td>0.058754</td>\n",
       "    </tr>\n",
       "  </tbody>\n",
       "</table>\n",
       "<p>8001 rows × 12 columns</p>\n",
       "</div>"
      ],
      "text/plain": [
       "                        Open     High      Low    Close   Volume        Date  \\\n",
       "Date Time                                                                      \n",
       "2010-01-06 09:35:00  84.8775  84.9228  84.6767  84.6897  46663.0  2010-01-06   \n",
       "2010-01-06 09:36:00  84.6962  84.8257  84.6897  84.7868  26449.0  2010-01-06   \n",
       "2010-01-06 09:37:00  84.7998  84.8580  84.7868  84.8127  15784.0  2010-01-06   \n",
       "2010-01-06 09:38:00  84.8127  84.8257  84.7156  84.7350  29916.0  2010-01-06   \n",
       "2010-01-06 09:39:00  84.7544  84.7577  84.7156  84.7285  30572.0  2010-01-06   \n",
       "...                      ...      ...      ...      ...      ...         ...   \n",
       "2010-02-04 15:51:00  79.7491  79.7685  79.7361  79.7491  22027.0  2010-02-04   \n",
       "2010-02-04 15:52:00  79.7426  79.7620  79.7296  79.7426  38204.0  2010-02-04   \n",
       "2010-02-04 15:53:00  79.7361  79.7620  79.7296  79.7555  46036.0  2010-02-04   \n",
       "2010-02-04 15:54:00  79.7555  79.7750  79.6876  79.7037  93193.0  2010-02-04   \n",
       "2010-02-04 15:55:00  79.7102  79.7167  79.6519  79.7037  65960.0  2010-02-04   \n",
       "\n",
       "                         Time  Log_Returns  log_return_squared  realized_var  \\\n",
       "Date Time                                                                      \n",
       "2010-01-06 09:35:00  09:35:00    -0.000382        1.463062e-07      0.000209   \n",
       "2010-01-06 09:36:00  09:36:00     0.001146        1.313045e-06      0.000211   \n",
       "2010-01-06 09:37:00  09:37:00     0.000305        9.328469e-08      0.000211   \n",
       "2010-01-06 09:38:00  09:38:00    -0.000917        8.400754e-07      0.000212   \n",
       "2010-01-06 09:39:00  09:39:00    -0.000077        5.884836e-09      0.000212   \n",
       "...                       ...          ...                 ...           ...   \n",
       "2010-02-04 15:51:00  15:51:00    -0.000080        6.439817e-09      0.003452   \n",
       "2010-02-04 15:52:00  15:52:00    -0.000082        6.643708e-09      0.003452   \n",
       "2010-02-04 15:53:00  15:53:00     0.000162        2.616546e-08      0.003452   \n",
       "2010-02-04 15:54:00  15:54:00    -0.000650        4.221049e-07      0.003452   \n",
       "2010-02-04 15:55:00  15:55:00     0.000000        0.000000e+00      0.003452   \n",
       "\n",
       "                     realized_vol  forward_RV  \n",
       "Date Time                                      \n",
       "2010-01-06 09:35:00      0.014469    0.014463  \n",
       "2010-01-06 09:36:00      0.014514    0.014469  \n",
       "2010-01-06 09:37:00      0.014517    0.014514  \n",
       "2010-01-06 09:38:00      0.014546    0.014517  \n",
       "2010-01-06 09:39:00      0.014546    0.014546  \n",
       "...                           ...         ...  \n",
       "2010-02-04 15:51:00      0.058750    0.058750  \n",
       "2010-02-04 15:52:00      0.058750    0.058750  \n",
       "2010-02-04 15:53:00      0.058750    0.058750  \n",
       "2010-02-04 15:54:00      0.058754    0.058750  \n",
       "2010-02-04 15:55:00      0.058754    0.058754  \n",
       "\n",
       "[8001 rows x 12 columns]"
      ]
     },
     "execution_count": 99,
     "metadata": {},
     "output_type": "execute_result"
    }
   ],
   "source": [
    "ibm_train_split_small.iloc[0:21*381]"
   ]
  },
  {
   "cell_type": "code",
   "execution_count": 67,
   "id": "c6ed839c-6bff-4bb3-99c6-a050b59ab0a3",
   "metadata": {},
   "outputs": [
    {
     "data": {
      "text/plain": [
       "21.0"
      ]
     },
     "execution_count": 67,
     "metadata": {},
     "output_type": "execute_result"
    }
   ],
   "source": [
    "8001/381"
   ]
  },
  {
   "cell_type": "code",
   "execution_count": 47,
   "id": "afafd32d-488d-42ca-9902-a2be87dd788c",
   "metadata": {},
   "outputs": [
    {
     "ename": "NameError",
     "evalue": "name 'result' is not defined",
     "output_type": "error",
     "traceback": [
      "\u001b[0;31m---------------------------------------------------------------------------\u001b[0m",
      "\u001b[0;31mNameError\u001b[0m                                 Traceback (most recent call last)",
      "Cell \u001b[0;32mIn[47], line 1\u001b[0m\n\u001b[0;32m----> 1\u001b[0m \u001b[43mresult\u001b[49m\n",
      "\u001b[0;31mNameError\u001b[0m: name 'result' is not defined"
     ]
    }
   ],
   "source": [
    "result"
   ]
  },
  {
   "cell_type": "code",
   "execution_count": 41,
   "id": "fbc98682-1c5e-43f0-b761-7561518a230b",
   "metadata": {},
   "outputs": [
    {
     "name": "stdout",
     "output_type": "stream",
     "text": [
      "221 µs ± 5.59 µs per loop (mean ± std. dev. of 7 runs, 1,000 loops each)\n"
     ]
    }
   ],
   "source": [
    "%%timeit\n",
    "\n",
    "for i in range(10000):\n",
    "    i+1"
   ]
  },
  {
   "cell_type": "code",
   "execution_count": 1,
   "id": "24e5dbb7-8951-4fc7-b102-4991a014e012",
   "metadata": {},
   "outputs": [
    {
     "ename": "NameError",
     "evalue": "name 'ibm_train_split' is not defined",
     "output_type": "error",
     "traceback": [
      "\u001b[0;31m---------------------------------------------------------------------------\u001b[0m",
      "\u001b[0;31mNameError\u001b[0m                                 Traceback (most recent call last)",
      "Cell \u001b[0;32mIn[1], line 1\u001b[0m\n\u001b[0;32m----> 1\u001b[0m \u001b[43mibm_train_split\u001b[49m\n",
      "\u001b[0;31mNameError\u001b[0m: name 'ibm_train_split' is not defined"
     ]
    }
   ],
   "source": [
    "ibm_train_split"
   ]
  }
 ],
 "metadata": {
  "kernelspec": {
   "display_name": "Python 3 (ipykernel)",
   "language": "python",
   "name": "python3"
  },
  "language_info": {
   "codemirror_mode": {
    "name": "ipython",
    "version": 3
   },
   "file_extension": ".py",
   "mimetype": "text/x-python",
   "name": "python",
   "nbconvert_exporter": "python",
   "pygments_lexer": "ipython3",
   "version": "3.9.6"
  }
 },
 "nbformat": 4,
 "nbformat_minor": 5
}
