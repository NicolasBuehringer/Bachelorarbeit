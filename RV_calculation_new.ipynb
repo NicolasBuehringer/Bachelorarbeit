{
 "cells": [
  {
   "cell_type": "code",
   "execution_count": 47,
   "id": "179e2cf8-d65f-4986-a879-5a167cbd2871",
   "metadata": {},
   "outputs": [],
   "source": [
    "import pandas as pd\n",
    "import numpy as np\n",
    "import matplotlib.pyplot as plt\n",
    "from sklearn.preprocessing import MinMaxScaler\n",
    "\n",
    "pd.options.mode.chained_assignment = None"
   ]
  },
  {
   "cell_type": "code",
   "execution_count": 2,
   "id": "393b5294-937a-4776-9551-d584e3b4bd57",
   "metadata": {},
   "outputs": [],
   "source": [
    "ibm_df = pd.read_csv(\"data/3Stocks/IBM_1min.csv\")\n",
    "jnj_df = pd.read_csv(\"data/3Stocks/JNJ_1min.csv\")\n",
    "wmt_df = pd.read_csv(\"data/3Stocks/WMT_1min.csv\")"
   ]
  },
  {
   "cell_type": "code",
   "execution_count": 3,
   "id": "95c895cf-eefb-4139-825f-512fdd69334f",
   "metadata": {},
   "outputs": [
    {
     "name": "stdout",
     "output_type": "stream",
     "text": [
      "(958596, 8) (958596, 8) (958596, 8)\n"
     ]
    }
   ],
   "source": [
    "print(ibm_df.shape, jnj_df.shape, wmt_df.shape)"
   ]
  },
  {
   "cell_type": "code",
   "execution_count": 25,
   "id": "ebe29c65-4cc3-47da-9752-24077bb1a10e",
   "metadata": {},
   "outputs": [],
   "source": [
    "ibm_small_df = ibm_df.iloc[:50000]"
   ]
  },
  {
   "cell_type": "code",
   "execution_count": 10,
   "id": "1c8fe10f-b4d0-4bad-9346-be1fc651f8da",
   "metadata": {},
   "outputs": [
    {
     "data": {
      "text/plain": [
       "381"
      ]
     },
     "execution_count": 10,
     "metadata": {},
     "output_type": "execute_result"
    }
   ],
   "source": [
    "5*60+25+56"
   ]
  },
  {
   "cell_type": "code",
   "execution_count": 11,
   "id": "e208251c-618d-4a06-9c49-fc1d7266d58a",
   "metadata": {},
   "outputs": [
    {
     "data": {
      "text/plain": [
       "1523"
      ]
     },
     "execution_count": 11,
     "metadata": {},
     "output_type": "execute_result"
    }
   ],
   "source": [
    "380+381+381+381"
   ]
  },
  {
   "cell_type": "markdown",
   "id": "11cfaf84-0844-4470-8ee3-42d90edcdf24",
   "metadata": {},
   "source": [
    "2010-01-04: 9:36:00 - 15:55:00\n",
    "2010-01-05: 9:35:00 - 15:55:00\n",
    "2010-01-06: 9:35:00 - 15:55:00"
   ]
  },
  {
   "cell_type": "code",
   "execution_count": 12,
   "id": "6c839c6a",
   "metadata": {},
   "outputs": [
    {
     "data": {
      "text/plain": [
       "Date Time    2010-01-07 15:55:00\n",
       "Open                     83.8285\n",
       "High                     83.8673\n",
       "Low                      83.8272\n",
       "Close                    83.8414\n",
       "Volume                   43250.0\n",
       "Date                  2010-01-07\n",
       "Time                    15:55:00\n",
       "Name: 1523, dtype: object"
      ]
     },
     "execution_count": 12,
     "metadata": {},
     "output_type": "execute_result"
    }
   ],
   "source": [
    "ibm_small_df.iloc[1523]"
   ]
  },
  {
   "cell_type": "code",
   "execution_count": 26,
   "id": "9171c4c6",
   "metadata": {},
   "outputs": [],
   "source": [
    "ibm_small_df['Date Time'] = pd.to_datetime(ibm_small_df['Date Time'])"
   ]
  },
  {
   "cell_type": "code",
   "execution_count": 148,
   "id": "11231283-3a0d-4f25-922f-af4e121c3ae0",
   "metadata": {},
   "outputs": [],
   "source": [
    "ibm_df['Date Time'] = pd.to_datetime(ibm_df['Date Time'])"
   ]
  },
  {
   "cell_type": "code",
   "execution_count": 27,
   "id": "26dacaf3",
   "metadata": {},
   "outputs": [],
   "source": [
    "ibm_small_df['Log_Returns'] = np.log(ibm_small_df['Close'] / ibm_small_df['Close'].shift(1))"
   ]
  },
  {
   "cell_type": "code",
   "execution_count": 149,
   "id": "8313b642-bd54-43b3-ae4e-6933e5e43141",
   "metadata": {},
   "outputs": [],
   "source": [
    "ibm_df['Log_Returns'] = np.log(ibm_df['Close'] / ibm_df['Close'].shift(1))"
   ]
  },
  {
   "cell_type": "code",
   "execution_count": 152,
   "id": "b0e9c404",
   "metadata": {},
   "outputs": [],
   "source": [
    "ibm_small_df.dropna(inplace=True)"
   ]
  },
  {
   "cell_type": "code",
   "execution_count": null,
   "id": "993d1050-e205-4b85-ba4a-6976480b5967",
   "metadata": {},
   "outputs": [],
   "source": []
  },
  {
   "cell_type": "code",
   "execution_count": 154,
   "id": "ee225d85-ee1e-4e10-a4c2-40704df38935",
   "metadata": {},
   "outputs": [],
   "source": [
    "daily_log_returns_large = ibm_df.resample('D', on='Date Time').sum()[\"Log_Returns\"]"
   ]
  },
  {
   "cell_type": "code",
   "execution_count": 158,
   "id": "0744a6f2-6c42-4779-b000-c384d0a17e69",
   "metadata": {},
   "outputs": [
    {
     "data": {
      "text/plain": [
       "(3649,)"
      ]
     },
     "execution_count": 158,
     "metadata": {},
     "output_type": "execute_result"
    }
   ],
   "source": [
    "daily_log_returns_large.shape"
   ]
  },
  {
   "cell_type": "code",
   "execution_count": 85,
   "id": "0f256155-1235-417a-891c-5127691df6f6",
   "metadata": {},
   "outputs": [],
   "source": [
    "mm_scaler_x = MinMaxScaler(feature_range=(-255,255))"
   ]
  },
  {
   "cell_type": "code",
   "execution_count": 159,
   "id": "47647e5b-16d0-4fc2-a1f3-f8d37b4e5919",
   "metadata": {},
   "outputs": [],
   "source": [
    "pre_scale = np.reshape(daily_log_returns_large, (-1,1))"
   ]
  },
  {
   "cell_type": "code",
   "execution_count": 160,
   "id": "55d0e1a2-29f5-4538-bb12-771fb92752ac",
   "metadata": {},
   "outputs": [
    {
     "data": {
      "text/plain": [
       "(3649, 1)"
      ]
     },
     "execution_count": 160,
     "metadata": {},
     "output_type": "execute_result"
    }
   ],
   "source": [
    "pre_scale.shape"
   ]
  },
  {
   "cell_type": "code",
   "execution_count": 79,
   "id": "53e10ee6-bce5-4f5f-8cca-79bf83418275",
   "metadata": {},
   "outputs": [
    {
     "data": {
      "text/plain": [
       "(4, 1)"
      ]
     },
     "execution_count": 79,
     "metadata": {},
     "output_type": "execute_result"
    }
   ],
   "source": [
    "np.reshape(np.array([-2,0,1,2]), (-1,1)).shape"
   ]
  },
  {
   "cell_type": "code",
   "execution_count": 161,
   "id": "3524ce48-5436-42b9-aafb-7bff4d623156",
   "metadata": {},
   "outputs": [
    {
     "data": {
      "text/plain": [
       "array([[ 0.00704151],\n",
       "       [-0.01290938],\n",
       "       [-0.00613406],\n",
       "       ...,\n",
       "       [ 0.        ],\n",
       "       [-0.02001493],\n",
       "       [ 0.01065451]])"
      ]
     },
     "execution_count": 161,
     "metadata": {},
     "output_type": "execute_result"
    }
   ],
   "source": [
    "pre_scale"
   ]
  },
  {
   "cell_type": "code",
   "execution_count": 162,
   "id": "a9d09c6c-686d-4379-b546-4feaa68b35fa",
   "metadata": {},
   "outputs": [],
   "source": [
    "scaled_vol = mm_scaler_x.fit_transform(pre_scale)"
   ]
  },
  {
   "cell_type": "code",
   "execution_count": 105,
   "id": "d2f8069c-9fa5-4cb0-99bd-6ad5d8a5ff02",
   "metadata": {},
   "outputs": [],
   "source": [
    "vol_chart = np.empty([1,1,3])"
   ]
  },
  {
   "cell_type": "code",
   "execution_count": 120,
   "id": "4d55cfb7-7cb6-4559-9c03-86206a001ad8",
   "metadata": {},
   "outputs": [],
   "source": [
    "test = np.array([[255,255,0], [255,0,0],[255,0,0], [255,0,0]])"
   ]
  },
  {
   "cell_type": "code",
   "execution_count": 121,
   "id": "65cec1ac-b19d-45d6-bfc3-b32776446621",
   "metadata": {},
   "outputs": [
    {
     "data": {
      "text/plain": [
       "<matplotlib.image.AxesImage at 0x334f4ebe0>"
      ]
     },
     "execution_count": 121,
     "metadata": {},
     "output_type": "execute_result"
    },
    {
     "data": {
      "image/png": "[encoded data removed]",
      "text/plain": [
       "<Figure size 640x480 with 1 Axes>"
      ]
     },
     "metadata": {},
     "output_type": "display_data"
    }
   ],
   "source": [
    "plt.imshow(test)"
   ]
  },
  {
   "cell_type": "code",
   "execution_count": 163,
   "id": "2aaa0672-d470-4366-a23b-45338227dc08",
   "metadata": {},
   "outputs": [
    {
     "data": {
      "text/plain": [
       "(3649, 1)"
      ]
     },
     "execution_count": 163,
     "metadata": {},
     "output_type": "execute_result"
    }
   ],
   "source": [
    "scaled_vol.shape"
   ]
  },
  {
   "cell_type": "code",
   "execution_count": 164,
   "id": "0eb72299-b907-47ad-97b9-1f8887fed037",
   "metadata": {},
   "outputs": [],
   "source": [
    "I = np.arange(n)\n",
    "matrix = np.column_stack((3*I, I**2))"
   ]
  },
  {
   "cell_type": "code",
   "execution_count": 202,
   "id": "c0d9fbdf-b197-462d-adf0-0c956db203c5",
   "metadata": {},
   "outputs": [],
   "source": [
    "red = np.zeros(3694)\n",
    "green = np.zeros(3694)\n",
    "blue = np.zeros(3694)"
   ]
  },
  {
   "cell_type": "code",
   "execution_count": 203,
   "id": "408e8810-9abc-4f4c-ab10-e5d920aed611",
   "metadata": {},
   "outputs": [
    {
     "name": "stderr",
     "output_type": "stream",
     "text": [
      "/var/folders/31/d9mhbrs95msdp4hzv2wdsc8w0000gn/T/ipykernel_41135/3294725370.py:5: DeprecationWarning: Conversion of an array with ndim > 0 to a scalar is deprecated, and will error in future. Ensure you extract a single element from your array before performing this operation. (Deprecated NumPy 1.25.)\n",
      "  green[i] = scaled_vol[i]\n",
      "/var/folders/31/d9mhbrs95msdp4hzv2wdsc8w0000gn/T/ipykernel_41135/3294725370.py:3: DeprecationWarning: Conversion of an array with ndim > 0 to a scalar is deprecated, and will error in future. Ensure you extract a single element from your array before performing this operation. (Deprecated NumPy 1.25.)\n",
      "  red[i] = np.abs(scaled_vol[i])\n"
     ]
    }
   ],
   "source": [
    "for i in range(len(scaled_vol)):\n",
    "    if scaled_vol[i] < 0:\n",
    "        red[i] = np.abs(scaled_vol[i])\n",
    "    elif scaled_vol[i] > 0:\n",
    "        green[i] = scaled_vol[i]\n",
    "    elif scaled_vol[i] == 0:\n",
    "        continue\n",
    "    else:\n",
    "        print(error)"
   ]
  },
  {
   "cell_type": "code",
   "execution_count": 204,
   "id": "ae14608d-0ad1-47d0-aa42-e6023d294d0c",
   "metadata": {},
   "outputs": [],
   "source": [
    "testing = np.column_stack((red, green, blue))"
   ]
  },
  {
   "cell_type": "code",
   "execution_count": 205,
   "id": "a30dbe5c-f7e3-4da7-bba6-cd4efba6f898",
   "metadata": {},
   "outputs": [
    {
     "name": "stderr",
     "output_type": "stream",
     "text": [
      "Clipping input data to the valid range for imshow with RGB data ([0..1] for floats or [0..255] for integers).\n"
     ]
    },
    {
     "data": {
      "text/plain": [
       "<matplotlib.image.AxesImage at 0x1568c0220>"
      ]
     },
     "execution_count": 205,
     "metadata": {},
     "output_type": "execute_result"
    },
    {
     "data": {
      "image/png": "[encoded data removed]",
      "text/plain": [
       "<Figure size 640x480 with 1 Axes>"
      ]
     },
     "metadata": {},
     "output_type": "display_data"
    }
   ],
   "source": [
    "plt.imshow(np.array([testing]), aspect = \"auto\")"
   ]
  },
  {
   "cell_type": "code",
   "execution_count": 199,
   "id": "c0abd0e9-1431-4e7c-b429-86ab4922d611",
   "metadata": {},
   "outputs": [
    {
     "data": {
      "text/plain": [
       "array([-38.07914813,   0.        ,   0.        ])"
      ]
     },
     "execution_count": 199,
     "metadata": {},
     "output_type": "execute_result"
    }
   ],
   "source": [
    "testing[1]"
   ]
  },
  {
   "cell_type": "code",
   "execution_count": 178,
   "id": "f14336c0-cffd-417c-8f2a-bed11ec14346",
   "metadata": {},
   "outputs": [
    {
     "data": {
      "text/plain": [
       "(1, 3, 3)"
      ]
     },
     "execution_count": 178,
     "metadata": {},
     "output_type": "execute_result"
    }
   ],
   "source": [
    "np.array([[[255,0,0], [0,255,0], [0,0,255]]]).shape"
   ]
  },
  {
   "cell_type": "code",
   "execution_count": 167,
   "id": "ef15681a-0fb7-49d7-a218-80b74c973eb9",
   "metadata": {},
   "outputs": [
    {
     "data": {
      "text/plain": [
       "<matplotlib.image.AxesImage at 0x155d90fa0>"
      ]
     },
     "execution_count": 167,
     "metadata": {},
     "output_type": "execute_result"
    },
    {
     "data": {
      "image/png": "[encoded data removed]",
      "text/plain": [
       "<Figure size 640x480 with 1 Axes>"
      ]
     },
     "metadata": {},
     "output_type": "display_data"
    }
   ],
   "source": [
    "plt.imshow(np.array([[[255,0,0], [0,255,0], [0,0,255]]]))"
   ]
  },
  {
   "cell_type": "code",
   "execution_count": null,
   "id": "f8c31d24-6a80-4774-b7f4-bc2f1c31bd4f",
   "metadata": {},
   "outputs": [],
   "source": []
  },
  {
   "cell_type": "code",
   "execution_count": null,
   "id": "980f33bf-561b-4c55-8864-0221bd947a04",
   "metadata": {},
   "outputs": [],
   "source": [
    "a = np.array((1,2,3))\n",
    "b = np.array((2,3,4))\n",
    "np.column_stack((a,b))\n",
    "array([[1, 2],\n",
    "       [2, 3],\n",
    "       [3, 4]])"
   ]
  },
  {
   "cell_type": "code",
   "execution_count": 136,
   "id": "e13c434b-b9c8-48fd-aa60-f75a97c1398d",
   "metadata": {},
   "outputs": [
    {
     "data": {
      "image/png": "[encoded data removed]",
      "text/plain": [
       "<Figure size 640x480 with 1 Axes>"
      ]
     },
     "metadata": {},
     "output_type": "display_data"
    }
   ],
   "source": [
    "palette = np.array([[255,   0,   0], # index 0: red\n",
    "                   [  0, 255,   0], # index 1: green\n",
    "                    [  0,   0, 255], # index 2: blue\n",
    "                    [255, 255, 255], # index 3: white\n",
    "                    [  0,   0,   0], # index 4: black\n",
    "                    [255, 255,   0], # index 5: yellow\n",
    "                     ], dtype=np.uint8)\n",
    "     \n",
    "\n",
    "m, n = 4, 6\n",
    "\n",
    "indices = np.random.randint(0, len(palette), size=(4, 6))\n",
    "indices\n",
    "np.array([[2, 4, 0, 1, 4, 2],\n",
    "       [1, 1, 5, 5, 2, 0],\n",
    "       [4, 4, 3, 3, 0, 4],\n",
    "       [2, 5, 0, 5, 2, 3]])\n",
    "\n",
    "In [21]: plt.imshow(palette[indices])"
   ]
  },
  {
   "cell_type": "code",
   "execution_count": 138,
   "id": "4f4897c8-f739-4330-b344-72353906305c",
   "metadata": {},
   "outputs": [
    {
     "data": {
      "text/plain": [
       "array([[[  0,   0, 255],\n",
       "        [255, 255,   0],\n",
       "        [255, 255, 255],\n",
       "        [  0,   0, 255],\n",
       "        [255, 255,   0],\n",
       "        [  0, 255,   0]],\n",
       "\n",
       "       [[  0,   0,   0],\n",
       "        [  0,   0,   0],\n",
       "        [  0, 255,   0],\n",
       "        [  0,   0,   0],\n",
       "        [  0,   0,   0],\n",
       "        [255, 255, 255]],\n",
       "\n",
       "       [[  0,   0,   0],\n",
       "        [  0, 255,   0],\n",
       "        [255, 255,   0],\n",
       "        [  0,   0,   0],\n",
       "        [255, 255,   0],\n",
       "        [255,   0,   0]],\n",
       "\n",
       "       [[255,   0,   0],\n",
       "        [255,   0,   0],\n",
       "        [  0,   0,   0],\n",
       "        [  0,   0, 255],\n",
       "        [  0,   0, 255],\n",
       "        [  0,   0, 255]]], dtype=uint8)"
      ]
     },
     "execution_count": 138,
     "metadata": {},
     "output_type": "execute_result"
    }
   ],
   "source": [
    "palette[indices]"
   ]
  },
  {
   "cell_type": "code",
   "execution_count": null,
   "id": "e3fc77fd-3fc9-4dc9-8f0d-be3ccdf5d2c6",
   "metadata": {},
   "outputs": [],
   "source": []
  },
  {
   "cell_type": "code",
   "execution_count": 98,
   "id": "9aa1cf5f-1e9e-47e3-a524-4cd60b3cdacf",
   "metadata": {},
   "outputs": [
    {
     "data": {
      "text/plain": [
       "array([[ 3.27110592e+01],\n",
       "       [-9.30913652e+01],\n",
       "       [-5.03688796e+01],\n",
       "       [-3.89017893e+01],\n",
       "       [ 4.98603612e+01],\n",
       "       [-1.16899083e+01],\n",
       "       [-1.16899083e+01],\n",
       "       [-7.12925728e+01],\n",
       "       [ 3.34250181e+01],\n",
       "       [-1.94283411e+01],\n",
       "       [ 9.00888991e+01],\n",
       "       [-4.12873539e+01],\n",
       "       [-1.16899083e+01],\n",
       "       [-1.16899083e+01],\n",
       "       [-1.16899083e+01],\n",
       "       [ 9.59968775e+01],\n",
       "       [-1.79230351e+02],\n",
       "       [-7.99169179e+01],\n",
       "       [-1.86958066e+02],\n",
       "       [-1.16899083e+01],\n",
       "       [-1.16899083e+01],\n",
       "       [ 2.13605241e+01],\n",
       "       [-3.06994237e+01],\n",
       "       [ 6.81826328e+00],\n",
       "       [-1.38820618e+02],\n",
       "       [-5.92643377e+01],\n",
       "       [-1.16899083e+01],\n",
       "       [-1.16899083e+01],\n",
       "       [ 8.36026242e+01],\n",
       "       [ 3.46773850e+01],\n",
       "       [-4.66886173e+00],\n",
       "       [-1.45503745e+02],\n",
       "       [ 8.69345780e-02],\n",
       "       [-1.16899083e+01],\n",
       "       [-1.16899083e+01],\n",
       "       [-5.10901626e+01],\n",
       "       [ 4.79640077e+01],\n",
       "       [-3.52767930e+01],\n",
       "       [ 4.55900831e+01],\n",
       "       [-1.62716986e+01],\n",
       "       [-1.16899083e+01],\n",
       "       [-1.16899083e+01],\n",
       "       [-1.16899083e+01],\n",
       "       [ 5.52093012e+01],\n",
       "       [ 4.65160722e+01],\n",
       "       [ 6.47703588e+01],\n",
       "       [-3.69112495e+01],\n",
       "       [-1.16899083e+01],\n",
       "       [-1.16899083e+01],\n",
       "       [-3.35253075e+01],\n",
       "       [-2.46314092e+01],\n",
       "       [ 3.84279916e+01],\n",
       "       [-4.29057789e+01],\n",
       "       [ 1.16166152e+01],\n",
       "       [-1.16899083e+01],\n",
       "       [-1.16899083e+01],\n",
       "       [ 4.22687537e+01],\n",
       "       [-7.20898456e+01],\n",
       "       [-3.15347166e+01],\n",
       "       [-2.11344806e+01],\n",
       "       [ 1.36370283e+01],\n",
       "       [-1.16899083e+01],\n",
       "       [-1.16899083e+01],\n",
       "       [-4.49888186e+01],\n",
       "       [-5.87077010e+01],\n",
       "       [-6.66606629e+00],\n",
       "       [ 8.33979174e+01],\n",
       "       [ 7.15679012e+00],\n",
       "       [-1.16899083e+01],\n",
       "       [-1.16899083e+01],\n",
       "       [-2.11517398e+01],\n",
       "       [ 3.40318376e+01],\n",
       "       [-5.88913488e+01],\n",
       "       [ 1.58815201e+01],\n",
       "       [-5.26018413e+01],\n",
       "       [-1.16899083e+01],\n",
       "       [-1.16899083e+01],\n",
       "       [ 7.56729212e+00],\n",
       "       [ 5.79359963e+01],\n",
       "       [-4.44466419e+01],\n",
       "       [ 2.64336036e+01],\n",
       "       [-1.94942324e+01],\n",
       "       [-1.16899083e+01],\n",
       "       [-1.16899083e+01],\n",
       "       [-4.78912818e+01],\n",
       "       [ 1.05542852e+00],\n",
       "       [-4.26141704e+01],\n",
       "       [-1.21817542e+01],\n",
       "       [-1.16899083e+01],\n",
       "       [-1.16899083e+01],\n",
       "       [-1.16899083e+01],\n",
       "       [ 3.78163165e+01],\n",
       "       [-1.90219549e+01],\n",
       "       [-4.59991522e+01],\n",
       "       [-4.07481842e+01],\n",
       "       [ 3.94511084e+01],\n",
       "       [-1.16899083e+01],\n",
       "       [-1.16899083e+01],\n",
       "       [-2.68913202e+01],\n",
       "       [ 1.72111100e+01],\n",
       "       [ 9.49128415e+01],\n",
       "       [-2.17913365e+01],\n",
       "       [-2.22819758e+01],\n",
       "       [-1.16899083e+01],\n",
       "       [-1.16899083e+01],\n",
       "       [ 4.39818618e+01],\n",
       "       [-1.26694015e+02],\n",
       "       [-4.41387402e+01],\n",
       "       [ 5.89445296e+00],\n",
       "       [ 2.33323826e+01],\n",
       "       [-1.16899083e+01],\n",
       "       [-1.16899083e+01],\n",
       "       [ 2.21744748e+01],\n",
       "       [-1.01095190e+02],\n",
       "       [ 5.06429027e+01],\n",
       "       [ 1.18791298e+00],\n",
       "       [-6.54068773e+01],\n",
       "       [-1.16899083e+01],\n",
       "       [-1.16899083e+01],\n",
       "       [ 4.87049604e+00],\n",
       "       [-8.60608656e+01],\n",
       "       [-5.01968404e+01],\n",
       "       [-1.23128634e+02],\n",
       "       [-1.43231700e+02],\n",
       "       [-1.16899083e+01],\n",
       "       [-1.16899083e+01],\n",
       "       [ 2.12865175e+02],\n",
       "       [ 2.51376475e+01],\n",
       "       [ 2.55000000e+02],\n",
       "       [-4.84228649e+01],\n",
       "       [-2.70171003e+01],\n",
       "       [-1.16899083e+01],\n",
       "       [-1.16899083e+01],\n",
       "       [-5.11427409e+01],\n",
       "       [-3.19871342e+01],\n",
       "       [-6.90800508e+01],\n",
       "       [-2.55000000e+02],\n",
       "       [ 3.56114429e+01],\n",
       "       [-1.16899083e+01],\n",
       "       [-1.16899083e+01],\n",
       "       [-4.20040158e+01],\n",
       "       [-4.60279618e+00],\n",
       "       [-6.50267222e+01],\n",
       "       [ 1.05565454e+02],\n",
       "       [-2.17058059e+01],\n",
       "       [-1.16899083e+01],\n",
       "       [-1.16899083e+01],\n",
       "       [-1.16899083e+01],\n",
       "       [-5.64878296e+01],\n",
       "       [ 1.08881337e+02],\n",
       "       [ 2.48779238e+01],\n",
       "       [-1.50674287e+02],\n",
       "       [-1.16899083e+01],\n",
       "       [-1.16899083e+01],\n",
       "       [-4.45176655e+01],\n",
       "       [-5.63988381e+01],\n",
       "       [-9.13881185e+00],\n",
       "       [ 2.02280061e+02],\n",
       "       [ 1.43736829e+01],\n",
       "       [-1.16899083e+01],\n",
       "       [-1.16899083e+01],\n",
       "       [ 1.54137525e+00],\n",
       "       [ 3.65960756e+01],\n",
       "       [ 1.59474379e+01],\n",
       "       [ 2.01594621e+01],\n",
       "       [-4.54718064e+01],\n",
       "       [-1.16899083e+01],\n",
       "       [-1.16899083e+01],\n",
       "       [ 2.80810398e+00],\n",
       "       [-7.23293965e+01],\n",
       "       [ 2.67006996e+01],\n",
       "       [-1.10081127e+02],\n",
       "       [-1.24280058e+01],\n",
       "       [-1.16899083e+01],\n",
       "       [-1.16899083e+01],\n",
       "       [ 2.11994735e+01],\n",
       "       [-1.81912022e+02],\n",
       "       [-1.00858566e+02],\n",
       "       [-6.08576872e+01],\n",
       "       [-4.57190034e+01],\n",
       "       [-1.16899083e+01],\n",
       "       [-1.16899083e+01],\n",
       "       [-1.16899083e+01],\n",
       "       [ 4.08269642e+01],\n",
       "       [ 1.88130921e+02],\n",
       "       [ 2.54523866e+01],\n",
       "       [-3.43099087e-01],\n",
       "       [-1.16899083e+01],\n",
       "       [-1.16899083e+01],\n",
       "       [ 2.07579209e+01],\n",
       "       [ 4.29936159e+01]])"
      ]
     },
     "execution_count": 98,
     "metadata": {},
     "output_type": "execute_result"
    }
   ],
   "source": [
    "for n in scaled_vol:\n",
    "    if n == 0:"
   ]
  },
  {
   "cell_type": "code",
   "execution_count": 92,
   "id": "f06da782-dc84-43b9-b853-7ba76808a654",
   "metadata": {},
   "outputs": [
    {
     "ename": "NameError",
     "evalue": "name 'img' is not defined",
     "output_type": "error",
     "traceback": [
      "\u001b[0;31m---------------------------------------------------------------------------\u001b[0m",
      "\u001b[0;31mNameError\u001b[0m                                 Traceback (most recent call last)",
      "Cell \u001b[0;32mIn[92], line 1\u001b[0m\n\u001b[0;32m----> 1\u001b[0m plt\u001b[38;5;241m.\u001b[39mimshow(\u001b[43mimg\u001b[49m, extent\u001b[38;5;241m=\u001b[39m[\u001b[38;5;241m0\u001b[39m, \u001b[38;5;241m16000\u001b[39m, \u001b[38;5;241m0\u001b[39m, \u001b[38;5;241m1\u001b[39m], aspect\u001b[38;5;241m=\u001b[39m\u001b[38;5;124m'\u001b[39m\u001b[38;5;124mauto\u001b[39m\u001b[38;5;124m'\u001b[39m)\n",
      "\u001b[0;31mNameError\u001b[0m: name 'img' is not defined"
     ]
    }
   ],
   "source": [
    "plt.imshow(img, extent=[0, 16000, 0, 1], aspect='auto')"
   ]
  },
  {
   "cell_type": "code",
   "execution_count": 95,
   "id": "33692fbe",
   "metadata": {},
   "outputs": [],
   "source": [
    "ibm_small_df[\"Realized_Volatility\"] = ibm_small_df[\"Log_Returns\"].rolling(window=252).std()"
   ]
  },
  {
   "cell_type": "code",
   "execution_count": 96,
   "id": "5e506336",
   "metadata": {},
   "outputs": [
    {
     "ename": "NameError",
     "evalue": "name 'sum_squared_log_returns' is not defined",
     "output_type": "error",
     "traceback": [
      "\u001b[0;31m---------------------------------------------------------------------------\u001b[0m",
      "\u001b[0;31mNameError\u001b[0m                                 Traceback (most recent call last)",
      "Cell \u001b[0;32mIn[96], line 1\u001b[0m\n\u001b[0;32m----> 1\u001b[0m realized_volatility \u001b[38;5;241m=\u001b[39m np\u001b[38;5;241m.\u001b[39msqrt(\u001b[43msum_squared_log_returns\u001b[49m)\n",
      "\u001b[0;31mNameError\u001b[0m: name 'sum_squared_log_returns' is not defined"
     ]
    }
   ],
   "source": [
    "realized_volatility = np.sqrt(sum_squared_log_returns)"
   ]
  },
  {
   "cell_type": "code",
   "execution_count": 93,
   "id": "468e38bc",
   "metadata": {},
   "outputs": [
    {
     "ename": "NameError",
     "evalue": "name 'realized_volatility' is not defined",
     "output_type": "error",
     "traceback": [
      "\u001b[0;31m---------------------------------------------------------------------------\u001b[0m",
      "\u001b[0;31mNameError\u001b[0m                                 Traceback (most recent call last)",
      "Cell \u001b[0;32mIn[93], line 1\u001b[0m\n\u001b[0;32m----> 1\u001b[0m \u001b[43mrealized_volatility\u001b[49m\n",
      "\u001b[0;31mNameError\u001b[0m: name 'realized_volatility' is not defined"
     ]
    }
   ],
   "source": [
    "realized_volatility"
   ]
  },
  {
   "cell_type": "code",
   "execution_count": null,
   "id": "5e49eec4",
   "metadata": {},
   "outputs": [],
   "source": []
  },
  {
   "cell_type": "code",
   "execution_count": null,
   "id": "83bfd10a",
   "metadata": {},
   "outputs": [],
   "source": []
  },
  {
   "cell_type": "code",
   "execution_count": null,
   "id": "30b5980c",
   "metadata": {},
   "outputs": [],
   "source": []
  },
  {
   "cell_type": "code",
   "execution_count": null,
   "id": "e90fec91",
   "metadata": {},
   "outputs": [],
   "source": []
  },
  {
   "cell_type": "code",
   "execution_count": null,
   "id": "781c0cd0",
   "metadata": {},
   "outputs": [],
   "source": []
  },
  {
   "cell_type": "code",
   "execution_count": null,
   "id": "1e210a63",
   "metadata": {},
   "outputs": [],
   "source": [
    "\n"
   ]
  },
  {
   "cell_type": "code",
   "execution_count": null,
   "id": "19010c9e",
   "metadata": {},
   "outputs": [],
   "source": []
  },
  {
   "cell_type": "code",
   "execution_count": null,
   "id": "d6b908d7",
   "metadata": {},
   "outputs": [],
   "source": []
  },
  {
   "cell_type": "code",
   "execution_count": null,
   "id": "118967a9",
   "metadata": {},
   "outputs": [],
   "source": []
  }
 ],
 "metadata": {
  "kernelspec": {
   "display_name": "Python 3 (ipykernel)",
   "language": "python",
   "name": "python3"
  },
  "language_info": {
   "codemirror_mode": {
    "name": "ipython",
    "version": 3
   },
   "file_extension": ".py",
   "mimetype": "text/x-python",
   "name": "python",
   "nbconvert_exporter": "python",
   "pygments_lexer": "ipython3",
   "version": "3.9.6"
  }
 },
 "nbformat": 4,
 "nbformat_minor": 5
}
