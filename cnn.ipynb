{
 "cells": [
  {
   "cell_type": "code",
   "execution_count": 1,
   "id": "4d64c6bc-4354-4bcd-ae1f-7ad7ccccc34c",
   "metadata": {},
   "outputs": [
    {
     "name": "stderr",
     "output_type": "stream",
     "text": [
      "/Users/nicolasbuhringer/Library/Python/3.9/lib/python/site-packages/urllib3/__init__.py:35: NotOpenSSLWarning: urllib3 v2 only supports OpenSSL 1.1.1+, currently the 'ssl' module is compiled with 'LibreSSL 2.8.3'. See: https://github.com/urllib3/urllib3/issues/3020\n",
      "  warnings.warn(\n"
     ]
    }
   ],
   "source": [
    "import pandas as pd\n",
    "import numpy as np\n",
    "import tensorflow.keras as tf"
   ]
  },
  {
   "cell_type": "code",
   "execution_count": null,
   "id": "1e18c438-344e-4586-82a3-7910c9d8cf10",
   "metadata": {},
   "outputs": [],
   "source": [
    "# from google.colab import drive\n",
    "# drive.mount('/content/drive')"
   ]
  },
  {
   "cell_type": "code",
   "execution_count": null,
   "id": "ec285b9e-d091-4298-abbf-8d197f2a08a8",
   "metadata": {},
   "outputs": [],
   "source": [
    "# import os\n",
    "\n",
    "# os.chdir allows you to change directories, like cd in the Terminal\n",
    "# os.chdir('/content/drive/MyDrive/Colab Notebooks/data-cifar-classification')"
   ]
  },
  {
   "cell_type": "code",
   "execution_count": null,
   "id": "28e586ce-df8c-4b84-8f3a-9d356917e2dd",
   "metadata": {},
   "outputs": [],
   "source": [
    "# (images_train, labels_train), (images_test, labels_test)"
   ]
  },
  {
   "cell_type": "code",
   "execution_count": null,
   "id": "bf960a4c-8c6a-4742-a8dd-c46cdd280b9c",
   "metadata": {},
   "outputs": [],
   "source": [
    "# (50000, 32, 32, 3)"
   ]
  },
  {
   "cell_type": "code",
   "execution_count": null,
   "id": "f6886f4f-7c24-4988-8b3f-37f409083f31",
   "metadata": {},
   "outputs": [],
   "source": [
    "### Normalizing pixels' intensities\n",
    "X_train = images_train / 255.\n",
    "X_train_small = images_train_small / 255.\n",
    "X_test = images_test / 255.\n",
    "X_test_small = images_test_small / 255."
   ]
  },
  {
   "cell_type": "code",
   "execution_count": 2,
   "id": "63c54bd4-2d0e-4acf-a410-840b6c8605cc",
   "metadata": {},
   "outputs": [],
   "source": [
    "from tensorflow.keras import Sequential, layers\n",
    "from tensorflow.keras.layers import Conv2D, MaxPooling2D, Flatten, Dropout, Dense\n",
    "\n",
    "def initialize_model():\n",
    "    \n",
    "    model = Sequential()\n",
    "    \n",
    "    model.add(Conv2D(16, (3, 3), activation = 'relu', padding = 'same', input_shape=(32, 32, 3)))\n",
    "    model.add(MaxPooling2D((2, 2)))\n",
    "    \n",
    "    model.add(Dropout(0.2))\n",
    "    \n",
    "    model.add(Conv2D(32, (3, 3), activation = 'relu', padding = 'same'))\n",
    "    model.add(MaxPooling2D((2, 2)))\n",
    "    \n",
    "    model.add(Dropout(0.2))\n",
    "    \n",
    "    model.add(Conv2D(64, (2, 2), activation = 'relu', padding = 'same'))\n",
    "    model.add(Dropout(0.3))\n",
    "    model.add(MaxPooling2D((2, 2)))\n",
    "    \n",
    "    model.add(Flatten())\n",
    "    model.add(Dense(100, activation = 'relu'))\n",
    "    model.add(Dropout(0.4))\n",
    "    model.add(Dense(1, activation = 'linear'))\n",
    "    \n",
    "    return model"
   ]
  },
  {
   "cell_type": "code",
   "execution_count": null,
   "id": "731cb73b-89f4-4f28-97e3-448ff724f2fd",
   "metadata": {},
   "outputs": [],
   "source": [
    "# ——— CNN Version 2: Common Tricks\n",
    "\n",
    "model = Sequential()\n",
    "model.add(layers.Conv2D(16, (3,3), input_shape=(28, 28, 1), padding='same', activation=\"relu\"))\n",
    "model.add(layers.MaxPool2D(pool_size=(2,2)))\n",
    "model.add(layers.Conv2D(32, (2,2), padding='same', activation=\"relu\"))\n",
    "model.add(layers.MaxPool2D(pool_size=(2,2))) \n",
    "model.add(layers.Flatten())\n",
    "model.add(layers.Dense(50, activation='relu')) # intermediate layer\n",
    "model.add(layers.Dense(10, activation='softmax'))"
   ]
  },
  {
   "cell_type": "code",
   "execution_count": null,
   "id": "9e759b03-2b3f-4a40-a00d-9b5aca4b4347",
   "metadata": {},
   "outputs": [],
   "source": [
    "model = initialize_model()\n",
    "model.summary()"
   ]
  },
  {
   "cell_type": "code",
   "execution_count": null,
   "id": "2bfd4add-9626-4dc2-bac5-bab0c36469fd",
   "metadata": {},
   "outputs": [],
   "source": [
    "from tensorflow.keras import optimizers\n",
    "\n",
    "def compile_model(model):\n",
    "    model.compile(loss = 'mse',\n",
    "                  optimizer = 'adam',\n",
    "                  metrics = ['mae'])\n",
    "    return model"
   ]
  },
  {
   "cell_type": "code",
   "execution_count": null,
   "id": "1bf3df49-9c09-4373-9948-ca2f5d99a67d",
   "metadata": {},
   "outputs": [],
   "source": [
    "from tensorflow.keras.callbacks import EarlyStopping\n",
    "\n",
    "model_small = initialize_model()\n",
    "model_small = compile_model(model)\n",
    "\n",
    "es = EarlyStopping(patience = 5, verbose = 2)\n",
    "\n",
    "history_small = model_small.fit(X_train_small, y_train_small, \n",
    "                    validation_split = 0.3,\n",
    "                    callbacks = [es], \n",
    "                    epochs = 100, \n",
    "                    batch_size = 64)"
   ]
  },
  {
   "cell_type": "code",
   "execution_count": null,
   "id": "fcd0834c-5662-400e-bdc0-c50fe6452699",
   "metadata": {},
   "outputs": [],
   "source": [
    "def plot_history(history, title='', axs=None, exp_name=\"\"):\n",
    "    if axs is not None:\n",
    "        ax1, ax2 = axs\n",
    "    else:\n",
    "        f, (ax1, ax2) = plt.subplots(1, 2, figsize=(12, 4))\n",
    "    \n",
    "    if len(exp_name) > 0 and exp_name[0] != '_':\n",
    "        exp_name = '_' + exp_name\n",
    "    ax1.plot(history.history['loss'], label = 'train' + exp_name)\n",
    "    ax1.plot(history.history['val_loss'], label = 'val' + exp_name)\n",
    "    ax1.set_ylim(0., 2.2)\n",
    "    ax1.set_title('loss')\n",
    "    ax1.legend()\n",
    "\n",
    "    ax2.plot(history.history['accuracy'], label='train accuracy'  + exp_name)\n",
    "    ax2.plot(history.history['val_accuracy'], label='val accuracy'  + exp_name)\n",
    "    ax2.set_ylim(0.25, 1.)\n",
    "    ax2.set_title('Accuracy')\n",
    "    ax2.legend()\n",
    "    return (ax1, ax2)"
   ]
  },
  {
   "cell_type": "code",
   "execution_count": null,
   "id": "5c7b5d49-2cb8-4d72-8cb7-f890545b6323",
   "metadata": {},
   "outputs": [],
   "source": [
    "plot_history(history_small)\n",
    "plt.show()"
   ]
  },
  {
   "cell_type": "code",
   "execution_count": null,
   "id": "3e696991-8edd-480f-b524-0c0b3e9062b7",
   "metadata": {},
   "outputs": [],
   "source": [
    "res = model.evaluate(X_test, y_test, verbose = 0)\n",
    "\n",
    "print(f'The accuracy is {res[1]*100:.3f}% compared to a chance level of {1./len(labels)*100}%')"
   ]
  },
  {
   "cell_type": "markdown",
   "id": "673eef3a-14aa-4ce3-8c09-a270a0d91a58",
   "metadata": {},
   "source": [
    "# Data Augmentation??"
   ]
  },
  {
   "cell_type": "code",
   "execution_count": null,
   "id": "6678acec-8718-4f57-b0b7-fa2053fe0b35",
   "metadata": {},
   "outputs": [],
   "source": [
    "from tensorflow.keras.preprocessing.image import ImageDataGenerator\n",
    "\n",
    "datagen = ImageDataGenerator(\n",
    "    featurewise_center = False,\n",
    "    featurewise_std_normalization = False,\n",
    "    rotation_range = 10,\n",
    "    width_shift_range = 0.1,\n",
    "    height_shift_range = 0.1,\n",
    "    horizontal_flip = True,\n",
    "    zoom_range = (0.8, 1.2),\n",
    "    ) \n",
    "\n",
    "datagen.fit(X_train)\n",
    "datagen"
   ]
  }
 ],
 "metadata": {
  "kernelspec": {
   "display_name": "Python 3 (ipykernel)",
   "language": "python",
   "name": "python3"
  },
  "language_info": {
   "codemirror_mode": {
    "name": "ipython",
    "version": 3
   },
   "file_extension": ".py",
   "mimetype": "text/x-python",
   "name": "python",
   "nbconvert_exporter": "python",
   "pygments_lexer": "ipython3",
   "version": "3.9.6"
  }
 },
 "nbformat": 4,
 "nbformat_minor": 5
}
