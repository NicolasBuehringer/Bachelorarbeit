{
 "cells": [
  {
   "cell_type": "code",
   "execution_count": 47,
   "id": "179e2cf8-d65f-4986-a879-5a167cbd2871",
   "metadata": {},
   "outputs": [],
   "source": [
    "import pandas as pd\n",
    "import numpy as np\n",
    "import matplotlib.pyplot as plt\n",
    "from sklearn.preprocessing import MinMaxScaler\n",
    "\n",
    "pd.options.mode.chained_assignment = None"
   ]
  },
  {
   "cell_type": "code",
   "execution_count": 2,
   "id": "393b5294-937a-4776-9551-d584e3b4bd57",
   "metadata": {},
   "outputs": [],
   "source": [
    "ibm_df = pd.read_csv(\"data/3Stocks/IBM_1min.csv\")\n",
    "jnj_df = pd.read_csv(\"data/3Stocks/JNJ_1min.csv\")\n",
    "wmt_df = pd.read_csv(\"data/3Stocks/WMT_1min.csv\")"
   ]
  },
  {
   "cell_type": "code",
   "execution_count": 3,
   "id": "95c895cf-eefb-4139-825f-512fdd69334f",
   "metadata": {},
   "outputs": [
    {
     "name": "stdout",
     "output_type": "stream",
     "text": [
      "(958596, 8) (958596, 8) (958596, 8)\n"
     ]
    }
   ],
   "source": [
    "print(ibm_df.shape, jnj_df.shape, wmt_df.shape)"
   ]
  },
  {
   "cell_type": "code",
   "execution_count": 25,
   "id": "ebe29c65-4cc3-47da-9752-24077bb1a10e",
   "metadata": {},
   "outputs": [],
   "source": [
    "ibm_small_df = ibm_df.iloc[:50000]"
   ]
  },
  {
   "cell_type": "code",
   "execution_count": 10,
   "id": "1c8fe10f-b4d0-4bad-9346-be1fc651f8da",
   "metadata": {},
   "outputs": [
    {
     "data": {
      "text/plain": [
       "381"
      ]
     },
     "execution_count": 10,
     "metadata": {},
     "output_type": "execute_result"
    }
   ],
   "source": [
    "5*60+25+56"
   ]
  },
  {
   "cell_type": "code",
   "execution_count": 11,
   "id": "e208251c-618d-4a06-9c49-fc1d7266d58a",
   "metadata": {},
   "outputs": [
    {
     "data": {
      "text/plain": [
       "1523"
      ]
     },
     "execution_count": 11,
     "metadata": {},
     "output_type": "execute_result"
    }
   ],
   "source": [
    "380+381+381+381"
   ]
  },
  {
   "cell_type": "markdown",
   "id": "11cfaf84-0844-4470-8ee3-42d90edcdf24",
   "metadata": {},
   "source": [
    "2010-01-04: 9:36:00 - 15:55:00\n",
    "2010-01-05: 9:35:00 - 15:55:00\n",
    "2010-01-06: 9:35:00 - 15:55:00"
   ]
  },
  {
   "cell_type": "code",
   "execution_count": 12,
   "id": "6c839c6a",
   "metadata": {},
   "outputs": [
    {
     "data": {
      "text/plain": [
       "Date Time    2010-01-07 15:55:00\n",
       "Open                     83.8285\n",
       "High                     83.8673\n",
       "Low                      83.8272\n",
       "Close                    83.8414\n",
       "Volume                   43250.0\n",
       "Date                  2010-01-07\n",
       "Time                    15:55:00\n",
       "Name: 1523, dtype: object"
      ]
     },
     "execution_count": 12,
     "metadata": {},
     "output_type": "execute_result"
    }
   ],
   "source": [
    "ibm_small_df.iloc[1523]"
   ]
  },
  {
   "cell_type": "code",
   "execution_count": 26,
   "id": "9171c4c6",
   "metadata": {},
   "outputs": [],
   "source": [
    "ibm_small_df['Date Time'] = pd.to_datetime(ibm_small_df['Date Time'])"
   ]
  },
  {
   "cell_type": "code",
   "execution_count": 27,
   "id": "26dacaf3",
   "metadata": {},
   "outputs": [],
   "source": [
    "ibm_small_df['Log_Returns'] = np.log(ibm_small_df['Close'] / ibm_small_df['Close'].shift(1))"
   ]
  },
  {
   "cell_type": "code",
   "execution_count": 28,
   "id": "b0e9c404",
   "metadata": {},
   "outputs": [],
   "source": [
    "ibm_small_df.dropna(inplace=True)"
   ]
  },
  {
   "cell_type": "code",
   "execution_count": 29,
   "id": "6ba17466-ba48-4df4-a700-2f1de634cac2",
   "metadata": {},
   "outputs": [
    {
     "data": {
      "text/html": [
       "<div>\n",
       "<style scoped>\n",
       "    .dataframe tbody tr th:only-of-type {\n",
       "        vertical-align: middle;\n",
       "    }\n",
       "\n",
       "    .dataframe tbody tr th {\n",
       "        vertical-align: top;\n",
       "    }\n",
       "\n",
       "    .dataframe thead th {\n",
       "        text-align: right;\n",
       "    }\n",
       "</style>\n",
       "<table border=\"1\" class=\"dataframe\">\n",
       "  <thead>\n",
       "    <tr style=\"text-align: right;\">\n",
       "      <th></th>\n",
       "      <th>Date Time</th>\n",
       "      <th>Open</th>\n",
       "      <th>High</th>\n",
       "      <th>Low</th>\n",
       "      <th>Close</th>\n",
       "      <th>Volume</th>\n",
       "      <th>Date</th>\n",
       "      <th>Time</th>\n",
       "      <th>Log_Returns</th>\n",
       "    </tr>\n",
       "  </thead>\n",
       "  <tbody>\n",
       "    <tr>\n",
       "      <th>1</th>\n",
       "      <td>2010-01-04 09:36:00</td>\n",
       "      <td>85.2271</td>\n",
       "      <td>85.4732</td>\n",
       "      <td>85.2142</td>\n",
       "      <td>85.4343</td>\n",
       "      <td>65921.0</td>\n",
       "      <td>2010-01-04</td>\n",
       "      <td>09:36:00</td>\n",
       "      <td>0.002503</td>\n",
       "    </tr>\n",
       "    <tr>\n",
       "      <th>2</th>\n",
       "      <td>2010-01-04 09:37:00</td>\n",
       "      <td>85.4214</td>\n",
       "      <td>85.4732</td>\n",
       "      <td>85.3048</td>\n",
       "      <td>85.4680</td>\n",
       "      <td>60876.0</td>\n",
       "      <td>2010-01-04</td>\n",
       "      <td>09:37:00</td>\n",
       "      <td>0.000394</td>\n",
       "    </tr>\n",
       "    <tr>\n",
       "      <th>3</th>\n",
       "      <td>2010-01-04 09:38:00</td>\n",
       "      <td>85.4732</td>\n",
       "      <td>85.5250</td>\n",
       "      <td>85.4279</td>\n",
       "      <td>85.5056</td>\n",
       "      <td>36812.0</td>\n",
       "      <td>2010-01-04</td>\n",
       "      <td>09:38:00</td>\n",
       "      <td>0.000440</td>\n",
       "    </tr>\n",
       "    <tr>\n",
       "      <th>4</th>\n",
       "      <td>2010-01-04 09:39:00</td>\n",
       "      <td>85.4946</td>\n",
       "      <td>85.5056</td>\n",
       "      <td>85.4214</td>\n",
       "      <td>85.4538</td>\n",
       "      <td>29232.0</td>\n",
       "      <td>2010-01-04</td>\n",
       "      <td>09:39:00</td>\n",
       "      <td>-0.000606</td>\n",
       "    </tr>\n",
       "    <tr>\n",
       "      <th>5</th>\n",
       "      <td>2010-01-04 09:40:00</td>\n",
       "      <td>85.4732</td>\n",
       "      <td>85.5250</td>\n",
       "      <td>85.4214</td>\n",
       "      <td>85.4214</td>\n",
       "      <td>33407.0</td>\n",
       "      <td>2010-01-04</td>\n",
       "      <td>09:40:00</td>\n",
       "      <td>-0.000379</td>\n",
       "    </tr>\n",
       "    <tr>\n",
       "      <th>...</th>\n",
       "      <td>...</td>\n",
       "      <td>...</td>\n",
       "      <td>...</td>\n",
       "      <td>...</td>\n",
       "      <td>...</td>\n",
       "      <td>...</td>\n",
       "      <td>...</td>\n",
       "      <td>...</td>\n",
       "      <td>...</td>\n",
       "    </tr>\n",
       "    <tr>\n",
       "      <th>49995</th>\n",
       "      <td>2010-07-13 10:59:00</td>\n",
       "      <td>84.7560</td>\n",
       "      <td>84.7756</td>\n",
       "      <td>84.7233</td>\n",
       "      <td>84.7429</td>\n",
       "      <td>10774.0</td>\n",
       "      <td>2010-07-13</td>\n",
       "      <td>10:59:00</td>\n",
       "      <td>-0.000155</td>\n",
       "    </tr>\n",
       "    <tr>\n",
       "      <th>49996</th>\n",
       "      <td>2010-07-13 11:00:00</td>\n",
       "      <td>84.7429</td>\n",
       "      <td>84.7821</td>\n",
       "      <td>84.7429</td>\n",
       "      <td>84.7756</td>\n",
       "      <td>9676.0</td>\n",
       "      <td>2010-07-13</td>\n",
       "      <td>11:00:00</td>\n",
       "      <td>0.000386</td>\n",
       "    </tr>\n",
       "    <tr>\n",
       "      <th>49997</th>\n",
       "      <td>2010-07-13 11:01:00</td>\n",
       "      <td>84.7821</td>\n",
       "      <td>84.8083</td>\n",
       "      <td>84.7821</td>\n",
       "      <td>84.8017</td>\n",
       "      <td>36023.0</td>\n",
       "      <td>2010-07-13</td>\n",
       "      <td>11:01:00</td>\n",
       "      <td>0.000308</td>\n",
       "    </tr>\n",
       "    <tr>\n",
       "      <th>49998</th>\n",
       "      <td>2010-07-13 11:02:00</td>\n",
       "      <td>84.8037</td>\n",
       "      <td>84.8083</td>\n",
       "      <td>84.7756</td>\n",
       "      <td>84.7952</td>\n",
       "      <td>23608.0</td>\n",
       "      <td>2010-07-13</td>\n",
       "      <td>11:02:00</td>\n",
       "      <td>-0.000077</td>\n",
       "    </tr>\n",
       "    <tr>\n",
       "      <th>49999</th>\n",
       "      <td>2010-07-13 11:03:00</td>\n",
       "      <td>84.7887</td>\n",
       "      <td>84.7887</td>\n",
       "      <td>84.7495</td>\n",
       "      <td>84.7625</td>\n",
       "      <td>8337.0</td>\n",
       "      <td>2010-07-13</td>\n",
       "      <td>11:03:00</td>\n",
       "      <td>-0.000386</td>\n",
       "    </tr>\n",
       "  </tbody>\n",
       "</table>\n",
       "<p>49999 rows × 9 columns</p>\n",
       "</div>"
      ],
      "text/plain": [
       "                Date Time     Open     High      Low    Close   Volume  \\\n",
       "1     2010-01-04 09:36:00  85.2271  85.4732  85.2142  85.4343  65921.0   \n",
       "2     2010-01-04 09:37:00  85.4214  85.4732  85.3048  85.4680  60876.0   \n",
       "3     2010-01-04 09:38:00  85.4732  85.5250  85.4279  85.5056  36812.0   \n",
       "4     2010-01-04 09:39:00  85.4946  85.5056  85.4214  85.4538  29232.0   \n",
       "5     2010-01-04 09:40:00  85.4732  85.5250  85.4214  85.4214  33407.0   \n",
       "...                   ...      ...      ...      ...      ...      ...   \n",
       "49995 2010-07-13 10:59:00  84.7560  84.7756  84.7233  84.7429  10774.0   \n",
       "49996 2010-07-13 11:00:00  84.7429  84.7821  84.7429  84.7756   9676.0   \n",
       "49997 2010-07-13 11:01:00  84.7821  84.8083  84.7821  84.8017  36023.0   \n",
       "49998 2010-07-13 11:02:00  84.8037  84.8083  84.7756  84.7952  23608.0   \n",
       "49999 2010-07-13 11:03:00  84.7887  84.7887  84.7495  84.7625   8337.0   \n",
       "\n",
       "             Date      Time  Log_Returns  \n",
       "1      2010-01-04  09:36:00     0.002503  \n",
       "2      2010-01-04  09:37:00     0.000394  \n",
       "3      2010-01-04  09:38:00     0.000440  \n",
       "4      2010-01-04  09:39:00    -0.000606  \n",
       "5      2010-01-04  09:40:00    -0.000379  \n",
       "...           ...       ...          ...  \n",
       "49995  2010-07-13  10:59:00    -0.000155  \n",
       "49996  2010-07-13  11:00:00     0.000386  \n",
       "49997  2010-07-13  11:01:00     0.000308  \n",
       "49998  2010-07-13  11:02:00    -0.000077  \n",
       "49999  2010-07-13  11:03:00    -0.000386  \n",
       "\n",
       "[49999 rows x 9 columns]"
      ]
     },
     "execution_count": 29,
     "metadata": {},
     "output_type": "execute_result"
    }
   ],
   "source": [
    "ibm_small_df"
   ]
  },
  {
   "cell_type": "code",
   "execution_count": null,
   "id": "993d1050-e205-4b85-ba4a-6976480b5967",
   "metadata": {},
   "outputs": [],
   "source": []
  },
  {
   "cell_type": "code",
   "execution_count": 31,
   "id": "ee225d85-ee1e-4e10-a4c2-40704df38935",
   "metadata": {},
   "outputs": [],
   "source": [
    "daily_log_returns = ibm_small_df.resample('D', on='Date Time').sum()[\"Log_Returns\"]"
   ]
  },
  {
   "cell_type": "code",
   "execution_count": 50,
   "id": "0f256155-1235-417a-891c-5127691df6f6",
   "metadata": {},
   "outputs": [],
   "source": [
    "mm_scaler = MinMaxScaler(feature_range=(-255,255))"
   ]
  },
  {
   "cell_type": "code",
   "execution_count": 60,
   "id": "47647e5b-16d0-4fc2-a1f3-f8d37b4e5919",
   "metadata": {},
   "outputs": [
    {
     "data": {
      "text/plain": [
       "array([[-2],\n",
       "       [ 0],\n",
       "       [ 1],\n",
       "       [ 2]])"
      ]
     },
     "execution_count": 60,
     "metadata": {},
     "output_type": "execute_result"
    }
   ],
   "source": [
    "np.reshape(np.array([-2,0,1,2]), (-1,1))"
   ]
  },
  {
   "cell_type": "code",
   "execution_count": 61,
   "id": "a9d09c6c-686d-4379-b546-4feaa68b35fa",
   "metadata": {},
   "outputs": [
    {
     "data": {
      "text/plain": [
       "array([[-255. ],\n",
       "       [   0. ],\n",
       "       [ 127.5],\n",
       "       [ 255. ]])"
      ]
     },
     "execution_count": 61,
     "metadata": {},
     "output_type": "execute_result"
    }
   ],
   "source": [
    "mm_scaler.fit_transform(np.reshape(np.array([-2,0,1,2]), (-1,1)))"
   ]
  },
  {
   "cell_type": "code",
   "execution_count": 13,
   "id": "33692fbe",
   "metadata": {},
   "outputs": [],
   "source": [
    "ibm_small_df[\"Realized_Volatility\"] = ibm_small_df[\"Log_Returns\"].rolling(window=252).std()"
   ]
  },
  {
   "cell_type": "code",
   "execution_count": 15,
   "id": "5e506336",
   "metadata": {},
   "outputs": [],
   "source": [
    "realized_volatility = np.sqrt(sum_squared_log_returns)"
   ]
  },
  {
   "cell_type": "code",
   "execution_count": 17,
   "id": "468e38bc",
   "metadata": {},
   "outputs": [
    {
     "data": {
      "text/plain": [
       "0.11951556156374013"
      ]
     },
     "execution_count": 17,
     "metadata": {},
     "output_type": "execute_result"
    }
   ],
   "source": [
    "realized_volatility"
   ]
  },
  {
   "cell_type": "code",
   "execution_count": null,
   "id": "5e49eec4",
   "metadata": {},
   "outputs": [],
   "source": []
  },
  {
   "cell_type": "code",
   "execution_count": null,
   "id": "83bfd10a",
   "metadata": {},
   "outputs": [],
   "source": []
  },
  {
   "cell_type": "code",
   "execution_count": null,
   "id": "30b5980c",
   "metadata": {},
   "outputs": [],
   "source": []
  },
  {
   "cell_type": "code",
   "execution_count": null,
   "id": "e90fec91",
   "metadata": {},
   "outputs": [],
   "source": []
  },
  {
   "cell_type": "code",
   "execution_count": null,
   "id": "781c0cd0",
   "metadata": {},
   "outputs": [],
   "source": []
  },
  {
   "cell_type": "code",
   "execution_count": null,
   "id": "1e210a63",
   "metadata": {},
   "outputs": [],
   "source": [
    "\n"
   ]
  },
  {
   "cell_type": "code",
   "execution_count": null,
   "id": "19010c9e",
   "metadata": {},
   "outputs": [],
   "source": []
  },
  {
   "cell_type": "code",
   "execution_count": null,
   "id": "d6b908d7",
   "metadata": {},
   "outputs": [],
   "source": []
  },
  {
   "cell_type": "code",
   "execution_count": null,
   "id": "118967a9",
   "metadata": {},
   "outputs": [],
   "source": []
  }
 ],
 "metadata": {
  "kernelspec": {
   "display_name": "Python 3 (ipykernel)",
   "language": "python",
   "name": "python3"
  },
  "language_info": {
   "codemirror_mode": {
    "name": "ipython",
    "version": 3
   },
   "file_extension": ".py",
   "mimetype": "text/x-python",
   "name": "python",
   "nbconvert_exporter": "python",
   "pygments_lexer": "ipython3",
   "version": "3.9.6"
  }
 },
 "nbformat": 4,
 "nbformat_minor": 5
}
